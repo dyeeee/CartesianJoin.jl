{
 "cells": [
  {
   "cell_type": "code",
   "execution_count": 1,
   "metadata": {},
   "outputs": [],
   "source": [
    "using InMemoryDatasets\n",
    "import InMemoryDatasets as IMD\n",
    "using BenchmarkTools\n",
    "using TimerOutputs\n",
    "using DLMReader\n",
    "#using Revise\n",
    "using Random"
   ]
  },
  {
   "cell_type": "code",
   "execution_count": 3,
   "metadata": {},
   "outputs": [
    {
     "data": {
      "text/plain": [
       "cartesianjoin_timer (generic function with 1 method)"
      ]
     },
     "metadata": {},
     "output_type": "display_data"
    }
   ],
   "source": [
    "include(\"../src/main.jl\")"
   ]
  },
  {
   "cell_type": "markdown",
   "metadata": {},
   "source": [
    "# Data"
   ]
  },
  {
   "cell_type": "code",
   "execution_count": 2,
   "metadata": {},
   "outputs": [
    {
     "name": "stdout",
     "output_type": "stream",
     "text": [
      "dsl = Dataset(xid = [111, 222, 333, 444, 222], x1 = [1, 2, 1, 4, 3], x2 = [-1.2, -3, 2.1, -3.5, 2.8], x4 = [\"abcd\", \"efgh\", \"ijkl\", \"mnop\", \"qrst\"]) = 5×4 Dataset\n",
      " Row │ xid       x1        x2        x4\n",
      "     │ identity  identity  identity  identity\n",
      "     │ Int64?    Int64?    Float64?  String?\n",
      "─────┼────────────────────────────────────────\n",
      "   1 │      111         1      -1.2  abcd\n",
      "   2 │      222         2      -3.0  efgh\n",
      "   3 │      333         1       2.1  ijkl\n",
      "   4 │      444         4      -3.5  mnop\n",
      "   5 │      222         3       2.8  qrst\n",
      "dsr = Dataset(yid = [111, 111, 222, 444, 333], y1 = [3, 3, 3, 3, 3], y2 = [0, 0, -3, 1, 2], y4 = [\"abc\", \"abcd\", \"efg\", \"mnop\", \"qrst\"]) = 5×4 Dataset\n",
      " Row │ yid       y1        y2        y4\n",
      "     │ identity  identity  identity  identity\n",
      "     │ Int64?    Int64?    Int64?    String?\n",
      "─────┼────────────────────────────────────────\n",
      "   1 │      111         3         0  abc\n",
      "   2 │      111         3         0  abcd\n",
      "   3 │      222         3        -3  efg\n",
      "   4 │      444         3         1  mnop\n",
      "   5 │      333         3         2  qrst\n"
     ]
    }
   ],
   "source": [
    "Random.seed!(792)\n",
    "@show dsl = Dataset(xid = [111,222,333,444,222], \n",
    "                    x1 = [1,2,1,4,3], \n",
    "                    x2 = [-1.2,-3,2.1,-3.5,2.8],\n",
    "                    #x3 = [Date(\"2019-10-03\"), Date(\"2019-09-30\"), Date(\"2019-10-04\"), Date(\"2019-10-03\"), Date(\"2019-10-03\")],\n",
    "                    x4 = [\"abcd\",\"efgh\",\"ijkl\",\"mnop\",\"qrst\"]);\n",
    "\n",
    "@show dsr = Dataset(yid = [111,111,222,444,333],\n",
    "                    y1 = [3,3,3,3,3],\n",
    "                    y2 = [0,0, -3,1,2],\n",
    "                    #y3 = [Date(\"2019-10-01\"),Date(\"2019-10-01\"), Date(\"2019-09-30\"), Date(\"2019-10-05\"), Date(\"2019-10-05\")],\n",
    "                    y4 = [\"abc\",\"abcd\",\"efg\",\"mnop\",\"qrst\"]);\n",
    "\n",
    "dsl_big = Dataset(rand(10^3, 5), :auto);\n",
    "modify!(dsl_big,[:x1,:x2,:x3] .=> byrow(x -> (x*100)));\n",
    "modify!(dsl_big,[:x1,:x2,:x3] .=> byrow(round), [:x1,:x2,:x3] .=> byrow(Int));\n",
    "modify!(dsl_big,[:x3] .=> byrow(string));\n",
    "\n",
    "dsr_big = Dataset(rand(10^3, 5), :auto);\n",
    "modify!(dsr_big,[:x1,:x2,:x3] .=> byrow(x -> (x*100)));\n",
    "modify!(dsr_big,[:x1,:x2,:x3] .=> byrow(round), [:x1,:x2,:x3] .=> byrow(Int));\n",
    "modify!(dsr_big,[:x3] .=> byrow(string));\n",
    "function x2y(str)\n",
    "  replace(str,'x' => 'y')\n",
    "end\n",
    "rename!(x2y,dsr_big);\n",
    "\n",
    "dsl_big2 = Dataset(rand(10^4, 5), :auto);\n",
    "modify!(dsl_big2,[:x1,:x2,:x3] .=> byrow(x -> (x*100)));\n",
    "modify!(dsl_big2,[:x1,:x2,:x3] .=> byrow(round), [:x1,:x2,:x3] .=> byrow(Int));\n",
    "modify!(dsl_big2,[:x3] .=> byrow(string));\n",
    "\n",
    "dsr_big2 = Dataset(rand(10^4, 5), :auto);\n",
    "modify!(dsr_big2,[:x1,:x2,:x3] .=> byrow(x -> (x*100)));\n",
    "modify!(dsr_big2,[:x1,:x2,:x3] .=> byrow(round), [:x1,:x2,:x3] .=> byrow(Int));\n",
    "modify!(dsr_big2,[:x3] .=> byrow(string));\n",
    "function x2y(str)\n",
    "  replace(str,'x' => 'y')\n",
    "end\n",
    "rename!(x2y,dsr_big2);"
   ]
  },
  {
   "cell_type": "code",
   "execution_count": 44,
   "metadata": {},
   "outputs": [],
   "source": [
    "filewriter(\"../files/dsl_big.csv\", dsl_big)\n",
    "filewriter(\"../files/dsr_big.csv\", dsr_big)\n",
    "filewriter(\"../files/dsl_big2.csv\", dsl_big2)\n",
    "filewriter(\"../files/dsr_big2.csv\", dsr_big2)"
   ]
  },
  {
   "cell_type": "markdown",
   "metadata": {},
   "source": [
    "# Time & allocations"
   ]
  },
  {
   "cell_type": "markdown",
   "metadata": {},
   "source": [
    "## functions for join"
   ]
  },
  {
   "cell_type": "code",
   "execution_count": 4,
   "metadata": {},
   "outputs": [
    {
     "data": {
      "text/plain": [
       "fun3 (generic function with 1 method)"
      ]
     },
     "metadata": {},
     "output_type": "display_data"
    }
   ],
   "source": [
    "function fun1(x,y) \n",
    "  x <= y\n",
    "end\n",
    "\n",
    "function fun2(x,y) \n",
    "  x >= y\n",
    "end\n",
    "\n",
    "function fun3(x,y) \n",
    "  length(x) == length(y)\n",
    "end"
   ]
  },
  {
   "cell_type": "code",
   "execution_count": 43,
   "metadata": {},
   "outputs": [
    {
     "data": {
      "text/plain": [
       "8"
      ]
     },
     "metadata": {},
     "output_type": "display_data"
    }
   ],
   "source": [
    "Threads.nthreads()"
   ]
  },
  {
   "cell_type": "markdown",
   "metadata": {},
   "source": [
    "## small example"
   ]
  },
  {
   "cell_type": "code",
   "execution_count": 6,
   "metadata": {},
   "outputs": [
    {
     "data": {
      "text/html": [
       "<table class=\"data-set\"><thead><tr><th></th><th>xid</th><th>x1</th><th>x2</th><th>x4</th><th>y1</th><th>y2</th><th>y4</th><th>obs_id_left</th><th>obs_id_right</th></tr><th></th><th>identity</th><th>identity</th><th>identity</th><th>identity</th><th>identity</th><th>identity</th><th>identity</th><th>identity</th><th>identity</th></tr><tr><th></th><th title=\"Union{Missing, Int64}\">Int64?</th><th title=\"Union{Missing, Int64}\">Int64?</th><th title=\"Union{Missing, Float64}\">Float64?</th><th title=\"Union{Missing, String}\">String?</th><th title=\"Union{Missing, Int64}\">Int64?</th><th title=\"Union{Missing, Int64}\">Int64?</th><th title=\"Union{Missing, String}\">String?</th><th title=\"Union{Missing, Int32}\">Int32?</th><th title=\"Union{Missing, Int64}\">Int64?</th></tr></thead><tbody><p>5 rows × 9 columns</p><tr><th>1</th><td>111</td><td>1</td><td>-1.2</td><td>abcd</td><td>3</td><td>0</td><td>abc</td><td>1</td><td>1</td></tr><tr><th>2</th><td>111</td><td>1</td><td>-1.2</td><td>abcd</td><td>3</td><td>0</td><td>abcd</td><td>1</td><td>2</td></tr><tr><th>3</th><td>222</td><td>2</td><td>-3.0</td><td>efgh</td><td>3</td><td>-3</td><td>efg</td><td>2</td><td>3</td></tr><tr><th>4</th><td>333</td><td>1</td><td>2.1</td><td>ijkl</td><td>3</td><td>2</td><td>qrst</td><td>3</td><td>5</td></tr><tr><th>5</th><td>222</td><td>3</td><td>2.8</td><td>qrst</td><td>3</td><td>-3</td><td>efg</td><td>5</td><td>3</td></tr></tbody></table>"
      ],
      "text/latex": [
       "\\begin{tabular}{r|ccccccccc}\n",
       "\t& xid & x1 & x2 & x4 & y1 & y2 & y4 & obs\\_id\\_left & obs\\_id\\_right\\\\\n",
       "\t\\hline\n",
       "\t& identity & identity & identity & identity & identity & identity & identity & identity & identity\\\\\n",
       "\t\\hline\n",
       "\t& Int64? & Int64? & Float64? & String? & Int64? & Int64? & String? & Int32? & Int64?\\\\\n",
       "\t\\hline\n",
       "\t1 & 111 & 1 & -1.2 & abcd & 3 & 0 & abc & 1 & 1 \\\\\n",
       "\t2 & 111 & 1 & -1.2 & abcd & 3 & 0 & abcd & 1 & 2 \\\\\n",
       "\t3 & 222 & 2 & -3.0 & efgh & 3 & -3 & efg & 2 & 3 \\\\\n",
       "\t4 & 333 & 1 & 2.1 & ijkl & 3 & 2 & qrst & 3 & 5 \\\\\n",
       "\t5 & 222 & 3 & 2.8 & qrst & 3 & -3 & efg & 5 & 3 \\\\\n",
       "\\end{tabular}\n"
      ],
      "text/plain": [
       "\u001b[1m5×9 Dataset\u001b[0m\n",
       "\u001b[1m Row \u001b[0m│\u001b[1m xid      \u001b[0m\u001b[1m x1       \u001b[0m\u001b[1m x2       \u001b[0m\u001b[1m x4       \u001b[0m\u001b[1m y1       \u001b[0m\u001b[1m y2       \u001b[0m\u001b[1m y4       \u001b[0m\u001b[1m o\u001b[0m ⋯\n",
       "\u001b[1m     \u001b[0m│\u001b[90m identity \u001b[0m\u001b[90m identity \u001b[0m\u001b[90m identity \u001b[0m\u001b[90m identity \u001b[0m\u001b[90m identity \u001b[0m\u001b[90m identity \u001b[0m\u001b[90m identity \u001b[0m\u001b[90m i\u001b[0m ⋯\n",
       "\u001b[1m     \u001b[0m│\u001b[90m Int64?   \u001b[0m\u001b[90m Int64?   \u001b[0m\u001b[90m Float64? \u001b[0m\u001b[90m String?  \u001b[0m\u001b[90m Int64?   \u001b[0m\u001b[90m Int64?   \u001b[0m\u001b[90m String?  \u001b[0m\u001b[90m I\u001b[0m ⋯\n",
       "─────┼──────────────────────────────────────────────────────────────────────────\n",
       "   1 │      111         1      -1.2  abcd             3         0  abc         ⋯\n",
       "   2 │      111         1      -1.2  abcd             3         0  abcd\n",
       "   3 │      222         2      -3.0  efgh             3        -3  efg\n",
       "   4 │      333         1       2.1  ijkl             3         2  qrst\n",
       "   5 │      222         3       2.8  qrst             3        -3  efg         ⋯\n",
       "\u001b[36m                                                               2 columns omitted\u001b[0m"
      ]
     },
     "metadata": {},
     "output_type": "display_data"
    }
   ],
   "source": [
    "newds = cartesianjoin(dsl,dsr,on = [:xid=>:yid, :x1=>:y1=>fun1],\n",
    "            multiple_match=[false,false],\n",
    "            obs_id=true);\n",
    "newds"
   ]
  },
  {
   "cell_type": "markdown",
   "metadata": {},
   "source": [
    "## big example\n",
    "1000 rows * 1000 rows"
   ]
  },
  {
   "cell_type": "code",
   "execution_count": 9,
   "metadata": {},
   "outputs": [
    {
     "name": "stdout",
     "output_type": "stream",
     "text": [
      "\u001b[0m\u001b[1m ────────────────────────────────────────────────────────────────────────────────\u001b[22m\n",
      "\u001b[0m\u001b[1m                               \u001b[22m         Time                    Allocations      \n",
      "                               ───────────────────────   ────────────────────────\n",
      "       Tot / % measured:           7.29ms /  99.7%            304KiB /  99.3%    \n",
      "\n",
      " Section               ncalls     time    %tot     avg     alloc    %tot      avg\n",
      " ────────────────────────────────────────────────────────────────────────────────\n",
      " generate new ds            1   5.08ms   69.8%  5.08ms    242KiB   80.4%   242KiB\n",
      "   2-5 newds dsr            1   3.47ms   47.8%  3.47ms   97.0KiB   32.2%  97.0KiB\n",
      "     5.2 fill _res          4   3.28ms   45.1%   820μs     64.0B    0.0%    16.0B\n",
      "     5.1 init _res          4   64.7μs    0.9%  16.2μs   85.2KiB   28.3%  21.3KiB\n",
      "   2-1 left row count       1   1.02ms   14.0%  1.02ms   12.0KiB    4.0%  12.0KiB\n",
      "   2-2 left row _res        1    545μs    7.5%   545μs    128KiB   42.4%   128KiB\n",
      "     2.2 fill _res          5    386μs    5.3%  77.3μs   18.3KiB    6.1%  3.67KiB\n",
      "     2.1 init _res          5    128μs    1.8%  25.6μs    107KiB   35.5%  21.4KiB\n",
      "     2.3 push _res          5   3.75μs    0.1%   750ns     80.0B    0.0%    16.0B\n",
      "   2-3 newds dsl            1   27.8μs    0.4%  27.8μs   2.33KiB    0.8%  2.33KiB\n",
      " compute flag vector        1   2.19ms   30.2%  2.19ms   59.2KiB   19.6%  59.2KiB\n",
      "\u001b[0m\u001b[1m ────────────────────────────────────────────────────────────────────────────────\u001b[22m\n"
     ]
    }
   ],
   "source": [
    "newds = cartesianjoin_timer(dsl_big,dsr_big,\n",
    "        on = [:x1=>:y1, :x2=>:y2=>fun1, :x3=>:y3=>isless]);"
   ]
  },
  {
   "cell_type": "code",
   "execution_count": 35,
   "metadata": {},
   "outputs": [
    {
     "name": "stdout",
     "output_type": "stream",
     "text": [
      "  0.010510 seconds (644 allocations: 1.237 MiB)\n"
     ]
    },
    {
     "data": {
      "text/plain": [
       "2351"
      ]
     },
     "metadata": {},
     "output_type": "display_data"
    }
   ],
   "source": [
    "@time newds = cartesianjoin(dsl_big,dsr_big,\n",
    "        on = [:x1=>:y1=>isless,:x2=>:y2=>isless, :x3=>:y3],check = false);\n",
    "nrow(newds)"
   ]
  },
  {
   "cell_type": "markdown",
   "metadata": {},
   "source": [
    "## large example\n",
    "10000 rows * 10000 rows"
   ]
  },
  {
   "cell_type": "code",
   "execution_count": 38,
   "metadata": {},
   "outputs": [
    {
     "name": "stdout",
     "output_type": "stream",
     "text": [
      "\u001b[0m\u001b[1m ────────────────────────────────────────────────────────────────────────────────\u001b[22m\n",
      "\u001b[0m\u001b[1m                               \u001b[22m         Time                    Allocations      \n",
      "                               ───────────────────────   ────────────────────────\n",
      "       Tot / % measured:            618ms / 100.0%           21.8MiB / 100.0%    \n",
      "\n",
      " Section               ncalls     time    %tot     avg     alloc    %tot      avg\n",
      " ────────────────────────────────────────────────────────────────────────────────\n",
      " generate new ds            1    467ms   75.6%   467ms   21.2MiB   97.1%  21.2MiB\n",
      "   2-5 newds dsr            1    341ms   55.2%   341ms   2.78MiB   12.7%  2.78MiB\n",
      "     5.2 fill _res          4    340ms   55.0%  84.9ms     64.0B    0.0%    16.0B\n",
      "     5.1 init _res          4    793μs    0.1%   198μs   2.76MiB   12.7%   708KiB\n",
      "   2-1 left row count       1   98.7ms   16.0%  98.7ms    117KiB    0.5%   117KiB\n",
      "   2-2 left row _res        1   6.67ms    1.1%  6.67ms   3.49MiB   16.0%  3.49MiB\n",
      "     2.2 fill _res          5   5.38ms    0.9%  1.08ms   18.2KiB    0.1%  3.64KiB\n",
      "     2.1 init _res          5   1.24ms    0.2%   248μs   3.47MiB   15.9%   712KiB\n",
      "     2.3 push _res          5   6.34μs    0.0%  1.27μs     80.0B    0.0%    16.0B\n",
      "   2-3 newds dsl            1   42.3μs    0.0%  42.3μs   2.33KiB    0.0%  2.33KiB\n",
      " compute flag vector        1    151ms   24.4%   151ms    641KiB    2.9%   641KiB\n",
      "\u001b[0m\u001b[1m ────────────────────────────────────────────────────────────────────────────────\u001b[22m\n",
      "  0.652687 seconds (12.44 k allocations: 117.297 MiB, 2.33% gc time)\n"
     ]
    },
    {
     "data": {
      "text/plain": [
       "82777"
      ]
     },
     "metadata": {},
     "output_type": "display_data"
    }
   ],
   "source": [
    "@time nds = cartesianjoin_timer(dsl_big2,dsr_big2,\n",
    "              on = [:x1=>:y1, :x2=>:y2=>fun1, :x4=>:y4=>isless, :x4=>:y5=>fun2],\n",
    "              check=false,obs_id=[true,true]);\n",
    "nrow(nds)"
   ]
  },
  {
   "cell_type": "code",
   "execution_count": 31,
   "metadata": {},
   "outputs": [
    {
     "data": {
      "text/plain": [
       "BenchmarkTools.Trial: 8 samples with 1 evaluation.\n",
       " Range \u001b[90m(\u001b[39m\u001b[36m\u001b[1mmin\u001b[22m\u001b[39m … \u001b[35mmax\u001b[39m\u001b[90m):  \u001b[39m\u001b[36m\u001b[1m637.344 ms\u001b[22m\u001b[39m … \u001b[35m787.125 ms\u001b[39m  \u001b[90m┊\u001b[39m GC \u001b[90m(\u001b[39mmin … max\u001b[90m): \u001b[39m0.15% … 1.12%\n",
       " Time  \u001b[90m(\u001b[39m\u001b[34m\u001b[1mmedian\u001b[22m\u001b[39m\u001b[90m):     \u001b[39m\u001b[34m\u001b[1m660.708 ms               \u001b[22m\u001b[39m\u001b[90m┊\u001b[39m GC \u001b[90m(\u001b[39mmedian\u001b[90m):    \u001b[39m1.58%\n",
       " Time  \u001b[90m(\u001b[39m\u001b[32m\u001b[1mmean\u001b[22m\u001b[39m ± \u001b[32mσ\u001b[39m\u001b[90m):   \u001b[39m\u001b[32m\u001b[1m689.742 ms\u001b[22m\u001b[39m ± \u001b[32m 60.446 ms\u001b[39m  \u001b[90m┊\u001b[39m GC \u001b[90m(\u001b[39mmean ± σ\u001b[90m):  \u001b[39m5.21% ± 6.28%\n",
       "\n",
       "  \u001b[39m█\u001b[39m▁\u001b[39m \u001b[39m \u001b[39m \u001b[39m▁\u001b[34m \u001b[39m\u001b[39m \u001b[39m \u001b[39m \u001b[39m \u001b[39m \u001b[39m \u001b[39m▁\u001b[39m \u001b[39m \u001b[39m \u001b[39m \u001b[39m \u001b[39m \u001b[39m \u001b[32m \u001b[39m\u001b[39m \u001b[39m \u001b[39m \u001b[39m \u001b[39m \u001b[39m \u001b[39m \u001b[39m \u001b[39m \u001b[39m \u001b[39m \u001b[39m \u001b[39m \u001b[39m \u001b[39m \u001b[39m▁\u001b[39m \u001b[39m \u001b[39m \u001b[39m \u001b[39m \u001b[39m \u001b[39m \u001b[39m \u001b[39m \u001b[39m \u001b[39m \u001b[39m \u001b[39m▁\u001b[39m \u001b[39m \u001b[39m \u001b[39m \u001b[39m \u001b[39m \u001b[39m \u001b[39m \u001b[39m \u001b[39m▁\u001b[39m \u001b[39m \n",
       "  \u001b[39m█\u001b[39m█\u001b[39m▁\u001b[39m▁\u001b[39m▁\u001b[39m█\u001b[34m▁\u001b[39m\u001b[39m▁\u001b[39m▁\u001b[39m▁\u001b[39m▁\u001b[39m▁\u001b[39m▁\u001b[39m█\u001b[39m▁\u001b[39m▁\u001b[39m▁\u001b[39m▁\u001b[39m▁\u001b[39m▁\u001b[39m▁\u001b[32m▁\u001b[39m\u001b[39m▁\u001b[39m▁\u001b[39m▁\u001b[39m▁\u001b[39m▁\u001b[39m▁\u001b[39m▁\u001b[39m▁\u001b[39m▁\u001b[39m▁\u001b[39m▁\u001b[39m▁\u001b[39m▁\u001b[39m▁\u001b[39m▁\u001b[39m█\u001b[39m▁\u001b[39m▁\u001b[39m▁\u001b[39m▁\u001b[39m▁\u001b[39m▁\u001b[39m▁\u001b[39m▁\u001b[39m▁\u001b[39m▁\u001b[39m▁\u001b[39m▁\u001b[39m█\u001b[39m▁\u001b[39m▁\u001b[39m▁\u001b[39m▁\u001b[39m▁\u001b[39m▁\u001b[39m▁\u001b[39m▁\u001b[39m▁\u001b[39m█\u001b[39m \u001b[39m▁\n",
       "  637 ms\u001b[90m           Histogram: frequency by time\u001b[39m          787 ms \u001b[0m\u001b[1m<\u001b[22m\n",
       "\n",
       " Memory estimate\u001b[90m: \u001b[39m\u001b[33m121.10 MiB\u001b[39m, allocs estimate\u001b[90m: \u001b[39m\u001b[33m9222\u001b[39m."
      ]
     },
     "metadata": {},
     "output_type": "display_data"
    }
   ],
   "source": [
    "@benchmark cartesianjoin(dsl_big2,dsr_big2,\n",
    "              on = [:x1=>:y1=>isless,:x2=>:y2=>isless,:x3=>:y3,:x4=>:y4=>isless],\n",
    "              check=false,obs_id=[true,true])"
   ]
  },
  {
   "cell_type": "code",
   "execution_count": 40,
   "metadata": {},
   "outputs": [
    {
     "name": "stdout",
     "output_type": "stream",
     "text": [
      "  0.533631 seconds (537 allocations: 95.986 MiB, 27.18% gc time)\n"
     ]
    },
    {
     "data": {
      "text/plain": [
       "102"
      ]
     },
     "metadata": {},
     "output_type": "display_data"
    }
   ],
   "source": [
    "@time nds1 = cartesianjoin(dsl_big2,dsr_big2,on = [:x1=>:y1, :x2=>:y2, :x3=>:y3],\n",
    "check=false);\n",
    "nrow(nds1)"
   ]
  },
  {
   "cell_type": "code",
   "execution_count": 41,
   "metadata": {},
   "outputs": [
    {
     "name": "stdout",
     "output_type": "stream",
     "text": [
      "  0.024912 seconds (1.58 k allocations: 665.000 KiB)\n"
     ]
    },
    {
     "data": {
      "text/plain": [
       "102"
      ]
     },
     "metadata": {},
     "output_type": "display_data"
    }
   ],
   "source": [
    "@time nds2 = innerjoin(dsl_big2,dsr_big2,on = [:x1=>:y1, :x2=>:y2, :x3=>:y3],check=false);\n",
    "nrow(nds2)"
   ]
  },
  {
   "cell_type": "code",
   "execution_count": 42,
   "metadata": {},
   "outputs": [
    {
     "data": {
      "text/plain": [
       "true"
      ]
     },
     "metadata": {},
     "output_type": "display_data"
    }
   ],
   "source": [
    "isequal(nds1,nds2)"
   ]
  }
 ],
 "metadata": {
  "kernelspec": {
   "display_name": "Julia 1.7.3",
   "language": "julia",
   "name": "julia-1.7"
  },
  "language_info": {
   "file_extension": ".jl",
   "mimetype": "application/julia",
   "name": "julia",
   "version": "1.7.3"
  },
  "orig_nbformat": 4,
  "vscode": {
   "interpreter": {
    "hash": "31f2aee4e71d21fbe5cf8b01ff0e069b9275f58929596ceb00d14d90e3e16cd6"
   }
  }
 },
 "nbformat": 4,
 "nbformat_minor": 2
}
