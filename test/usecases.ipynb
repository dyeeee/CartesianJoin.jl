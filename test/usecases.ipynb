{
 "cells": [
  {
   "cell_type": "code",
   "execution_count": 1,
   "metadata": {},
   "outputs": [],
   "source": [
    "using InMemoryDatasets\n",
    "import InMemoryDatasets as IMD\n",
    "using BenchmarkTools\n",
    "using TimerOutputs\n",
    "using DLMReader\n",
    "#using Revise\n",
    "using Random"
   ]
  },
  {
   "cell_type": "code",
   "execution_count": 24,
   "metadata": {},
   "outputs": [
    {
     "data": {
      "text/plain": [
       "cartesianjoin_timer (generic function with 1 method)"
      ]
     },
     "metadata": {},
     "output_type": "display_data"
    }
   ],
   "source": [
    "include(\"../src/main.jl\")"
   ]
  },
  {
   "cell_type": "markdown",
   "metadata": {},
   "source": [
    "# Data"
   ]
  },
  {
   "cell_type": "code",
   "execution_count": 58,
   "metadata": {},
   "outputs": [
    {
     "name": "stdout",
     "output_type": "stream",
     "text": [
      "dsl = Dataset(xid = [111, 222, 333, 444, 222], x1 = [1, 2, 1, 4, 3], x2 = [-1.2, -3, 2.1, -3.5, 2.8], x4 = [\"abcd\", \"efgh\", \"ijkl\", \"mnop\", \"qrst\"]) = 5×4 Dataset\n",
      " Row │ xid       x1        x2        x4\n",
      "     │ identity  identity  identity  identity\n",
      "     │ Int64?    Int64?    Float64?  String?\n",
      "─────┼────────────────────────────────────────\n",
      "   1 │      111         1      -1.2  abcd\n",
      "   2 │      222         2      -3.0  efgh\n",
      "   3 │      333         1       2.1  ijkl\n",
      "   4 │      444         4      -3.5  mnop\n",
      "   5 │      222         3       2.8  qrst\n",
      "dsr = Dataset(yid = [111, 111, 222, 444, 333], y1 = [3, 3, 3, 3, 3], y2 = [0, 0, -3, 1, 2], y4 = [\"abc\", \"abcd\", \"efg\", \"mnop\", \"qrst\"]) = 5×4 Dataset\n",
      " Row │ yid       y1        y2        y4\n",
      "     │ identity  identity  identity  identity\n",
      "     │ Int64?    Int64?    Int64?    String?\n",
      "─────┼────────────────────────────────────────\n",
      "   1 │      111         3         0  abc\n",
      "   2 │      111         3         0  abcd\n",
      "   3 │      222         3        -3  efg\n",
      "   4 │      444         3         1  mnop\n",
      "   5 │      333         3         2  qrst\n"
     ]
    }
   ],
   "source": [
    "Random.seed!(792)\n",
    "@show dsl = Dataset(xid = [111,222,333,444,222], \n",
    "                    x1 = [1,2,1,4,3], \n",
    "                    x2 = [-1.2,-3,2.1,-3.5,2.8],\n",
    "                    #x3 = [Date(\"2019-10-03\"), Date(\"2019-09-30\"), Date(\"2019-10-04\"), Date(\"2019-10-03\"), Date(\"2019-10-03\")],\n",
    "                    x4 = [\"abcd\",\"efgh\",\"ijkl\",\"mnop\",\"qrst\"]);\n",
    "\n",
    "@show dsr = Dataset(yid = [111,111,222,444,333],\n",
    "                    y1 = [3,3,3,3,3],\n",
    "                    y2 = [0,0, -3,1,2],\n",
    "                    #y3 = [Date(\"2019-10-01\"),Date(\"2019-10-01\"), Date(\"2019-09-30\"), Date(\"2019-10-05\"), Date(\"2019-10-05\")],\n",
    "                    y4 = [\"abc\",\"abcd\",\"efg\",\"mnop\",\"qrst\"]);\n",
    "\n",
    "dsl_big = Dataset(rand(10^3, 5), :auto);\n",
    "modify!(dsl_big,[:x1,:x2,:x3] .=> byrow(x -> (x*100)));\n",
    "modify!(dsl_big,[:x1,:x2,:x3] .=> byrow(round), [:x1,:x2,:x3] .=> byrow(Int));\n",
    "modify!(dsl_big,[:x3] .=> byrow(string));\n",
    "\n",
    "dsr_big = Dataset(rand(10^3, 5), :auto);\n",
    "modify!(dsr_big,[:x1,:x2,:x3] .=> byrow(x -> (x*100)));\n",
    "modify!(dsr_big,[:x1,:x2,:x3] .=> byrow(round), [:x1,:x2,:x3] .=> byrow(Int));\n",
    "modify!(dsr_big,[:x3] .=> byrow(string));\n",
    "function x2y(str)\n",
    "  replace(str,'x' => 'y')\n",
    "end\n",
    "rename!(x2y,dsr_big);\n",
    "\n",
    "dsl_big2 = Dataset(rand(10^4, 5), :auto);\n",
    "modify!(dsl_big2,[:x1,:x2,:x3] .=> byrow(x -> (x*100)));\n",
    "modify!(dsl_big2,[:x1,:x2,:x3] .=> byrow(round), [:x1,:x2,:x3] .=> byrow(Int));\n",
    "modify!(dsl_big2,[:x3] .=> byrow(string));\n",
    "\n",
    "dsr_big2 = Dataset(rand(10^4, 5), :auto);\n",
    "modify!(dsr_big2,[:x1,:x2,:x3] .=> byrow(x -> (x*100)));\n",
    "modify!(dsr_big2,[:x1,:x2,:x3] .=> byrow(round), [:x1,:x2,:x3] .=> byrow(Int));\n",
    "modify!(dsr_big2,[:x3] .=> byrow(string));\n",
    "function x2y(str)\n",
    "  replace(str,'x' => 'y')\n",
    "end\n",
    "rename!(x2y,dsr_big2);"
   ]
  },
  {
   "cell_type": "code",
   "execution_count": 44,
   "metadata": {},
   "outputs": [],
   "source": [
    "filewriter(\"../files/dsl_big.csv\", dsl_big)\n",
    "filewriter(\"../files/dsr_big.csv\", dsr_big)\n",
    "filewriter(\"../files/dsl_big2.csv\", dsl_big2)\n",
    "filewriter(\"../files/dsr_big2.csv\", dsr_big2)"
   ]
  },
  {
   "cell_type": "markdown",
   "metadata": {},
   "source": [
    "# Time & allocations"
   ]
  },
  {
   "cell_type": "markdown",
   "metadata": {},
   "source": [
    "## functions for join"
   ]
  },
  {
   "cell_type": "code",
   "execution_count": 66,
   "metadata": {},
   "outputs": [
    {
     "data": {
      "text/plain": [
       "fun3 (generic function with 1 method)"
      ]
     },
     "metadata": {},
     "output_type": "display_data"
    }
   ],
   "source": [
    "function fun1(x,y) \n",
    "  x <= y\n",
    "end\n",
    "\n",
    "function fun2(x,y) \n",
    "  x >= y\n",
    "end\n",
    "\n",
    "function fun3(x,y) \n",
    "  length(x) == length(y)\n",
    "end"
   ]
  },
  {
   "cell_type": "markdown",
   "metadata": {},
   "source": [
    "## small example"
   ]
  },
  {
   "cell_type": "code",
   "execution_count": 25,
   "metadata": {},
   "outputs": [
    {
     "data": {
      "text/html": [
       "<table class=\"data-set\"><thead><tr><th></th><th>xid</th><th>x1</th><th>x2</th><th>x4</th><th>y1</th><th>y2</th><th>y4</th><th>obs_id_left</th><th>obs_id_right</th></tr><th></th><th>identity</th><th>identity</th><th>identity</th><th>identity</th><th>identity</th><th>identity</th><th>identity</th><th>identity</th><th>identity</th></tr><tr><th></th><th title=\"Union{Missing, Int64}\">Int64?</th><th title=\"Union{Missing, Int64}\">Int64?</th><th title=\"Union{Missing, Float64}\">Float64?</th><th title=\"Union{Missing, String}\">String?</th><th title=\"Union{Missing, Int64}\">Int64?</th><th title=\"Union{Missing, Int64}\">Int64?</th><th title=\"Union{Missing, String}\">String?</th><th title=\"Union{Missing, Int32}\">Int32?</th><th title=\"Union{Missing, Int64}\">Int64?</th></tr></thead><tbody><p>5 rows × 9 columns</p><tr><th>1</th><td>111</td><td>1</td><td>-1.2</td><td>abcd</td><td>3</td><td>0</td><td>abc</td><td>1</td><td>1</td></tr><tr><th>2</th><td>111</td><td>1</td><td>-1.2</td><td>abcd</td><td>3</td><td>0</td><td>abcd</td><td>1</td><td>2</td></tr><tr><th>3</th><td>222</td><td>2</td><td>-3.0</td><td>efgh</td><td>3</td><td>-3</td><td>efg</td><td>2</td><td>3</td></tr><tr><th>4</th><td>333</td><td>1</td><td>2.1</td><td>ijkl</td><td>3</td><td>2</td><td>qrst</td><td>3</td><td>5</td></tr><tr><th>5</th><td>222</td><td>3</td><td>2.8</td><td>qrst</td><td>3</td><td>-3</td><td>efg</td><td>5</td><td>3</td></tr></tbody></table>"
      ],
      "text/latex": [
       "\\begin{tabular}{r|ccccccccc}\n",
       "\t& xid & x1 & x2 & x4 & y1 & y2 & y4 & obs\\_id\\_left & obs\\_id\\_right\\\\\n",
       "\t\\hline\n",
       "\t& identity & identity & identity & identity & identity & identity & identity & identity & identity\\\\\n",
       "\t\\hline\n",
       "\t& Int64? & Int64? & Float64? & String? & Int64? & Int64? & String? & Int32? & Int64?\\\\\n",
       "\t\\hline\n",
       "\t1 & 111 & 1 & -1.2 & abcd & 3 & 0 & abc & 1 & 1 \\\\\n",
       "\t2 & 111 & 1 & -1.2 & abcd & 3 & 0 & abcd & 1 & 2 \\\\\n",
       "\t3 & 222 & 2 & -3.0 & efgh & 3 & -3 & efg & 2 & 3 \\\\\n",
       "\t4 & 333 & 1 & 2.1 & ijkl & 3 & 2 & qrst & 3 & 5 \\\\\n",
       "\t5 & 222 & 3 & 2.8 & qrst & 3 & -3 & efg & 5 & 3 \\\\\n",
       "\\end{tabular}\n"
      ],
      "text/plain": [
       "\u001b[1m5×9 Dataset\u001b[0m\n",
       "\u001b[1m Row \u001b[0m│\u001b[1m xid      \u001b[0m\u001b[1m x1       \u001b[0m\u001b[1m x2       \u001b[0m\u001b[1m x4       \u001b[0m\u001b[1m y1       \u001b[0m\u001b[1m y2       \u001b[0m\u001b[1m y4       \u001b[0m\u001b[1m o\u001b[0m ⋯\n",
       "\u001b[1m     \u001b[0m│\u001b[90m identity \u001b[0m\u001b[90m identity \u001b[0m\u001b[90m identity \u001b[0m\u001b[90m identity \u001b[0m\u001b[90m identity \u001b[0m\u001b[90m identity \u001b[0m\u001b[90m identity \u001b[0m\u001b[90m i\u001b[0m ⋯\n",
       "\u001b[1m     \u001b[0m│\u001b[90m Int64?   \u001b[0m\u001b[90m Int64?   \u001b[0m\u001b[90m Float64? \u001b[0m\u001b[90m String?  \u001b[0m\u001b[90m Int64?   \u001b[0m\u001b[90m Int64?   \u001b[0m\u001b[90m String?  \u001b[0m\u001b[90m I\u001b[0m ⋯\n",
       "─────┼──────────────────────────────────────────────────────────────────────────\n",
       "   1 │      111         1      -1.2  abcd             3         0  abc         ⋯\n",
       "   2 │      111         1      -1.2  abcd             3         0  abcd\n",
       "   3 │      222         2      -3.0  efgh             3        -3  efg\n",
       "   4 │      333         1       2.1  ijkl             3         2  qrst\n",
       "   5 │      222         3       2.8  qrst             3        -3  efg         ⋯\n",
       "\u001b[36m                                                               2 columns omitted\u001b[0m"
      ]
     },
     "metadata": {},
     "output_type": "display_data"
    }
   ],
   "source": [
    "newds = cartesianjoin(dsl,dsr,on = [:xid=>:yid, :x1=>:y1=>fun1],\n",
    "            multiple_match=[false,false],\n",
    "            obs_id=true);\n",
    "newds"
   ]
  },
  {
   "cell_type": "markdown",
   "metadata": {},
   "source": [
    "## big example\n",
    "1000 rows * 1000 rows"
   ]
  },
  {
   "cell_type": "code",
   "execution_count": 59,
   "metadata": {},
   "outputs": [
    {
     "name": "stdout",
     "output_type": "stream",
     "text": [
      "\u001b[0m\u001b[1m ────────────────────────────────────────────────────────────────────────────────\u001b[22m\n",
      "\u001b[0m\u001b[1m                               \u001b[22m         Time                    Allocations      \n",
      "                               ───────────────────────   ────────────────────────\n",
      "       Tot / % measured:            146ms / 100.0%           5.97MiB / 100.0%    \n",
      "\n",
      " Section               ncalls     time    %tot     avg     alloc    %tot      avg\n",
      " ────────────────────────────────────────────────────────────────────────────────\n",
      " compute flag vector        1    139ms   95.5%   139ms   5.73MiB   96.0%  5.73MiB\n",
      " generate new ds            1   6.56ms    4.5%  6.56ms    242KiB    4.0%   242KiB\n",
      "   2-5 newds dsr            1   4.50ms    3.1%  4.50ms   97.0KiB    1.6%  97.0KiB\n",
      "     5.2 fill _res          4   4.04ms    2.8%  1.01ms     64.0B    0.0%    16.0B\n",
      "     5.1 init _res          4    127μs    0.1%  31.7μs   85.2KiB    1.4%  21.3KiB\n",
      "   2-1 left row count       1   1.40ms    1.0%  1.40ms   12.0KiB    0.2%  12.0KiB\n",
      "   2-2 left row _res        1    612μs    0.4%   612μs    128KiB    2.1%   128KiB\n",
      "     2.2 fill _res          5    452μs    0.3%  90.5μs   18.3KiB    0.3%  3.67KiB\n",
      "     2.1 init _res          5    122μs    0.1%  24.3μs    107KiB    1.8%  21.4KiB\n",
      "     2.3 push _res          5   3.58μs    0.0%   716ns     80.0B    0.0%    16.0B\n",
      "   2-3 newds dsl            1   35.8μs    0.0%  35.8μs   2.33KiB    0.0%  2.33KiB\n",
      "\u001b[0m\u001b[1m ────────────────────────────────────────────────────────────────────────────────\u001b[22m\n"
     ]
    }
   ],
   "source": [
    "newds = cartesianjoin_timer(dsl_big,dsr_big,\n",
    "        on = [:x1=>:y1, :x2=>:y2=>fun1, :x3=>:y3=>isless]);"
   ]
  },
  {
   "cell_type": "code",
   "execution_count": 71,
   "metadata": {},
   "outputs": [
    {
     "data": {
      "text/plain": [
       "'7': ASCII/Unicode U+0037 (category Nd: Number, decimal digit)"
      ]
     },
     "metadata": {},
     "output_type": "display_data"
    }
   ],
   "source": [
    "str = \"76\"\n",
    "str[1]"
   ]
  },
  {
   "cell_type": "code",
   "execution_count": 79,
   "metadata": {},
   "outputs": [
    {
     "name": "stdout",
     "output_type": "stream",
     "text": [
      "  0.010563 seconds (640 allocations: 1.191 MiB)\n"
     ]
    },
    {
     "data": {
      "text/plain": [
       "2351"
      ]
     },
     "metadata": {},
     "output_type": "display_data"
    }
   ],
   "source": [
    "@time newds = cartesianjoin(dsl_big,dsr_big,\n",
    "        on = [:x1=>:y1=>isless,:x2=>:y2=>isless, :x3=>:y3],check = false);\n",
    "nrow(newds)"
   ]
  },
  {
   "cell_type": "markdown",
   "metadata": {},
   "source": [
    "## large example\n",
    "10000 rows * 10000 rows"
   ]
  },
  {
   "cell_type": "code",
   "execution_count": 33,
   "metadata": {},
   "outputs": [
    {
     "name": "stdout",
     "output_type": "stream",
     "text": [
      "\u001b[0m\u001b[1m ────────────────────────────────────────────────────────────────────────────────\u001b[22m\n",
      "\u001b[0m\u001b[1m                               \u001b[22m         Time                    Allocations      \n",
      "                               ───────────────────────   ────────────────────────\n",
      "       Tot / % measured:            494ms / 100.0%           21.2MiB / 100.0%    \n",
      "\n",
      " Section               ncalls     time    %tot     avg     alloc    %tot      avg\n",
      " ────────────────────────────────────────────────────────────────────────────────\n",
      " generate new ds            1    357ms   72.4%   357ms   21.2MiB   99.9%  21.2MiB\n",
      "   2-5 newds dsr            1    253ms   51.3%   253ms   2.78MiB   13.1%  2.78MiB\n",
      "     5.2 fill _res          4    253ms   51.2%  63.2ms     64.0B    0.0%    16.0B\n",
      "     5.1 init _res          4    196μs    0.0%  48.9μs   2.76MiB   13.0%   708KiB\n",
      "   2-1 left row count       1   84.5ms   17.1%  84.5ms    117KiB    0.5%   117KiB\n",
      "   2-2 left row _res        1    780μs    0.2%   780μs   3.49MiB   16.5%  3.49MiB\n",
      "     2.2 fill _res          5    475μs    0.1%  94.9μs   18.2KiB    0.1%  3.65KiB\n",
      "     2.1 init _res          5    289μs    0.1%  57.8μs   3.47MiB   16.4%   712KiB\n",
      "     2.3 push _res          5   2.60μs    0.0%   521ns     80.0B    0.0%    16.0B\n",
      "   2-3 newds dsl            1   29.7μs    0.0%  29.7μs   2.33KiB    0.0%  2.33KiB\n",
      " compute flag vector        1    136ms   27.6%   136ms   15.2KiB    0.1%  15.2KiB\n",
      "\u001b[0m\u001b[1m ────────────────────────────────────────────────────────────────────────────────\u001b[22m\n",
      "  0.527825 seconds (12.41 k allocations: 116.686 MiB, 2.77% gc time)\n"
     ]
    },
    {
     "data": {
      "text/plain": [
       "82777"
      ]
     },
     "metadata": {},
     "output_type": "display_data"
    }
   ],
   "source": [
    "@time nds = cartesianjoin_timer(dsl_big2,dsr_big2,\n",
    "              on = [:x1=>:y1, :x2=>:y2=>fun1, :x4=>:y4=>isless, :x4=>:y5=>fun2],\n",
    "              check=false,obs_id=[true,true]);\n",
    "nrow(nds)"
   ]
  },
  {
   "cell_type": "code",
   "execution_count": 104,
   "metadata": {},
   "outputs": [
    {
     "name": "stdout",
     "output_type": "stream",
     "text": [
      "  0.715783 seconds (9.20 k allocations: 120.490 MiB, 1.97% gc time)\n"
     ]
    },
    {
     "data": {
      "text/plain": [
       "119511"
      ]
     },
     "metadata": {},
     "output_type": "display_data"
    }
   ],
   "source": [
    "@time nds = cartesianjoin(dsl_big2,dsr_big2,\n",
    "              on = [:x1=>:y1=>isless,:x2=>:y2=>isless,:x3=>:y3,:x4=>:y4=>isless],\n",
    "              check=false,obs_id=[true,true]);\n",
    "nrow(nds)"
   ]
  },
  {
   "cell_type": "code",
   "execution_count": 39,
   "metadata": {},
   "outputs": [
    {
     "name": "stdout",
     "output_type": "stream",
     "text": [
      "  0.515975 seconds (519 allocations: 95.528 MiB, 6.09% gc time)\n"
     ]
    },
    {
     "data": {
      "text/plain": [
       "102"
      ]
     },
     "metadata": {},
     "output_type": "display_data"
    }
   ],
   "source": [
    "@time nds = cartesianjoin(dsl_big2,dsr_big2,on = [:x1=>:y1, :x2=>:y2, :x3=>:y3],\n",
    "check=false);\n",
    "nrow(nds)"
   ]
  },
  {
   "cell_type": "code",
   "execution_count": 99,
   "metadata": {},
   "outputs": [
    {
     "name": "stdout",
     "output_type": "stream",
     "text": [
      "  0.044264 seconds (1.23 k allocations: 75.370 MiB, 28.88% gc time)\n"
     ]
    },
    {
     "data": {
      "text/plain": [
       "994920"
      ]
     },
     "metadata": {},
     "output_type": "display_data"
    }
   ],
   "source": [
    "@time nds = innerjoin(dsl_big2,dsr_big2,on = [:x1=>:y1],check=false);\n",
    "nrow(nds)"
   ]
  }
 ],
 "metadata": {
  "kernelspec": {
   "display_name": "Julia 1.7.3",
   "language": "julia",
   "name": "julia-1.7"
  },
  "language_info": {
   "file_extension": ".jl",
   "mimetype": "application/julia",
   "name": "julia",
   "version": "1.7.3"
  },
  "orig_nbformat": 4,
  "vscode": {
   "interpreter": {
    "hash": "31f2aee4e71d21fbe5cf8b01ff0e069b9275f58929596ceb00d14d90e3e16cd6"
   }
  }
 },
 "nbformat": 4,
 "nbformat_minor": 2
}
