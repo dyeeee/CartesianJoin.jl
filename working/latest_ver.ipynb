{
 "cells": [
  {
   "cell_type": "code",
   "execution_count": 1,
   "metadata": {},
   "outputs": [],
   "source": [
    "using InMemoryDatasets\n",
    "import InMemoryDatasets as IMD\n",
    "using BenchmarkTools\n",
    "using TimerOutputs"
   ]
  },
  {
   "cell_type": "markdown",
   "metadata": {},
   "source": [
    "# Data"
   ]
  },
  {
   "cell_type": "code",
   "execution_count": 2,
   "metadata": {},
   "outputs": [
    {
     "name": "stdout",
     "output_type": "stream",
     "text": [
      "dsl = Dataset(xid = [111, 222, 333, 444, 555], x1 = [1, 2, 1, 4, 5], x2 = [-1.2, -3, 2.1, -3.5, 2.8], x3 = [Date(\"2019-10-03\"), Date(\"2019-09-30\"), Date(\"2019-10-04\"), Date(\"2019-10-03\"), Date(\"2019-10-03\")], x4 = [\"abcd\", \"efgh\", \"ijkl\", \"mnop\", \"qrst\"]) = 5×5 Dataset\n",
      " Row │ xid       x1        x2        x3          x4\n",
      "     │ identity  identity  identity  identity    identity\n",
      "     │ Int64?    Int64?    Float64?  Date?       String?\n",
      "─────┼────────────────────────────────────────────────────\n",
      "   1 │      111         1      -1.2  2019-10-03  abcd\n",
      "   2 │      222         2      -3.0  2019-09-30  efgh\n",
      "   3 │      333         1       2.1  2019-10-04  ijkl\n",
      "   4 │      444         4      -3.5  2019-10-03  mnop\n",
      "   5 │      555         5       2.8  2019-10-03  qrst\n",
      "dsr = Dataset(yid = [111, 111, 222, 444, 333], y1 = [3, 3, 3, 3, 3], y2 = [0, 0, -3, 1, 2], y3 = [Date(\"2019-10-01\"), Date(\"2019-10-01\"), Date(\"2019-09-30\"), Date(\"2019-10-05\"), Date(\"2019-10-05\")], y4 = [\"abc\", \"abcd\", \"efg\", \"mnop\", \"qrst\"]) = 5×5 Dataset\n",
      " Row │ yid       y1        y2        y3          y4\n",
      "     │ identity  identity  identity  identity    identity\n",
      "     │ Int64?    Int64?    Int64?    Date?       String?\n",
      "─────┼────────────────────────────────────────────────────\n",
      "   1 │      111         3         0  2019-10-01  abc\n",
      "   2 │      111         3         0  2019-10-01  abcd\n",
      "   3 │      222         3        -3  2019-09-30  efg\n",
      "   4 │      444         3         1  2019-10-05  mnop\n",
      "   5 │      333         3         2  2019-10-05  qrst\n"
     ]
    }
   ],
   "source": [
    "@show dsl = Dataset(xid = [111,222,333,444,555], \n",
    "                    x1 = [1,2,1,4,5], \n",
    "                    x2 = [-1.2,-3,2.1,-3.5,2.8],\n",
    "                    x3 = [Date(\"2019-10-03\"), Date(\"2019-09-30\"), Date(\"2019-10-04\"), Date(\"2019-10-03\"), Date(\"2019-10-03\")],\n",
    "                    x4 = [\"abcd\",\"efgh\",\"ijkl\",\"mnop\",\"qrst\"]);\n",
    "\n",
    "@show dsr = Dataset(yid = [111,111,222,444,333],\n",
    "                    y1 = [3,3,3,3,3],\n",
    "                    y2 = [0,0, -3,1,2],\n",
    "                    y3 = [Date(\"2019-10-01\"),Date(\"2019-10-01\"), Date(\"2019-09-30\"), Date(\"2019-10-05\"), Date(\"2019-10-05\")],\n",
    "                    y4 = [\"abc\",\"abcd\",\"efg\",\"mnop\",\"qrst\"]);\n",
    "\n",
    "dsl_big = Dataset(rand(10^3, 5), :auto);\n",
    "modify!(dsl_big,[:x1,:x2,:x3] .=> byrow(x -> (x*100)));\n",
    "modify!(dsl_big,[:x1,:x2,:x3] .=> byrow(round), [:x1,:x2,:x3] .=> byrow(Int));\n",
    "\n",
    "dsr_big = Dataset(rand(10^3, 5), :auto);\n",
    "modify!(dsr_big,[:x1,:x2,:x3] .=> byrow(x -> (x*100)));\n",
    "modify!(dsr_big,[:x1,:x2,:x3] .=> byrow(round), [:x1,:x2,:x3] .=> byrow(Int));\n",
    "function x2y(str)\n",
    "  replace(str,'x' => 'y')\n",
    "end\n",
    "rename!(x2y,dsr_big);\n",
    "\n",
    "dsl_big2 = Dataset(rand(10^4, 5), :auto);\n",
    "modify!(dsl_big2,[:x1,:x2,:x3] .=> byrow(x -> (x*100)));\n",
    "modify!(dsl_big2,[:x1,:x2,:x3] .=> byrow(round), [:x1,:x2,:x3] .=> byrow(Int));\n",
    "\n",
    "dsr_big2 = Dataset(rand(10^4, 5), :auto);\n",
    "modify!(dsr_big2,[:x1,:x2,:x3] .=> byrow(x -> (x*100)));\n",
    "modify!(dsr_big2,[:x1,:x2,:x3] .=> byrow(round), [:x1,:x2,:x3] .=> byrow(Int));\n",
    "function x2y(str)\n",
    "  replace(str,'x' => 'y')\n",
    "end\n",
    "rename!(x2y,dsr_big2);"
   ]
  },
  {
   "cell_type": "markdown",
   "metadata": {},
   "source": [
    "# Version-4"
   ]
  },
  {
   "cell_type": "code",
   "execution_count": 139,
   "metadata": {},
   "outputs": [
    {
     "data": {
      "text/plain": [
       "generate_newds_v4 (generic function with 1 method)"
      ]
     },
     "metadata": {},
     "output_type": "display_data"
    }
   ],
   "source": [
    "function my_cartesianjoin_v4(dsl::AbstractDataset, dsr::AbstractDataset;\n",
    "  on=nothing, threads::Bool=true, flag = ones(Bool,nrow(dsl) * nrow(dsr)))\n",
    "\n",
    "  reset_timer!()\n",
    "\n",
    "  dsr_cols = Symbol[]\n",
    "  equalon_dsr_cols = Symbol[]\n",
    "  conditions = Function[]\n",
    "\n",
    "  for element in map(x -> x.second, on)\n",
    "    if typeof(element) <: Pair\n",
    "      push!(dsr_cols, element.first)\n",
    "      push!(conditions, element.second)\n",
    "    else\n",
    "      push!(dsr_cols, element)\n",
    "      push!(equalon_dsr_cols, element)\n",
    "      push!(conditions, isequal)\n",
    "    end\n",
    "  end\n",
    "\n",
    "  onleft = IMD.multiple_getindex(IMD.index(dsl), map(x -> x.first, on))\n",
    "  onright = IMD.multiple_getindex(IMD.index(dsr), dsr_cols)\n",
    "\n",
    "  equalon_dsr_cols = IMD.multiple_getindex(IMD.index(dsr), equalon_dsr_cols)\n",
    "  right_cols = setdiff(1:length(IMD.index(dsr)), equalon_dsr_cols)\n",
    "\n",
    "  oncols_left = onleft\n",
    "  oncols_right = onright\n",
    "\n",
    "  #println(oncols_left)\n",
    "  #println(right_cols)\n",
    "\n",
    "  # get flag, idx and ranges\n",
    "  #println(flag)\n",
    "  @timeit \"compute flag vector\"  cross_compare_vec(dsl, dsr, flag, conditions, onleft, onright, threads)\n",
    "  #cross_compare(dsl,dsr,flag,conditions,onleft,onright,threads)\n",
    "  #println(flag)\n",
    "\n",
    "  l_len = nrow(dsl)\n",
    "  r_len = nrow(dsr)\n",
    "\n",
    "  @timeit \"new ds\" nds = generate_newds_v4(flag,dsl,dsr,l_len,r_len,right_cols)\n",
    "\n",
    "  print_timer()\n",
    "  flag,nds\n",
    "end\n",
    "\n",
    "function cross_compare_vec(dsl, dsr,\n",
    "  flag, conditions, onleft, onright, threads)\n",
    "\n",
    "  oncols_left = onleft\n",
    "  oncols_right = onright\n",
    "\n",
    "  l_len = nrow(dsl)\n",
    "  r_len = nrow(dsr)\n",
    "\n",
    "  for i in 1:length(conditions)  # Each conditions 每个条件\n",
    "    fun = conditions[i]\n",
    "\n",
    "    IMD.@_threadsfor threads for j in 1:l_len  # each row in dsl\n",
    "      cur_index = (j-1)*l_len  \n",
    "      _op_for_dsrcol(flag,fun,cur_index,IMD._columns(dsl)[oncols_left[i]][j],IMD._columns(dsr)[oncols_right[i]],r_len,\n",
    "                     oncols_left,oncols_right)\n",
    "      \n",
    "    end\n",
    "  end\n",
    "  \n",
    "end\n",
    "\n",
    "function _op_for_dsrcol(flag,fun,cur_index,x,r_col,r_len,oncols_left,oncols_right)\n",
    "  for k in 1:r_len\n",
    "    flag[cur_index+k] == 0 && continue\n",
    "    #println(IMD._columns(dsl)[oncols_left[i]][j],\",\",cur_index,\",\",IMD._columns(dsr)[oncols_right[i]][k])\n",
    "    flag[cur_index+k] &= fun(x,r_col[k])         \n",
    "  end\n",
    "end\n",
    "\n",
    "\n",
    "function generate_newds_v4(flag,dsl,dsr,l_len,r_len,right_cols)\n",
    "\n",
    "  @time begin\n",
    "      ## new left\n",
    "      dsl_count = []  # 每一行对应几个右边\n",
    "      for i in 1:l_len\n",
    "          lo = 1+(i-1)*r_len\n",
    "          hi = lo + r_len - 1\n",
    "          push!(dsl_count,count(==(true),flag[lo:hi]))\n",
    "      end\n",
    "      \n",
    "      new_ends = IMD.our_cumsum!(dsl_count)  # 累计和\n",
    "      total_length = new_ends[end]\n",
    "      \n",
    "      res = []\n",
    "      for j in 1:length(IMD.index(dsl))  # left 的每一列\n",
    "        _res = IMD.allocatecol(IMD._columns(dsl)[j], total_length, addmissing=false)  # \n",
    "        \n",
    "        x = IMD._columns(dsl)[j] # 这一步可以隔离\n",
    "      \n",
    "        # 左侧填充\n",
    "        IMD.@_threadsfor true for i in 1:length(x)\n",
    "          dsl_count[i] == 0 && continue\n",
    "          i == 1 ? lo = 1 : lo = new_ends[i - 1] + 1\n",
    "          hi = new_ends[i]\n",
    "          IMD._fill_val_join!(_res, lo:hi, x[i])\n",
    "        end\n",
    "        \n",
    "        push!(res, _res)\n",
    "      end\n",
    "  \n",
    "      if dsl isa SubDataset\n",
    "        newds = Dataset(res, copy(IMD.index(dsl)), copycols=false)\n",
    "      else\n",
    "        newds = Dataset(res, IMD.Index(copy(IMD.index(dsl).lookup), copy(IMD.index(dsl).names), copy(IMD.index(dsl).format)), copycols=false)\n",
    "      end\n",
    "  end\n",
    "\n",
    "  \n",
    "  @time begin\n",
    "  ## new right\n",
    "  #println(\"Cerating right\")\n",
    "\n",
    "  dsr_idx = []\n",
    "  for i in 1:l_len\n",
    "      lo = 1+(i-1)*r_len\n",
    "      hi = lo + r_len - 1\n",
    "      append!(dsr_idx,findall(isone,flag[lo:hi]))\n",
    "  end \n",
    "\n",
    "  #println(dsr_idx)\n",
    "\n",
    "  #println(\"Nesting\")\n",
    "  for j in 1:length(right_cols)\n",
    "    _res = IMD.allocatecol(IMD._columns(dsr)[right_cols[j]], total_length, addmissing=false)  # 空的dsr\n",
    "\n",
    "    IMD.@_threadsfor true for i in 1:length(l_len)\n",
    "      #print(j)\n",
    "      length(dsr_idx[i]) == 0 && continue\n",
    "      for i in 1:length(dsr_idx)\n",
    "        _res[i] = IMD._columns(dsr)[right_cols[j]][dsr_idx[i]]\n",
    "      end\n",
    "    end\n",
    "\n",
    "    #println(_res)\n",
    "    push!(IMD._columns(newds), _res)\n",
    "\n",
    "    new_var_name = IMD.make_unique([IMD._names(dsl); IMD._names(dsr)[right_cols[j]]], makeunique=true)[end]\n",
    "    push!(IMD.index(newds), new_var_name)\n",
    "    setformat!(newds, IMD.index(newds)[new_var_name], getformat(dsr, IMD._names(dsr)[right_cols[j]]))\n",
    "  end\n",
    "end\n",
    "  newds\n",
    "\n",
    "  \n",
    "end"
   ]
  },
  {
   "cell_type": "markdown",
   "metadata": {},
   "source": [
    "# Version-5\n",
    "V4 的函数隔离版本"
   ]
  },
  {
   "cell_type": "code",
   "execution_count": 332,
   "metadata": {},
   "outputs": [
    {
     "data": {
      "text/plain": [
       "fill_right_res (generic function with 1 method)"
      ]
     },
     "metadata": {},
     "output_type": "display_data"
    }
   ],
   "source": [
    "function my_cartesianjoin_v5(dsl::AbstractDataset, dsr::AbstractDataset;\n",
    "  on=nothing, threads::Bool=true, flag = ones(Bool,nrow(dsl) * nrow(dsr)))\n",
    "\n",
    "  reset_timer!()\n",
    "\n",
    "  dsr_cols = Symbol[]\n",
    "  equalon_dsr_cols = Symbol[]\n",
    "  conditions = Function[]\n",
    "\n",
    "  for element in map(x -> x.second, on)\n",
    "    if typeof(element) <: Pair\n",
    "      push!(dsr_cols, element.first)\n",
    "      push!(conditions, element.second)\n",
    "    else\n",
    "      push!(dsr_cols, element)\n",
    "      push!(equalon_dsr_cols, element)\n",
    "      push!(conditions, isequal)\n",
    "    end\n",
    "  end\n",
    "\n",
    "  onleft = IMD.multiple_getindex(IMD.index(dsl), map(x -> x.first, on))\n",
    "  onright = IMD.multiple_getindex(IMD.index(dsr), dsr_cols)\n",
    "\n",
    "  equalon_dsr_cols = IMD.multiple_getindex(IMD.index(dsr), equalon_dsr_cols)\n",
    "  right_cols = setdiff(1:length(IMD.index(dsr)), equalon_dsr_cols)\n",
    "\n",
    "  oncols_left = onleft\n",
    "  oncols_right = onright\n",
    "\n",
    "  #println(oncols_left)\n",
    "  #println(right_cols)\n",
    "\n",
    "  # get flag, idx and ranges\n",
    "  #println(flag)\n",
    "  @timeit \"compute flag vector\"  cross_compare_vec(dsl, dsr, flag, conditions, onleft, onright, threads)\n",
    "  #cross_compare(dsl,dsr,flag,conditions,onleft,onright,threads)\n",
    "  #println(flag)\n",
    "\n",
    "  l_len = nrow(dsl)\n",
    "  r_len = nrow(dsr)\n",
    "\n",
    "  @timeit \"new ds\" nds = generate_newds_v5(flag,dsl,dsr,l_len,r_len,right_cols)\n",
    "\n",
    "  print_timer()\n",
    "  flag,nds\n",
    "end\n",
    "\n",
    "function cross_compare_vec(dsl, dsr,\n",
    "  flag, conditions, onleft, onright, threads)\n",
    "\n",
    "  oncols_left = onleft\n",
    "  oncols_right = onright\n",
    "\n",
    "  l_len = nrow(dsl)\n",
    "  r_len = nrow(dsr)\n",
    "\n",
    "  for i in 1:length(conditions)  # Each conditions 每个条件\n",
    "    fun = conditions[i]\n",
    "\n",
    "    IMD.@_threadsfor threads for j in 1:l_len  # each row in dsl\n",
    "      cur_index = (j-1)*l_len  \n",
    "      _op_for_dsrcol(flag,fun,cur_index,IMD._columns(dsl)[oncols_left[i]][j],IMD._columns(dsr)[oncols_right[i]],r_len,\n",
    "                     oncols_left,oncols_right)\n",
    "      \n",
    "    end\n",
    "  end\n",
    "  \n",
    "end\n",
    "\n",
    "function _op_for_dsrcol(flag,fun,cur_index,x,r_col,r_len,oncols_left,oncols_right)\n",
    "  for k in 1:r_len\n",
    "    flag[cur_index+k] == 0 && continue\n",
    "    #println(IMD._columns(dsl)[oncols_left[i]][j],\",\",cur_index,\",\",IMD._columns(dsr)[oncols_right[i]][k])\n",
    "    flag[cur_index+k] &= fun(x,r_col[k])         \n",
    "  end\n",
    "end\n",
    "\n",
    "function generate_newds_v5(flag,dsl,dsr,l_len,r_len,right_cols,threads=true)\n",
    "  T = Int32\n",
    "\n",
    "  ## new left\n",
    "  ### step-1\n",
    "  dsl_count = Vector{T}(undef, nrow(dsl))  # left每一行对应几个右边\n",
    "  \n",
    "  find_count_for_left(flag, dsl_count,l_len,r_len)\n",
    "  \n",
    "  new_ends = cumsum(dsl_count)  # 累计和\n",
    "  total_length = new_ends[end]\n",
    "  \n",
    "  ### step-2\n",
    "  res = []  # 固定尺寸不用push？\n",
    "  for j in 1:length(IMD.index(dsl))  # left 的每一列\n",
    "    _res = IMD.allocatecol(IMD._columns(dsl)[j], total_length, addmissing=false)  # \n",
    "    \n",
    "    fill_left_res(_res, IMD._columns(dsl)[j], dsl_count, new_ends, threads)\n",
    "\n",
    "    push!(res, _res)\n",
    "    \n",
    "  end\n",
    "  \n",
    "### step-3\n",
    "  if dsl isa SubDataset\n",
    "    newds = Dataset(res, copy(IMD.index(dsl)), copycols=false)\n",
    "  else\n",
    "   newds = Dataset(res, IMD.Index(copy(IMD.index(dsl).lookup), copy(IMD.index(dsl).names), copy(IMD.index(dsl).format)), copycols=false)\n",
    "  end\n",
    "\n",
    "#println(newds)\n",
    "  \n",
    "\n",
    "  ## new right\n",
    "  #println(\"Cerating right\")\n",
    "  @timeit \"findall\" begin\n",
    "  ### step-4\n",
    "   dsr_idx = findall(isone,flag)  # 全局索引，要去做出局部索引\n",
    "  for i in 1:l_len\n",
    "      dsl_count[i] == 0 && continue\n",
    "      \n",
    "      i == 1 ? lo = 1 : lo = new_ends[i - 1] + 1\n",
    "      hi = new_ends[i]\n",
    "\n",
    "      dsr_idx[lo:hi] .-= (i-1)*r_len\n",
    "      #for k in lo:hi\n",
    "      #    all[k] -= (i-1)*r_len\n",
    "      #end\n",
    "  end \n",
    "end\n",
    "\n",
    "@timeit \"newds left\" begin\n",
    "  ### step-5\n",
    "  #println(\"Nesting\")\n",
    "  for j in 1:length(right_cols)   # right 的每一列\n",
    "    _res = IMD.allocatecol(IMD._columns(dsr)[right_cols[j]], total_length, addmissing=false)  # 空的dsr\n",
    "\n",
    "    fill_right_res(_res,IMD._columns(dsr)[right_cols[j]],dsr_idx,threads)\n",
    "\n",
    "    #println(_res)\n",
    "    push!(IMD._columns(newds), _res)\n",
    "    new_var_name = IMD.make_unique([IMD._names(dsl); IMD._names(dsr)[right_cols[j]]], makeunique=true)[end]\n",
    "    push!(IMD.index(newds), new_var_name)\n",
    "    setformat!(newds, IMD.index(newds)[new_var_name], getformat(dsr, IMD._names(dsr)[right_cols[j]]))\n",
    "  end\n",
    "end\n",
    "\n",
    "  newds\n",
    "end\n",
    "\n",
    "function find_count_for_left(flag, dsl_count,l_len,r_len)\n",
    "  for i in 1:l_len\n",
    "      lo = 1+(i-1)*r_len\n",
    "      hi = lo + r_len - 1\n",
    "      #push!(dsl_count,count(==(true),flag[lo:hi]))\n",
    "      @inbounds dsl_count[i] = count(view(flag,lo:hi))\n",
    "  end\n",
    "end\n",
    "\n",
    "function fill_left_res(_res, l_col, dsl_count, new_ends, threads)\n",
    "  # x = IMD._columns(dsl)[j] # 这一步可以隔离\n",
    "  # 左侧填充\n",
    "  IMD.@_threadsfor threads for i in 1:length(l_col)\n",
    "    dsl_count[i] == 0 && continue\n",
    "    i == 1 ? lo = 1 : lo = new_ends[i - 1] + 1\n",
    "    hi = new_ends[i]\n",
    "    IMD._fill_val_join!(_res, lo:hi, l_col[i])\n",
    "  end\n",
    "end\n",
    "\n",
    "function fill_right_res(_res, r_col, dsr_idx, threads)\n",
    "  IMD.@_threadsfor threads for i in 1:length(dsr_idx) # 1:length(l_len)  # left 的每一列\n",
    "    _res[i] = r_col[dsr_idx[i]]\n",
    "  end\n",
    "end"
   ]
  },
  {
   "cell_type": "markdown",
   "metadata": {},
   "source": [
    "# Draft"
   ]
  },
  {
   "cell_type": "code",
   "execution_count": 157,
   "metadata": {},
   "outputs": [
    {
     "data": {
      "text/html": [
       "<table class=\"data-set\"><thead><tr><th></th><th>yid</th><th>y1</th><th>y2</th><th>y3</th><th>y4</th></tr><th></th><th>identity</th><th>identity</th><th>identity</th><th>identity</th><th>identity</th></tr><tr><th></th><th title=\"Union{Missing, Int64}\">Int64?</th><th title=\"Union{Missing, Int64}\">Int64?</th><th title=\"Union{Missing, Int64}\">Int64?</th><th title=\"Union{Missing, Date}\">Date?</th><th title=\"Union{Missing, String}\">String?</th></tr></thead><tbody><p>5 rows × 5 columns</p><tr><th>1</th><td>111</td><td>3</td><td>0</td><td>2019-10-01</td><td>abc</td></tr><tr><th>2</th><td>111</td><td>3</td><td>0</td><td>2019-10-01</td><td>abcd</td></tr><tr><th>3</th><td>222</td><td>3</td><td>-3</td><td>2019-09-30</td><td>efg</td></tr><tr><th>4</th><td>444</td><td>3</td><td>1</td><td>2019-10-05</td><td>mnop</td></tr><tr><th>5</th><td>333</td><td>3</td><td>2</td><td>2019-10-05</td><td>qrst</td></tr></tbody></table>"
      ],
      "text/latex": [
       "\\begin{tabular}{r|ccccc}\n",
       "\t& yid & y1 & y2 & y3 & y4\\\\\n",
       "\t\\hline\n",
       "\t& identity & identity & identity & identity & identity\\\\\n",
       "\t\\hline\n",
       "\t& Int64? & Int64? & Int64? & Date? & String?\\\\\n",
       "\t\\hline\n",
       "\t1 & 111 & 3 & 0 & 2019-10-01 & abc \\\\\n",
       "\t2 & 111 & 3 & 0 & 2019-10-01 & abcd \\\\\n",
       "\t3 & 222 & 3 & -3 & 2019-09-30 & efg \\\\\n",
       "\t4 & 444 & 3 & 1 & 2019-10-05 & mnop \\\\\n",
       "\t5 & 333 & 3 & 2 & 2019-10-05 & qrst \\\\\n",
       "\\end{tabular}\n"
      ],
      "text/plain": [
       "\u001b[1m5×5 Dataset\u001b[0m\n",
       "\u001b[1m Row \u001b[0m│\u001b[1m yid      \u001b[0m\u001b[1m y1       \u001b[0m\u001b[1m y2       \u001b[0m\u001b[1m y3         \u001b[0m\u001b[1m y4       \u001b[0m\n",
       "\u001b[1m     \u001b[0m│\u001b[90m identity \u001b[0m\u001b[90m identity \u001b[0m\u001b[90m identity \u001b[0m\u001b[90m identity   \u001b[0m\u001b[90m identity \u001b[0m\n",
       "\u001b[1m     \u001b[0m│\u001b[90m Int64?   \u001b[0m\u001b[90m Int64?   \u001b[0m\u001b[90m Int64?   \u001b[0m\u001b[90m Date?      \u001b[0m\u001b[90m String?  \u001b[0m\n",
       "─────┼────────────────────────────────────────────────────\n",
       "   1 │      111         3         0  2019-10-01  abc\n",
       "   2 │      111         3         0  2019-10-01  abcd\n",
       "   3 │      222         3        -3  2019-09-30  efg\n",
       "   4 │      444         3         1  2019-10-05  mnop\n",
       "   5 │      333         3         2  2019-10-05  qrst"
      ]
     },
     "metadata": {},
     "output_type": "display_data"
    }
   ],
   "source": [
    "dsr"
   ]
  },
  {
   "cell_type": "code",
   "execution_count": 4,
   "metadata": {},
   "outputs": [
    {
     "data": {
      "text/plain": [
       "fun1 (generic function with 1 method)"
      ]
     },
     "metadata": {},
     "output_type": "display_data"
    }
   ],
   "source": [
    "function fun1(x,y) \n",
    "  x <= y\n",
    "end"
   ]
  },
  {
   "cell_type": "code",
   "execution_count": 324,
   "metadata": {},
   "outputs": [
    {
     "name": "stdout",
     "output_type": "stream",
     "text": [
      "  0.000012 seconds (16 allocations: 1.156 KiB)\n",
      "  0.000563 seconds (309 allocations: 25.453 KiB)\n",
      "\u001b[0m\u001b[1m ────────────────────────────────────────────────────────────────────────────────\u001b[22m\n",
      "\u001b[0m\u001b[1m                               \u001b[22m         Time                    Allocations      \n",
      "                               ───────────────────────   ────────────────────────\n",
      "       Tot / % measured:           1.81ms /  97.9%           64.4KiB /  95.2%    \n",
      "\n",
      " Section               ncalls     time    %tot     avg     alloc    %tot      avg\n",
      " ────────────────────────────────────────────────────────────────────────────────\n",
      " new ds                     1   1.30ms   73.4%  1.30ms   52.8KiB   86.1%  52.8KiB\n",
      "   findall                  1   7.76μs    0.4%  7.76μs      224B    0.4%     224B\n",
      " compute flag vector        1    471μs   26.6%   471μs   8.50KiB   13.9%  8.50KiB\n",
      "\u001b[0m\u001b[1m ────────────────────────────────────────────────────────────────────────────────\u001b[22m\n"
     ]
    },
    {
     "data": {
      "text/html": [
       "<table class=\"data-set\"><thead><tr><th></th><th>xid</th><th>x1</th><th>x2</th><th>x3</th><th>x4</th><th>y1</th><th>y2</th><th>y3</th><th>y4</th></tr><th></th><th>identity</th><th>identity</th><th>identity</th><th>identity</th><th>identity</th><th>identity</th><th>identity</th><th>identity</th><th>identity</th></tr><tr><th></th><th title=\"Union{Missing, Int64}\">Int64?</th><th title=\"Union{Missing, Int64}\">Int64?</th><th title=\"Union{Missing, Float64}\">Float64?</th><th title=\"Union{Missing, Date}\">Date?</th><th title=\"Union{Missing, String}\">String?</th><th title=\"Union{Missing, Int64}\">Int64?</th><th title=\"Union{Missing, Int64}\">Int64?</th><th title=\"Union{Missing, Date}\">Date?</th><th title=\"Union{Missing, String}\">String?</th></tr></thead><tbody><p>4 rows × 9 columns</p><tr><th>1</th><td>111</td><td>1</td><td>-1.2</td><td>2019-10-03</td><td>abcd</td><td>3</td><td>0</td><td>2019-10-01</td><td>abc</td></tr><tr><th>2</th><td>111</td><td>1</td><td>-1.2</td><td>2019-10-03</td><td>abcd</td><td>3</td><td>0</td><td>2019-10-01</td><td>abcd</td></tr><tr><th>3</th><td>222</td><td>2</td><td>-3.0</td><td>2019-09-30</td><td>efgh</td><td>3</td><td>-3</td><td>2019-09-30</td><td>efg</td></tr><tr><th>4</th><td>444</td><td>4</td><td>-3.5</td><td>2019-10-03</td><td>mnop</td><td>3</td><td>1</td><td>2019-10-05</td><td>mnop</td></tr></tbody></table>"
      ],
      "text/latex": [
       "\\begin{tabular}{r|ccccccccc}\n",
       "\t& xid & x1 & x2 & x3 & x4 & y1 & y2 & y3 & y4\\\\\n",
       "\t\\hline\n",
       "\t& identity & identity & identity & identity & identity & identity & identity & identity & identity\\\\\n",
       "\t\\hline\n",
       "\t& Int64? & Int64? & Float64? & Date? & String? & Int64? & Int64? & Date? & String?\\\\\n",
       "\t\\hline\n",
       "\t1 & 111 & 1 & -1.2 & 2019-10-03 & abcd & 3 & 0 & 2019-10-01 & abc \\\\\n",
       "\t2 & 111 & 1 & -1.2 & 2019-10-03 & abcd & 3 & 0 & 2019-10-01 & abcd \\\\\n",
       "\t3 & 222 & 2 & -3.0 & 2019-09-30 & efgh & 3 & -3 & 2019-09-30 & efg \\\\\n",
       "\t4 & 444 & 4 & -3.5 & 2019-10-03 & mnop & 3 & 1 & 2019-10-05 & mnop \\\\\n",
       "\\end{tabular}\n"
      ],
      "text/plain": [
       "\u001b[1m4×9 Dataset\u001b[0m\n",
       "\u001b[1m Row \u001b[0m│\u001b[1m xid      \u001b[0m\u001b[1m x1       \u001b[0m\u001b[1m x2       \u001b[0m\u001b[1m x3         \u001b[0m\u001b[1m x4       \u001b[0m\u001b[1m y1       \u001b[0m\u001b[1m y2       \u001b[0m\u001b[1m\u001b[0m ⋯\n",
       "\u001b[1m     \u001b[0m│\u001b[90m identity \u001b[0m\u001b[90m identity \u001b[0m\u001b[90m identity \u001b[0m\u001b[90m identity   \u001b[0m\u001b[90m identity \u001b[0m\u001b[90m identity \u001b[0m\u001b[90m identity \u001b[0m\u001b[90m\u001b[0m ⋯\n",
       "\u001b[1m     \u001b[0m│\u001b[90m Int64?   \u001b[0m\u001b[90m Int64?   \u001b[0m\u001b[90m Float64? \u001b[0m\u001b[90m Date?      \u001b[0m\u001b[90m String?  \u001b[0m\u001b[90m Int64?   \u001b[0m\u001b[90m Int64?   \u001b[0m\u001b[90m\u001b[0m ⋯\n",
       "─────┼──────────────────────────────────────────────────────────────────────────\n",
       "   1 │      111         1      -1.2  2019-10-03  abcd             3         0  ⋯\n",
       "   2 │      111         1      -1.2  2019-10-03  abcd             3         0\n",
       "   3 │      222         2      -3.0  2019-09-30  efgh             3        -3\n",
       "   4 │      444         4      -3.5  2019-10-03  mnop             3         1\n",
       "\u001b[36m                                                               2 columns omitted\u001b[0m"
      ]
     },
     "metadata": {},
     "output_type": "display_data"
    }
   ],
   "source": [
    "flag,nds = my_cartesianjoin_v5(dsl,dsr,\n",
    "  on = [:xid=>:yid, :x2=>:y2=>fun1]); # :x1=>:y1=>isless, \n",
    "nds"
   ]
  },
  {
   "cell_type": "code",
   "execution_count": 334,
   "metadata": {},
   "outputs": [
    {
     "name": "stdout",
     "output_type": "stream",
     "text": [
      "\u001b[0m\u001b[1m ────────────────────────────────────────────────────────────────────────────────\u001b[22m\n",
      "\u001b[0m\u001b[1m                               \u001b[22m         Time                    Allocations      \n",
      "                               ───────────────────────   ────────────────────────\n",
      "       Tot / % measured:           5.15ms /  98.9%            793KiB /  99.6%    \n",
      "\n",
      " Section               ncalls     time    %tot     avg     alloc    %tot      avg\n",
      " ────────────────────────────────────────────────────────────────────────────────\n",
      " new ds                     1   3.46ms   67.8%  3.46ms    704KiB   89.1%   704KiB\n",
      "   newds left               1    780μs   15.3%   780μs    198KiB   25.1%   198KiB\n",
      "   findall                  1    696μs   13.7%   696μs    255KiB   32.3%   255KiB\n",
      " compute flag vector        1   1.64ms   32.2%  1.64ms   86.3KiB   10.9%  86.3KiB\n",
      "\u001b[0m\u001b[1m ────────────────────────────────────────────────────────────────────────────────\u001b[22m\n"
     ]
    }
   ],
   "source": [
    "flag,nds = my_cartesianjoin_v5(dsl_big,dsr_big,\n",
    "  on = [:x1 => :y1, :x2 => :y2 => fun1],threads=true);"
   ]
  },
  {
   "cell_type": "code",
   "execution_count": 336,
   "metadata": {},
   "outputs": [
    {
     "name": "stdout",
     "output_type": "stream",
     "text": [
      "\u001b[0m\u001b[1m ────────────────────────────────────────────────────────────────────────────────\u001b[22m\n",
      "\u001b[0m\u001b[1m                               \u001b[22m         Time                    Allocations      \n",
      "                               ───────────────────────   ────────────────────────\n",
      "       Tot / % measured:            247ms / 100.0%           60.3MiB / 100.0%    \n",
      "\n",
      " Section               ncalls     time    %tot     avg     alloc    %tot      avg\n",
      " ────────────────────────────────────────────────────────────────────────────────\n",
      " new ds                     1    166ms   67.2%   166ms   59.4MiB   98.5%  59.4MiB\n",
      "   findall                  1   37.7ms   15.3%  37.7ms   20.3MiB   33.7%  20.3MiB\n",
      "   newds left               1   9.25ms    3.7%  9.25ms   17.3MiB   28.7%  17.3MiB\n",
      " compute flag vector        1   81.2ms   32.8%  81.2ms    930KiB    1.5%   930KiB\n",
      "\u001b[0m\u001b[1m ────────────────────────────────────────────────────────────────────────────────\u001b[22m\n"
     ]
    }
   ],
   "source": [
    "flag,nds = my_cartesianjoin_v5(dsl_big2,dsr_big2,\n",
    "  on = [:x1 => :y1, :x2 => :y2 => fun1],threads=true);"
   ]
  },
  {
   "cell_type": "code",
   "execution_count": 303,
   "metadata": {},
   "outputs": [
    {
     "data": {
      "text/plain": [
       "1000"
      ]
     },
     "metadata": {},
     "output_type": "display_data"
    }
   ],
   "source": [
    "  l_len = nrow(dsl_big)\n",
    "  r_len = nrow(dsr_big)"
   ]
  },
  {
   "cell_type": "code",
   "execution_count": 269,
   "metadata": {},
   "outputs": [
    {
     "data": {
      "text/plain": [
       "5"
      ]
     },
     "metadata": {},
     "output_type": "display_data"
    }
   ],
   "source": [
    "  l_len = nrow(dsl)\n",
    "  r_len = nrow(dsr)"
   ]
  },
  {
   "cell_type": "markdown",
   "metadata": {},
   "source": [
    "## step4-findall优化"
   ]
  },
  {
   "cell_type": "code",
   "execution_count": 320,
   "metadata": {},
   "outputs": [
    {
     "name": "stdout",
     "output_type": "stream",
     "text": [
      "  0.052868 seconds (8 allocations: 15.770 MiB)\n"
     ]
    },
    {
     "data": {
      "text/plain": [
       "503912-element Vector{Int64}:\n",
       "      136\n",
       "      300\n",
       "      424\n",
       "     1040\n",
       "     1288\n",
       "     1765\n",
       "     2271\n",
       "     2719\n",
       "     3164\n",
       "     3249\n",
       "        ⋮\n",
       " 99989583\n",
       " 99989724\n",
       " 99989757\n",
       " 99989999\n",
       " 99991146\n",
       " 99991195\n",
       " 99993133\n",
       " 99993603\n",
       " 99995943"
      ]
     },
     "metadata": {},
     "output_type": "display_data"
    }
   ],
   "source": [
    "@time begin\n",
    "  all = findall(isone,flag);\n",
    "end"
   ]
  },
  {
   "cell_type": "code",
   "execution_count": 310,
   "metadata": {},
   "outputs": [
    {
     "name": "stdout",
     "output_type": "stream",
     "text": [
      "  0.124739 seconds (3.00 M allocations: 61.105 MiB)\n"
     ]
    }
   ],
   "source": [
    "@time begin\n",
    "  all = Vector{Int32}(undef,total_length)\n",
    "  ct = 1\n",
    "  for i in 1:length(flag)\n",
    "    flag[i] == 0 && continue\n",
    "    all[ct] = i\n",
    "    ct += 1\n",
    "  end\n",
    "end"
   ]
  },
  {
   "cell_type": "markdown",
   "metadata": {},
   "source": [
    "## step1优化"
   ]
  },
  {
   "cell_type": "code",
   "execution_count": 304,
   "metadata": {},
   "outputs": [
    {
     "name": "stdout",
     "output_type": "stream",
     "text": [
      "  0.001153 seconds (3 allocations: 4.094 KiB)\n"
     ]
    },
    {
     "data": {
      "text/plain": [
       "4898"
      ]
     },
     "metadata": {},
     "output_type": "display_data"
    }
   ],
   "source": [
    "T = Int32\n",
    "@time begin\n",
    "  ## new left\n",
    "  dsl_count = Vector{T}(undef, nrow(dsl_big))  # left每一行对应几个右边\n",
    "\n",
    "  \"\"\"\n",
    "  for i in 1:l_len\n",
    "    lo = 1+(i-1)*r_len\n",
    "    hi = lo + r_len - 1\n",
    "    #push!(dsl_count,count(==(true),flag[lo:hi]))\n",
    "    @inbounds dsl_count[i] = count(view(flag,lo:hi))\n",
    "  end\n",
    "  \"\"\"\n",
    "  \n",
    "  find_count_for_left(flag, dsl_count,l_len,r_len)\n",
    "end\n",
    "\n",
    "  new_ends = cumsum(dsl_count)  # 累计和\n",
    "  total_length = new_ends[end]\n",
    "\n"
   ]
  },
  {
   "cell_type": "markdown",
   "metadata": {},
   "source": [
    "## step2优化"
   ]
  },
  {
   "cell_type": "code",
   "execution_count": null,
   "metadata": {},
   "outputs": [],
   "source": [
    "@time IMD._columns(dsl)[1]"
   ]
  },
  {
   "cell_type": "markdown",
   "metadata": {},
   "source": [
    "## step-4优化"
   ]
  },
  {
   "cell_type": "code",
   "execution_count": 190,
   "metadata": {},
   "outputs": [
    {
     "name": "stdout",
     "output_type": "stream",
     "text": [
      "  0.001566 seconds (10.69 k allocations: 494.156 KiB)\n"
     ]
    }
   ],
   "source": [
    "\n",
    "\n",
    "  #dsr_idx = []\n",
    "@time begin\n",
    "  dsr_idx = findall(isone,flag) # Vector{T}(undef,total_length)\n",
    "  #all = findall(isone,flag)\n",
    "\n",
    "\n",
    "  for i in 1:l_len\n",
    "\n",
    "    \"\"\"\n",
    "      lo = 1+(i-1)*r_len\n",
    "      hi = lo + r_len - 1\n",
    "      # append!(dsr_idx,findall(isone,flag[lo:hi]))\n",
    "      #append!(dsr_idx,findall(isone,view(flag,(i-1)*r_len + 1:i*r_len)))\n",
    "      \"\"\"\n",
    "\n",
    "      dsl_count[i] == 0 && continue\n",
    "\n",
    "      \"\"\"\n",
    "      lo = 1+(i-1)*r_len\n",
    "      hi = lo + r_len - 1\n",
    "      pat_res = findall(isone,view(flag,lo:hi))\n",
    "      \"\"\"\n",
    "\n",
    "      i == 1 ? lo = 1 : lo = new_ends[i - 1] + 1\n",
    "      hi = new_ends[i]\n",
    "      \n",
    "\n",
    "      #println(lo:hi)\n",
    "      #println(all[lo:hi] .- (i-1)*r_len)\n",
    "      #dsr_idx[lo:hi] = findall(isone,view(flag,(i-1)*r_len + 1:i*r_len))\n",
    "      #dsr_idx[lo:hi] = all[lo:hi] .- (i-1)*r_len #broadcast(-,all[lo:hi],(i-1)*r_len)\n",
    "      \n",
    "      \n",
    "      dsr_idx[lo:hi] .-= (i-1)*r_len\n",
    "\n",
    "      # for k in lo:hi\n",
    "      #    all[k] -= (i-1)*r_len\n",
    "      # end\n",
    "      \n",
    "    end \n",
    "\n",
    "end"
   ]
  },
  {
   "cell_type": "code",
   "execution_count": 163,
   "metadata": {},
   "outputs": [
    {
     "name": "stdout",
     "output_type": "stream",
     "text": [
      "  0.000018 seconds (6 allocations: 320 bytes)\n",
      "  0.000021 seconds (5 allocations: 224 bytes)\n"
     ]
    }
   ],
   "source": [
    "@time findall(isone,view(flag,1:5));\n",
    "@time findall(isone,flag);"
   ]
  },
  {
   "cell_type": "code",
   "execution_count": 81,
   "metadata": {},
   "outputs": [
    {
     "name": "stdout",
     "output_type": "stream",
     "text": [
      "  0.000015 seconds (1 allocation: 48 bytes)\n"
     ]
    },
    {
     "data": {
      "text/plain": [
       "2"
      ]
     },
     "metadata": {},
     "output_type": "display_data"
    }
   ],
   "source": [
    "@time  count(view(flag,1:5))"
   ]
  },
  {
   "cell_type": "code",
   "execution_count": 173,
   "metadata": {},
   "outputs": [
    {
     "name": "stdout",
     "output_type": "stream",
     "text": [
      "  0.000024 seconds (4 allocations: 192 bytes)\n"
     ]
    },
    {
     "data": {
      "text/plain": [
       "2-element view(::Vector{Int64}, 1:2) with eltype Int64:\n",
       " -5\n",
       " -4"
      ]
     },
     "metadata": {},
     "output_type": "display_data"
    }
   ],
   "source": [
    "@time all[1:2] .-= 1"
   ]
  },
  {
   "cell_type": "code",
   "execution_count": 172,
   "metadata": {},
   "outputs": [
    {
     "name": "stdout",
     "output_type": "stream",
     "text": [
      "  0.000011 seconds\n"
     ]
    }
   ],
   "source": [
    "@time begin\n",
    "  for i in 1:2\n",
    "    all[i] -= 1\n",
    "  end\n",
    "end"
   ]
  },
  {
   "cell_type": "code",
   "execution_count": 92,
   "metadata": {},
   "outputs": [
    {
     "name": "stdout",
     "output_type": "stream",
     "text": [
      "  0.000031 seconds (12 allocations: 480 bytes)\n"
     ]
    }
   ],
   "source": [
    "@time  begin\n",
    "for i in 1:length(view(flag,1:5))\n",
    "  view(flag,1:5)[i] == 0 && continue\n",
    "  append!(di,1)\n",
    "end\n",
    "end"
   ]
  },
  {
   "cell_type": "code",
   "execution_count": 340,
   "metadata": {},
   "outputs": [
    {
     "data": {
      "text/plain": [
       "Base.OneTo(3)"
      ]
     },
     "metadata": {},
     "output_type": "display_data"
    }
   ],
   "source": [
    "a = [1,2,3]\n",
    "eachindex(a)"
   ]
  },
  {
   "cell_type": "code",
   "execution_count": 342,
   "metadata": {},
   "outputs": [
    {
     "name": "stdout",
     "output_type": "stream",
     "text": [
      "123"
     ]
    }
   ],
   "source": [
    "for i in eachindex(a)\n",
    "  print(i)\n",
    "end\n"
   ]
  },
  {
   "cell_type": "code",
   "execution_count": 215,
   "metadata": {},
   "outputs": [
    {
     "data": {
      "text/plain": [
       "25-element Vector{Bool}:\n",
       " 1\n",
       " 1\n",
       " 0\n",
       " 0\n",
       " 0\n",
       " 0\n",
       " 0\n",
       " 1\n",
       " 0\n",
       " 0\n",
       " ⋮\n",
       " 0\n",
       " 0\n",
       " 1\n",
       " 0\n",
       " 0\n",
       " 0\n",
       " 0\n",
       " 0\n",
       " 0"
      ]
     },
     "metadata": {},
     "output_type": "display_data"
    }
   ],
   "source": [
    "flag"
   ]
  }
 ],
 "metadata": {
  "kernelspec": {
   "display_name": "Julia 1.7.3",
   "language": "julia",
   "name": "julia-1.7"
  },
  "language_info": {
   "file_extension": ".jl",
   "mimetype": "application/julia",
   "name": "julia",
   "version": "1.7.3"
  },
  "orig_nbformat": 4
 },
 "nbformat": 4,
 "nbformat_minor": 2
}
