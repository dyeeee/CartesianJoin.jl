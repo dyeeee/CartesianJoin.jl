{
 "cells": [
  {
   "cell_type": "code",
   "execution_count": 1,
   "metadata": {},
   "outputs": [],
   "source": [
    "using InMemoryDatasets\n",
    "import InMemoryDatasets as IMD\n",
    "using BenchmarkTools\n",
    "using TimerOutputs"
   ]
  },
  {
   "cell_type": "markdown",
   "metadata": {},
   "source": [
    "# Data"
   ]
  },
  {
   "cell_type": "markdown",
   "metadata": {},
   "source": [
    "## Case1"
   ]
  },
  {
   "cell_type": "code",
   "execution_count": 2,
   "metadata": {},
   "outputs": [
    {
     "name": "stdout",
     "output_type": "stream",
     "text": [
      "dsl = Dataset(xid = [111, 222, 333, 444, 555], x1 = [1, 2, 1, 4, 5], x2 = [-1.2, -3, 2.1, -3.5, 2.8], x3 = [Date(\"2019-10-03\"), Date(\"2019-09-30\"), Date(\"2019-10-04\"), Date(\"2019-10-03\"), Date(\"2019-10-03\")], x4 = [\"abcd\", \"efgh\", \"ijkl\", \"mnop\", \"qrst\"]) = 5×5 Dataset\n",
      " Row │ xid       x1        x2        x3          x4\n",
      "     │ identity  identity  identity  identity    identity\n",
      "     │ Int64?    Int64?    Float64?  Date?       String?\n",
      "─────┼────────────────────────────────────────────────────\n",
      "   1 │      111         1      -1.2  2019-10-03  abcd\n",
      "   2 │      222         2      -3.0  2019-09-30  efgh\n",
      "   3 │      333         1       2.1  2019-10-04  ijkl\n",
      "   4 │      444         4      -3.5  2019-10-03  mnop\n",
      "   5 │      555         5       2.8  2019-10-03  qrst\n",
      "dsr = Dataset(yid = [111, 111, 222, 444, 333], y1 = [3, 3, 3, 3, 3], y2 = [0, 0, -3, 1, 2], y3 = [Date(\"2019-10-01\"), Date(\"2019-10-01\"), Date(\"2019-09-30\"), Date(\"2019-10-05\"), Date(\"2019-10-05\")], y4 = [\"abc\", \"abcd\", \"efg\", \"mnop\", \"qrst\"]) = 5×5 Dataset\n",
      " Row │ yid       y1        y2        y3          y4\n",
      "     │ identity  identity  identity  identity    identity\n",
      "     │ Int64?    Int64?    Int64?    Date?       String?\n",
      "─────┼────────────────────────────────────────────────────\n",
      "   1 │      111         3         0  2019-10-01  abc\n",
      "   2 │      111         3         0  2019-10-01  abcd\n",
      "   3 │      222         3        -3  2019-09-30  efg\n",
      "   4 │      444         3         1  2019-10-05  mnop\n",
      "   5 │      333         3         2  2019-10-05  qrst\n"
     ]
    }
   ],
   "source": [
    "@show dsl = Dataset(xid = [111,222,333,444,555], \n",
    "                    x1 = [1,2,1,4,5], \n",
    "                    x2 = [-1.2,-3,2.1,-3.5,2.8],\n",
    "                    x3 = [Date(\"2019-10-03\"), Date(\"2019-09-30\"), Date(\"2019-10-04\"), Date(\"2019-10-03\"), Date(\"2019-10-03\")],\n",
    "                    x4 = [\"abcd\",\"efgh\",\"ijkl\",\"mnop\",\"qrst\"]);\n",
    "\n",
    "@show dsr = Dataset(yid = [111,111,222,444,333],\n",
    "                    y1 = [3,3,3,3,3],\n",
    "                    y2 = [0,0, -3,1,2],\n",
    "                    y3 = [Date(\"2019-10-01\"),Date(\"2019-10-01\"), Date(\"2019-09-30\"), Date(\"2019-10-05\"), Date(\"2019-10-05\")],\n",
    "                    y4 = [\"abc\",\"abcd\",\"efg\",\"mnop\",\"qrst\"]);"
   ]
  },
  {
   "cell_type": "markdown",
   "metadata": {},
   "source": [
    "## Case2"
   ]
  },
  {
   "cell_type": "code",
   "execution_count": 18,
   "metadata": {},
   "outputs": [],
   "source": [
    "dsl_big = Dataset(rand(10^3, 5), :auto);\n",
    "modify!(dsl_big,[:x1,:x2,:x3] .=> byrow(x -> (x*100)));\n",
    "modify!(dsl_big,[:x1,:x2,:x3] .=> byrow(round), [:x1,:x2,:x3] .=> byrow(Int));\n",
    "\n",
    "dsr_big = Dataset(rand(10^3, 5), :auto);\n",
    "modify!(dsr_big,[:x1,:x2,:x3] .=> byrow(x -> (x*100)));\n",
    "modify!(dsr_big,[:x1,:x2,:x3] .=> byrow(round), [:x1,:x2,:x3] .=> byrow(Int));\n",
    "function x2y(str)\n",
    "  replace(str,'x' => 'y')\n",
    "end\n",
    "rename!(x2y,dsr_big);"
   ]
  },
  {
   "cell_type": "markdown",
   "metadata": {},
   "source": [
    "## Case3"
   ]
  },
  {
   "cell_type": "code",
   "execution_count": 19,
   "metadata": {},
   "outputs": [],
   "source": [
    "dsl_big2 = Dataset(rand(10^4, 5), :auto);\n",
    "modify!(dsl_big2,[:x1,:x2,:x3] .=> byrow(x -> (x*100)));\n",
    "modify!(dsl_big2,[:x1,:x2,:x3] .=> byrow(round), [:x1,:x2,:x3] .=> byrow(Int));\n",
    "\n",
    "dsr_big2 = Dataset(rand(10^4, 5), :auto);\n",
    "modify!(dsr_big2,[:x1,:x2,:x3] .=> byrow(x -> (x*100)));\n",
    "modify!(dsr_big2,[:x1,:x2,:x3] .=> byrow(round), [:x1,:x2,:x3] .=> byrow(Int));\n",
    "function x2y(str)\n",
    "  replace(str,'x' => 'y')\n",
    "end\n",
    "rename!(x2y,dsr_big2);"
   ]
  },
  {
   "cell_type": "markdown",
   "metadata": {},
   "source": [
    "# Version-3"
   ]
  },
  {
   "cell_type": "code",
   "execution_count": null,
   "metadata": {},
   "outputs": [],
   "source": [
    "function my_cartesianjoin_v3(dsl::AbstractDataset, dsr::AbstractDataset;\n",
    "  on=nothing, threads::Bool=true,\n",
    "  flag=ones(Bool, nrow(dsl), nrow(dsr)))\n",
    "\n",
    "  reset_timer!()\n",
    "\n",
    "  dsr_cols = Symbol[]\n",
    "  equalon_dsr_cols = Symbol[]\n",
    "  conditions = Function[]\n",
    "\n",
    "  for element in map(x -> x.second, on)\n",
    "    if typeof(element) <: Pair\n",
    "      push!(dsr_cols, element.first)\n",
    "      push!(conditions, element.second)\n",
    "    else\n",
    "      push!(dsr_cols, element)\n",
    "      push!(equalon_dsr_cols, element)\n",
    "      push!(conditions, isequal)\n",
    "    end\n",
    "  end\n",
    "\n",
    "  if Set(conditions) == Set([isequal])\n",
    "    return IMD.innerjoin(dsl, dsr, on=on)\n",
    "  end\n",
    "\n",
    "  onleft = IMD.multiple_getindex(IMD.index(dsl), map(x -> x.first, on))\n",
    "  onright = IMD.multiple_getindex(IMD.index(dsr), dsr_cols)\n",
    "\n",
    "  equalon_dsr_cols = IMD.multiple_getindex(IMD.index(dsr), equalon_dsr_cols)\n",
    "  right_cols = setdiff(1:length(IMD.index(dsr)), equalon_dsr_cols)\n",
    "\n",
    "  oncols_left = onleft\n",
    "  oncols_right = onright\n",
    "\n",
    "\n",
    "  # get flag, idx and ranges\n",
    "  #println(flag)\n",
    "  @timeit \"compute flag matrix\"  cross_compare_2(dsl, dsr, flag, conditions, onleft, onright, threads)\n",
    "  #cross_compare(dsl,dsr,flag,conditions,onleft,onright,threads)\n",
    "  # println(flag)\n",
    "  ## return flag\n",
    "  @timeit \"compute idx and ranges\" idx, ranges = handle_flag_2(dsl, dsr, sparse(flag), threads)\n",
    "  # idx, ranges = handle_flag_t(dsl,dsr,sparse(flag),threads)\n",
    "  \"\"\"\n",
    "  println(\"idx,ranges\")\n",
    "  println(idx)\n",
    "  println(ranges)\n",
    "  \"\"\"\n",
    "\n",
    "  # create result\n",
    "  @timeit \"generate_newds\" newds = generate_newds(idx, ranges, dsl, dsr, right_cols, threads)\n",
    "\n",
    "  print_timer()\n",
    "  newds ,idx,ranges\n",
    "end\n",
    "\n",
    "function cross_compare(dsl, dsr,\n",
    "  flag, conditions, onleft, onright, threads)\n",
    "  oncols_left = onleft\n",
    "  oncols_right = onright\n",
    "\n",
    "  l_len = nrow(dsl)\n",
    "  r_len = nrow(dsr)\n",
    "\n",
    "  for i in 1:length(conditions)  # Each conditions 每个条件\n",
    "    fun = conditions[i]\n",
    "    #println(var_r)\n",
    "    # tmp = zeros(r_len)\n",
    "    @_threadsfor threads for j in 1:l_len # multithread safe? # 可以多线程 逐行判断\n",
    "      #flag[j,:] =  flag[j,:] .* fun.((IMD._columns(dsl)[oncols_left[i]][j]), IMD._columns(dsr)[oncols_right[i]])\n",
    "      flag[j, :] = flag[j, :] .* _op_for_vector((IMD._columns(dsl)[oncols_left[i]][j]), IMD._columns(dsr)[oncols_right[i]], fun)\n",
    "    end\n",
    "  end\n",
    "\n",
    "  flag\n",
    "end\n",
    "\n",
    "Base.@propagate_inbounds function _op_for_vector(value, vector, fun)\n",
    "  fun.(value, vector)\n",
    "end\n",
    "\n",
    "Base.@propagate_inbounds function _op_for_vector_2(value, vector, fun)\n",
    "  res = Array{Bool}(undef,length(vector))\n",
    "  for i in 1:length(vector)\n",
    "    res[i] = fun(value,vector[i])\n",
    "  end\n",
    "  res\n",
    "end\n",
    "\n",
    "function cross_compare_2(dsl, dsr,\n",
    "  flag, conditions, onleft, onright, threads)\n",
    "  oncols_left = onleft\n",
    "  oncols_right = onright\n",
    "\n",
    "  l_len = nrow(dsl)\n",
    "  r_len = nrow(dsr)\n",
    "\n",
    "  for i in 1:length(conditions)  # Each conditions 每个条件\n",
    "    fun = conditions[i]\n",
    "    @_threadsfor threads for j in 1:l_len # multithread safe? # 可以多线程 逐行判断\n",
    "      #println(_op_for_vector((IMD._columns(dsl)[oncols_left[i]][j]), IMD._columns(dsr)[oncols_right[1]], fun))\n",
    "      update_row!(view(flag,j,:), _op_for_vector_2((IMD._columns(dsl)[oncols_left[i]][j]), IMD._columns(dsr)[oncols_right[i]], fun))\n",
    "    end\n",
    "  end\n",
    "\n",
    "  #println(flag)\n",
    "  flag\n",
    "end\n",
    "\n",
    "function update_row!(row,res)\n",
    "  row .*= res\n",
    "end\n",
    "\n",
    "function handle_flag(dsl, dsr, flag)\n",
    "  #flag = sparse(flag)\n",
    "  idx = Int32[]\n",
    "  ranges = Vector{UnitRange{Int32}}(undef, nrow(dsl))\n",
    "  lo_idx = 1\n",
    "\n",
    "  \n",
    "  for j in 1:nrow(dsl)  # 应该也可以多线程\n",
    "    dsr_satis_idx = findall(isone, flag[j, :])   # 每一行的对应索引\n",
    "\n",
    "    if length(dsr_satis_idx) != 0\n",
    "      if !(dsr_satis_idx[1] in idx)   # first?\n",
    "        idx = [idx; dsr_satis_idx]    # 放到idx里，现在认为不会有跨值的情况 .first和.end不同时存在或不存在\n",
    "      end\n",
    "      lo_idx = findfirst(isequal(dsr_satis_idx[1]), idx)  # 算range\n",
    "      hi_idx = lo_idx + length(dsr_satis_idx) - 1\n",
    "      ranges[j] = lo_idx:hi_idx\n",
    "    else\n",
    "      ranges[j] = lo_idx:(lo_idx-1)\n",
    "    end\n",
    "  end\n",
    "\n",
    "  \n",
    "  append!(idx, setdiff(1:nrow(dsr), idx))\n",
    "  idx, ranges\n",
    "end\n",
    "\n",
    "# invalid\n",
    "function handle_flag_t(dsl, dsr, flag, threads)\n",
    "  #flag = sparse(flag)\n",
    "  idx = Int32[]\n",
    "  ranges = Vector{UnitRange{Int32}}(undef, nrow(dsl))\n",
    "  lo_idx = 1\n",
    "\n",
    "  @_threadsfor threads for i in 1:nrow(dsl)  # 应该也可以多线程？\n",
    "    dsr_satis_idx = findall(isone, flag[i, :])   # 每一行的对应索引\n",
    "\n",
    "    if length(dsr_satis_idx) != 0\n",
    "      if !(dsr_satis_idx[1] in idx)   # first?\n",
    "        idx = [idx; dsr_satis_idx]  # 放到idx里，现在认为不会有跨值的情况 .first和.end不同时存在或不存在\n",
    "      end\n",
    "      lo_idx = findfirst(isequal(dsr_satis_idx[1]), idx)  # 算range\n",
    "      hi_idx = lo_idx + length(dsr_satis_idx) - 1\n",
    "      ranges[i] = lo_idx:hi_idx\n",
    "    else\n",
    "      ranges[i] = lo_idx:(lo_idx-1)\n",
    "    end\n",
    "  end\n",
    "\n",
    "  append!(idx, setdiff(1:nrow(dsr), idx))\n",
    "  idx, ranges\n",
    "end\n",
    "\n",
    "function handle_flag_2(dsl, dsr, flag,threads::Bool = false)\n",
    "  # 没有聚合ranges 但是空间换时间\n",
    "\n",
    "  onesres = findall(isone, transpose(flag))\n",
    "  idx = getindex.(onesres,1)\n",
    "\n",
    "  ranges = Vector{UnitRange{Int64}}(undef, nrow(dsl))\n",
    "  fill!(ranges,1:0)\n",
    "  \n",
    "  A = getindex.(onesres,2)\n",
    "  B = hcat([[i, count(==(i), A)] for i in unique(A)]...)[2,:]  # count each idx\n",
    "  C = cumsum(B)\n",
    "  D = [1;C .+ 1]\n",
    "   \"\"\"\n",
    "  println(onesres)\n",
    "  println(\"ABCD\")\n",
    "  println(A)\n",
    "  println(B)\n",
    "  println(C)\n",
    "  println(D)\n",
    " \"\"\"\n",
    "  loc = 1\n",
    "  @_threadsfor false for i in unique(A)  # i的位置被随机了，和loc对不上，不能多线程\n",
    "    # rintln(loc)\n",
    "    ranges[i] = D[loc]:C[loc]\n",
    "    loc += 1\n",
    "    ##println(ranges)\n",
    "  end\n",
    "\n",
    "\n",
    " #println(idx)\n",
    " #println(ranges)\n",
    "\n",
    " idx, ranges\n",
    "end\n",
    "\n",
    "function generate_newds(idx, ranges, dsl, dsr, right_cols, threads::Bool=false)\n",
    "  new_ends = map(length, ranges)\n",
    "  IMD.our_cumsum!(new_ends)\n",
    "  total_length = new_ends[end]\n",
    "\n",
    "  inbits = nothing\n",
    "  revised_ends = nothing\n",
    "  #threads = true\n",
    "  makeunique = false\n",
    "\n",
    "  res = []\n",
    "  for j in 1:length(IMD.index(dsl))\n",
    "    _res = IMD.allocatecol(IMD._columns(dsl)[j], total_length, addmissing=false)\n",
    "    if IMD.DataAPI.refpool(_res) !== nothing\n",
    "      IMD._fill_oncols_left_table_inner!(_res.refs, IMD.DataAPI.refarray(IMD._columns(dsl)[j]), ranges, new_ends, total_length; inbits=inbits, en2=revised_ends, threads=threads)\n",
    "    else\n",
    "      IMD._fill_oncols_left_table_inner!(_res, IMD._columns(dsl)[j], ranges, new_ends, total_length; inbits=inbits, en2=revised_ends, threads=false)\n",
    "    end\n",
    "    push!(res, _res)\n",
    "  end\n",
    "\n",
    "  if dsl isa SubDataset\n",
    "    newds = Dataset(res, copy(IMD.index(dsl)), copycols=false)\n",
    "  else\n",
    "    newds = Dataset(res, IMD.Index(copy(IMD.index(dsl).lookup), copy(IMD.index(dsl).names), copy(IMD.index(dsl).format)), copycols=false)\n",
    "  end\n",
    "\n",
    "  for j in 1:length(right_cols)\n",
    "    _res = IMD.allocatecol(IMD._columns(dsr)[right_cols[j]], total_length, addmissing=false)\n",
    "    if IMD.DataAPI.refpool(_res) !== nothing\n",
    "      IMD._fill_right_cols_table_inner!(_res.refs, view(IMD.DataAPI.refarray(IMD._columns(dsr)[right_cols[j]]), idx), ranges, new_ends, total_length; inbits=inbits, en2=revised_ends, threads=threads)\n",
    "    else\n",
    "      IMD._fill_right_cols_table_inner!(_res, view(IMD._columns(dsr)[right_cols[j]], idx), ranges, new_ends, total_length; inbits=inbits, en2=revised_ends, threads=threads)\n",
    "    end\n",
    "    push!(IMD._columns(newds), _res)\n",
    "\n",
    "    new_var_name = IMD.make_unique([IMD._names(dsl); IMD._names(dsr)[right_cols[j]]], makeunique=makeunique)[end]\n",
    "    push!(IMD.index(newds), new_var_name)\n",
    "    setformat!(newds, IMD.index(newds)[new_var_name], getformat(dsr, IMD._names(dsr)[right_cols[j]]))\n",
    "  end\n",
    "\n",
    "  \n",
    "  newds\n",
    "end\n"
   ]
  },
  {
   "cell_type": "markdown",
   "metadata": {},
   "source": [
    "# Cases Test"
   ]
  },
  {
   "cell_type": "markdown",
   "metadata": {},
   "source": [
    "# Version-4"
   ]
  },
  {
   "cell_type": "code",
   "execution_count": 82,
   "metadata": {},
   "outputs": [
    {
     "data": {
      "text/plain": [
       "generate_newds_v4 (generic function with 1 method)"
      ]
     },
     "metadata": {},
     "output_type": "display_data"
    }
   ],
   "source": [
    "function my_cartesianjoin_v4(dsl::AbstractDataset, dsr::AbstractDataset;\n",
    "  on=nothing, threads::Bool=true, flag = ones(Bool,nrow(dsl) * nrow(dsr)))\n",
    "\n",
    "  reset_timer!()\n",
    "\n",
    "  dsr_cols = Symbol[]\n",
    "  equalon_dsr_cols = Symbol[]\n",
    "  conditions = Function[]\n",
    "\n",
    "  for element in map(x -> x.second, on)\n",
    "    if typeof(element) <: Pair\n",
    "      push!(dsr_cols, element.first)\n",
    "      push!(conditions, element.second)\n",
    "    else\n",
    "      push!(dsr_cols, element)\n",
    "      push!(equalon_dsr_cols, element)\n",
    "      push!(conditions, isequal)\n",
    "    end\n",
    "  end\n",
    "\n",
    "  onleft = IMD.multiple_getindex(IMD.index(dsl), map(x -> x.first, on))\n",
    "  onright = IMD.multiple_getindex(IMD.index(dsr), dsr_cols)\n",
    "\n",
    "  equalon_dsr_cols = IMD.multiple_getindex(IMD.index(dsr), equalon_dsr_cols)\n",
    "  right_cols = setdiff(1:length(IMD.index(dsr)), equalon_dsr_cols)\n",
    "\n",
    "  oncols_left = onleft\n",
    "  oncols_right = onright\n",
    "\n",
    "  #println(oncols_left)\n",
    "  #println(right_cols)\n",
    "\n",
    "  # get flag, idx and ranges\n",
    "  #println(flag)\n",
    "  @timeit \"compute flag vector\"  cross_compare_vec(dsl, dsr, flag, conditions, onleft, onright, threads)\n",
    "  #cross_compare(dsl,dsr,flag,conditions,onleft,onright,threads)\n",
    "  #println(flag)\n",
    "\n",
    "  l_len = nrow(dsl)\n",
    "  r_len = nrow(dsr)\n",
    "\n",
    "  @timeit \"new ds\" nds = generate_newds_v4(flag,dsr,dsr,l_len,r_len,right_cols)\n",
    "\n",
    "  println()\n",
    "  print_timer()\n",
    "  flag,nds\n",
    "end\n",
    "\n",
    "function cross_compare_vec(dsl, dsr,\n",
    "  flag, conditions, onleft, onright, threads)\n",
    "\n",
    "  oncols_left = onleft\n",
    "  oncols_right = onright\n",
    "\n",
    "  l_len = nrow(dsl)\n",
    "  r_len = nrow(dsr)\n",
    "\n",
    "  for i in 1:length(conditions)  # Each conditions 每个条件\n",
    "    fun = conditions[i]\n",
    "\n",
    "    IMD.@_threadsfor threads for j in 1:l_len  # each row in dsl\n",
    "      cur_index = (j-1)*l_len  \n",
    "      ## 传递函数的allocations？\n",
    "      _op_for_dsrcol(flag,fun,cur_index,IMD._columns(dsl)[oncols_left[i]][j],IMD._columns(dsr)[oncols_right[i]],r_len,\n",
    "                     oncols_left,oncols_right)\n",
    "      \n",
    "    end\n",
    "  end\n",
    "  \n",
    "end\n",
    "\n",
    "function _op_for_dsrcol(flag,fun,cur_index,x,r_col,r_len,oncols_left,oncols_right)\n",
    "  for k in 1:r_len\n",
    "    flag[cur_index+k] == 0 && continue\n",
    "    #println(IMD._columns(dsl)[oncols_left[i]][j],\",\",cur_index,\",\",IMD._columns(dsr)[oncols_right[i]][k])\n",
    "    flag[cur_index+k] &= fun(x,r_col[k])         \n",
    "  end\n",
    "end\n",
    "\n",
    "\n",
    "function generate_newds_v4(flag,dsl,dsr,l_len,r_len,right_cols)\n",
    "\n",
    "  @time begin\n",
    "      ## new left\n",
    "      dsl_count = []  # 每一行对应几个右边\n",
    "      for i in 1:l_len\n",
    "          lo = 1+(i-1)*r_len\n",
    "          hi = lo + r_len - 1\n",
    "          push!(dsl_count,count(==(true),flag[lo:hi]))\n",
    "      end\n",
    "      \n",
    "      new_ends = IMD.our_cumsum!(dsl_count)  # 累计和\n",
    "      total_length = new_ends[end]\n",
    "      \n",
    "      res = []\n",
    "      for j in 1:length(IMD.index(dsl))  # left 的每一列\n",
    "        _res = IMD.allocatecol(IMD._columns(dsl)[j], total_length, addmissing=false)  # \n",
    "        \n",
    "        x = IMD._columns(dsl)[j] # 这一步可以隔离\n",
    "      \n",
    "        # 左侧填充\n",
    "        IMD.@_threadsfor true for i in 1:length(x)\n",
    "          dsl_count[i] == 0 && continue\n",
    "          i == 1 ? lo = 1 : lo = new_ends[i - 1] + 1\n",
    "          hi = new_ends[i]\n",
    "          IMD._fill_val_join!(_res, lo:hi, x[i])\n",
    "        end\n",
    "        \n",
    "        push!(res, _res)\n",
    "      end\n",
    "  \n",
    "      if dsl isa SubDataset\n",
    "        newds = Dataset(res, copy(IMD.index(dsl)), copycols=false)\n",
    "      else\n",
    "        newds = Dataset(res, IMD.Index(copy(IMD.index(dsl).lookup), copy(IMD.index(dsl).names), copy(IMD.index(dsl).format)), copycols=false)\n",
    "      end\n",
    "  end\n",
    "\n",
    "  \n",
    "  @time begin\n",
    "  ## new right\n",
    "  #println(\"Cerating right\")\n",
    "\n",
    "  dsr_idx = []\n",
    "  for i in 1:l_len\n",
    "      lo = 1+(i-1)*r_len\n",
    "      hi = lo + r_len - 1\n",
    "      append!(dsr_idx,findall(isone,flag[lo:hi]))\n",
    "  end \n",
    "\n",
    "  #println(dsr_idx)\n",
    "\n",
    "  #println(\"Nesting\")\n",
    "  for j in 1:length(right_cols)\n",
    "    _res = IMD.allocatecol(IMD._columns(dsr)[right_cols[j]], total_length, addmissing=false)  # 空的dsr\n",
    "\n",
    "    IMD.@_threadsfor true for i in 1:length(l_len)\n",
    "      #print(j)\n",
    "      length(dsr_idx[i]) == 0 && continue\n",
    "      for i in 1:length(dsr_idx)\n",
    "        _res[i] = IMD._columns(dsr)[right_cols[j]][dsr_idx[i]]\n",
    "      end\n",
    "    end\n",
    "\n",
    "    #println(_res)\n",
    "    push!(IMD._columns(newds), _res)\n",
    "\n",
    "    new_var_name = IMD.make_unique([IMD._names(dsl); IMD._names(dsr)[right_cols[j]]], makeunique=true)[end]\n",
    "    push!(IMD.index(newds), new_var_name)\n",
    "    setformat!(newds, IMD.index(newds)[new_var_name], getformat(dsr, IMD._names(dsr)[right_cols[j]]))\n",
    "  end\n",
    "end\n",
    "  newds\n",
    "\n",
    "  \n",
    "end"
   ]
  },
  {
   "cell_type": "code",
   "execution_count": 6,
   "metadata": {},
   "outputs": [
    {
     "data": {
      "text/plain": [
       "fun1 (generic function with 1 method)"
      ]
     },
     "metadata": {},
     "output_type": "display_data"
    }
   ],
   "source": [
    "function fun1(x,y)  # UDF 每次都要编译\n",
    "  x <= y\n",
    "end"
   ]
  },
  {
   "cell_type": "code",
   "execution_count": 84,
   "metadata": {},
   "outputs": [
    {
     "name": "stdout",
     "output_type": "stream",
     "text": [
      "  0.000643 seconds (297 allocations: 22.859 KiB)\n",
      "  0.000542 seconds (376 allocations: 29.375 KiB)\n",
      "\n",
      "\u001b[0m\u001b[1m ────────────────────────────────────────────────────────────────────────────────\u001b[22m\n",
      "\u001b[0m\u001b[1m                               \u001b[22m         Time                    Allocations      \n",
      "                               ───────────────────────   ────────────────────────\n",
      "       Tot / % measured:           1.62ms /  96.5%           68.8KiB /  94.7%    \n",
      "\n",
      " Section               ncalls     time    %tot     avg     alloc    %tot      avg\n",
      " ────────────────────────────────────────────────────────────────────────────────\n",
      " new ds                     1   1.37ms   87.9%  1.37ms   56.7KiB   87.0%  56.7KiB\n",
      " compute flag vector        1    189μs   12.1%   189μs   8.47KiB   13.0%  8.47KiB\n",
      "\u001b[0m\u001b[1m ────────────────────────────────────────────────────────────────────────────────\u001b[22m\n"
     ]
    }
   ],
   "source": [
    "flag,nds = my_cartesianjoin_v4(dsl,dsr,\n",
    "  on = [:xid=>:yid, :x2=>:y2=>fun1]);"
   ]
  },
  {
   "cell_type": "code",
   "execution_count": 64,
   "metadata": {},
   "outputs": [
    {
     "data": {
      "text/html": [
       "<table class=\"data-set\"><thead><tr><th></th><th>yid</th><th>y1</th><th>y2</th><th>y3</th><th>y4</th><th>y1_1</th><th>y2_1</th><th>y3_1</th><th>y4_1</th></tr><th></th><th>identity</th><th>identity</th><th>identity</th><th>identity</th><th>identity</th><th>identity</th><th>identity</th><th>identity</th><th>identity</th></tr><tr><th></th><th title=\"Union{Missing, Int64}\">Int64?</th><th title=\"Union{Missing, Int64}\">Int64?</th><th title=\"Union{Missing, Int64}\">Int64?</th><th title=\"Union{Missing, Date}\">Date?</th><th title=\"Union{Missing, String}\">String?</th><th title=\"Union{Missing, Int64}\">Int64?</th><th title=\"Union{Missing, Int64}\">Int64?</th><th title=\"Union{Missing, Date}\">Date?</th><th title=\"Union{Missing, String}\">String?</th></tr></thead><tbody><p>4 rows × 9 columns</p><tr><th>1</th><td>111</td><td>3</td><td>0</td><td>2019-10-01</td><td>abc</td><td>3</td><td>0</td><td>2019-10-01</td><td>abc</td></tr><tr><th>2</th><td>111</td><td>3</td><td>0</td><td>2019-10-01</td><td>abc</td><td>3</td><td>0</td><td>2019-10-01</td><td>abcd</td></tr><tr><th>3</th><td>111</td><td>3</td><td>0</td><td>2019-10-01</td><td>abcd</td><td>3</td><td>-3</td><td>2019-09-30</td><td>efg</td></tr><tr><th>4</th><td>444</td><td>3</td><td>1</td><td>2019-10-05</td><td>mnop</td><td>3</td><td>1</td><td>2019-10-05</td><td>mnop</td></tr></tbody></table>"
      ],
      "text/latex": [
       "\\begin{tabular}{r|ccccccccc}\n",
       "\t& yid & y1 & y2 & y3 & y4 & y1\\_1 & y2\\_1 & y3\\_1 & y4\\_1\\\\\n",
       "\t\\hline\n",
       "\t& identity & identity & identity & identity & identity & identity & identity & identity & identity\\\\\n",
       "\t\\hline\n",
       "\t& Int64? & Int64? & Int64? & Date? & String? & Int64? & Int64? & Date? & String?\\\\\n",
       "\t\\hline\n",
       "\t1 & 111 & 3 & 0 & 2019-10-01 & abc & 3 & 0 & 2019-10-01 & abc \\\\\n",
       "\t2 & 111 & 3 & 0 & 2019-10-01 & abc & 3 & 0 & 2019-10-01 & abcd \\\\\n",
       "\t3 & 111 & 3 & 0 & 2019-10-01 & abcd & 3 & -3 & 2019-09-30 & efg \\\\\n",
       "\t4 & 444 & 3 & 1 & 2019-10-05 & mnop & 3 & 1 & 2019-10-05 & mnop \\\\\n",
       "\\end{tabular}\n"
      ],
      "text/plain": [
       "\u001b[1m4×9 Dataset\u001b[0m\n",
       "\u001b[1m Row \u001b[0m│\u001b[1m yid      \u001b[0m\u001b[1m y1       \u001b[0m\u001b[1m y2       \u001b[0m\u001b[1m y3         \u001b[0m\u001b[1m y4       \u001b[0m\u001b[1m y1_1     \u001b[0m\u001b[1m y2_1     \u001b[0m\u001b[1m\u001b[0m ⋯\n",
       "\u001b[1m     \u001b[0m│\u001b[90m identity \u001b[0m\u001b[90m identity \u001b[0m\u001b[90m identity \u001b[0m\u001b[90m identity   \u001b[0m\u001b[90m identity \u001b[0m\u001b[90m identity \u001b[0m\u001b[90m identity \u001b[0m\u001b[90m\u001b[0m ⋯\n",
       "\u001b[1m     \u001b[0m│\u001b[90m Int64?   \u001b[0m\u001b[90m Int64?   \u001b[0m\u001b[90m Int64?   \u001b[0m\u001b[90m Date?      \u001b[0m\u001b[90m String?  \u001b[0m\u001b[90m Int64?   \u001b[0m\u001b[90m Int64?   \u001b[0m\u001b[90m\u001b[0m ⋯\n",
       "─────┼──────────────────────────────────────────────────────────────────────────\n",
       "   1 │      111         3         0  2019-10-01  abc              3         0  ⋯\n",
       "   2 │      111         3         0  2019-10-01  abc              3         0\n",
       "   3 │      111         3         0  2019-10-01  abcd             3        -3\n",
       "   4 │      444         3         1  2019-10-05  mnop             3         1\n",
       "\u001b[36m                                                               2 columns omitted\u001b[0m"
      ]
     },
     "metadata": {},
     "output_type": "display_data"
    }
   ],
   "source": [
    "nds"
   ]
  },
  {
   "cell_type": "code",
   "execution_count": 66,
   "metadata": {},
   "outputs": [
    {
     "name": "stdout",
     "output_type": "stream",
     "text": [
      "  0.001405 seconds (13.73 k allocations: 1.573 MiB)\n",
      "  0.003285 seconds (39.46 k allocations: 6.317 MiB)\n",
      "\u001b[0m\u001b[1m ────────────────────────────────────────────────────────────────────────────────\u001b[22m\n",
      "\u001b[0m\u001b[1m                               \u001b[22m         Time                    Allocations      \n",
      "                               ───────────────────────   ────────────────────────\n",
      "       Tot / % measured:           6.64ms /  99.4%           7.98MiB / 100.0%    \n",
      "\n",
      " Section               ncalls     time    %tot     avg     alloc    %tot      avg\n",
      " ────────────────────────────────────────────────────────────────────────────────\n",
      " new ds                     1   4.88ms   74.0%  4.88ms   7.89MiB   98.9%  7.89MiB\n",
      " compute flag vector        1   1.71ms   26.0%  1.71ms   86.3KiB    1.1%  86.3KiB\n",
      "\u001b[0m\u001b[1m ────────────────────────────────────────────────────────────────────────────────\u001b[22m\n",
      "  0.008719 seconds (59.19 k allocations: 8.970 MiB)\n"
     ]
    }
   ],
   "source": [
    "@time my_cartesianjoin_v4(dsl_big,dsr_big,\n",
    "  on = [:x1 => :y1, :x2 => :y2 => fun1],threads=true);"
   ]
  },
  {
   "cell_type": "code",
   "execution_count": 89,
   "metadata": {},
   "outputs": [
    {
     "name": "stdout",
     "output_type": "stream",
     "text": [
      "  0.044469 seconds (140.22 k allocations: 121.659 MiB)\n"
     ]
    },
    {
     "name": "stdout",
     "output_type": "stream",
     "text": [
      "  0.225404 seconds (3.55 M allocations: 231.872 MiB, 18.10% gc time)\n",
      "\n",
      "\u001b[0m\u001b[1m ────────────────────────────────────────────────────────────────────────────────\u001b[22m\n",
      "\u001b[0m\u001b[1m                               \u001b[22m         Time                    Allocations      \n",
      "                               ───────────────────────   ────────────────────────\n",
      "       Tot / % measured:            368ms / 100.0%            354MiB / 100.0%    \n",
      "\n",
      " Section               ncalls     time    %tot     avg     alloc    %tot      avg\n",
      " ────────────────────────────────────────────────────────────────────────────────\n",
      " new ds                     1    270ms   73.5%   270ms    354MiB   99.7%   354MiB\n",
      " compute flag vector        1   97.4ms   26.5%  97.4ms    930KiB    0.3%   930KiB\n",
      "\u001b[0m\u001b[1m ────────────────────────────────────────────────────────────────────────────────\u001b[22m\n",
      "  0.403273 seconds (3.75 M allocations: 449.851 MiB, 14.76% gc time)\n"
     ]
    }
   ],
   "source": [
    "@time newds = my_cartesianjoin_v4(dsl_big2,dsr_big2,\n",
    "  on = [:x1 => :y1, :x2 => :y2 => fun1],threads=true);"
   ]
  },
  {
   "cell_type": "markdown",
   "metadata": {},
   "source": [
    "## left newds"
   ]
  },
  {
   "cell_type": "code",
   "execution_count": 138,
   "metadata": {},
   "outputs": [],
   "source": [
    "idx = [1,2,3,4,5]\n",
    "ranges = [1:2,3:3,1:0,4:4,1:0]\n",
    "res = []\n",
    "\n",
    "new_ends = map(length, ranges)\n",
    "IMD.our_cumsum!(new_ends)\n",
    "total_length = new_ends[end]\n",
    "\n",
    "for j in 1:length(IMD.index(dsl))  # left 的每一列\n",
    "  _res = IMD.allocatecol(IMD._columns(dsl)[j], total_length, addmissing=false)\n",
    "  if IMD.DataAPI.refpool(_res) !== nothing\n",
    "    IMD._fill_oncols_left_table_inner!(_res.refs, IMD.DataAPI.refarray(IMD._columns(dsl)[j]), ranges, new_ends, total_length; inbits=nothing, en2=nothing, threads=threads)\n",
    "  else\n",
    "    IMD._fill_oncols_left_table_inner!(_res, IMD._columns(dsl)[j], ranges, new_ends, total_length; inbits=nothing, en2=nothing, threads=false)\n",
    "  end\n",
    "  push!(res, _res)\n",
    "end\n"
   ]
  },
  {
   "cell_type": "code",
   "execution_count": 169,
   "metadata": {},
   "outputs": [
    {
     "data": {
      "text/plain": [
       "5-element Vector{Any}:\n",
       " Union{Missing, Int64}[111, 111, 222, 444]\n",
       " Union{Missing, Int64}[1, 1, 2, 4]\n",
       " Union{Missing, Float64}[-1.2, -1.2, -3.0, -3.5]\n",
       " Union{Missing, Date}[Date(\"2019-10-03\"), Date(\"2019-10-03\"), Date(\"2019-09-30\"), Date(\"2019-10-03\")]\n",
       " Union{Missing, String}[\"abcd\", \"abcd\", \"efgh\", \"mnop\"]"
      ]
     },
     "metadata": {},
     "output_type": "display_data"
    }
   ],
   "source": [
    "res"
   ]
  },
  {
   "cell_type": "code",
   "execution_count": 196,
   "metadata": {},
   "outputs": [
    {
     "data": {
      "text/plain": [
       "5-element Vector{Int64}:\n",
       " 2\n",
       " 3\n",
       " 3\n",
       " 4\n",
       " 4"
      ]
     },
     "metadata": {},
     "output_type": "display_data"
    }
   ],
   "source": [
    "new_ends"
   ]
  },
  {
   "cell_type": "code",
   "execution_count": 187,
   "metadata": {},
   "outputs": [],
   "source": [
    "en = new_ends\n",
    "x = IMD._columns(dsl)[1]\n",
    "IMD.@_threadsfor true for i in 1:length(x)\n",
    "  length(ranges[i]) == 0 && continue\n",
    "  i == 1 ? lo = 1 : lo = en[i - 1] + 1\n",
    "  hi = en[i]\n",
    "  IMD._fill_val_join!(_res, lo:hi, x[i])\n",
    "end"
   ]
  },
  {
   "cell_type": "code",
   "execution_count": 214,
   "metadata": {},
   "outputs": [
    {
     "data": {
      "text/plain": [
       "5"
      ]
     },
     "metadata": {},
     "output_type": "display_data"
    }
   ],
   "source": [
    "l_len = nrow(dsl)\n",
    "r_len = nrow(dsr)"
   ]
  },
  {
   "cell_type": "code",
   "execution_count": 219,
   "metadata": {},
   "outputs": [
    {
     "data": {
      "text/plain": [
       "5-element Vector{Any}:\n",
       " 2\n",
       " 1\n",
       " 0\n",
       " 1\n",
       " 0"
      ]
     },
     "metadata": {},
     "output_type": "display_data"
    }
   ],
   "source": [
    "new_ends"
   ]
  },
  {
   "cell_type": "code",
   "execution_count": 206,
   "metadata": {},
   "outputs": [
    {
     "data": {
      "text/plain": [
       "0"
      ]
     },
     "metadata": {},
     "output_type": "display_data"
    }
   ],
   "source": [
    "lo = 1+(3-1)*r_len\n",
    "hi = lo + r_len\n",
    "count(==(true),flag[lo:hi])"
   ]
  },
  {
   "cell_type": "code",
   "execution_count": 216,
   "metadata": {},
   "outputs": [],
   "source": [
    "new_ends = []\n",
    "for i in 1:l_len\n",
    "    lo = 1+(i-1)*r_len\n",
    "    hi = lo + r_len - 1\n",
    "    push!(new_ends,count(==(true),flag[lo:hi]))\n",
    "end"
   ]
  },
  {
   "cell_type": "code",
   "execution_count": 221,
   "metadata": {},
   "outputs": [
    {
     "data": {
      "text/plain": [
       "5-element Vector{Int64}:\n",
       " 2\n",
       " 1\n",
       " 0\n",
       " 1\n",
       " 0"
      ]
     },
     "metadata": {},
     "output_type": "display_data"
    }
   ],
   "source": []
  },
  {
   "cell_type": "code",
   "execution_count": 231,
   "metadata": {},
   "outputs": [],
   "source": [
    "\n",
    "dsl_count = []\n",
    "for i in 1:l_len\n",
    "    lo = 1+(i-1)*r_len\n",
    "    hi = lo + r_len - 1\n",
    "    push!(dsl_count,count(==(true),flag[lo:hi]))\n",
    "end\n",
    "\n",
    "new_ends = IMD.our_cumsum!(dsl_count)\n",
    "total_length = new_ends[end]\n",
    "\n",
    "res = []\n",
    "for j in 1:length(IMD.index(dsl))  # left 的每一列\n",
    "  _res = IMD.allocatecol(IMD._columns(dsl)[j], total_length, addmissing=false)  # \n",
    "  \n",
    "  x = IMD._columns(dsl)[j] # 这一步可以隔离\n",
    "\n",
    "  IMD.@_threadsfor true for i in 1:length(x)\n",
    "    dsl_count[i] == 0 && continue\n",
    "    i == 1 ? lo = 1 : lo = en[i - 1] + 1\n",
    "    hi = en[i]\n",
    "    IMD._fill_val_join!(_res, lo:hi, x[i])\n",
    "  end\n",
    "  \n",
    "  push!(res, _res)\n",
    "end"
   ]
  },
  {
   "cell_type": "code",
   "execution_count": 321,
   "metadata": {},
   "outputs": [
    {
     "data": {
      "text/plain": [
       "5-element Vector{Any}:\n",
       " Union{Missing, Int64}[111, 111, 222, 444]\n",
       " Union{Missing, Int64}[1, 1, 2, 4]\n",
       " Union{Missing, Float64}[-1.2, -1.2, -3.0, -3.5]\n",
       " Union{Missing, Date}[Date(\"2019-10-03\"), Date(\"2019-10-03\"), Date(\"2019-09-30\"), Date(\"2019-10-03\")]\n",
       " Union{Missing, String}[\"abcd\", \"abcd\", \"efgh\", \"mnop\"]"
      ]
     },
     "metadata": {},
     "output_type": "display_data"
    }
   ],
   "source": [
    "res"
   ]
  },
  {
   "cell_type": "code",
   "execution_count": 361,
   "metadata": {},
   "outputs": [
    {
     "data": {
      "text/plain": [
       "5-element Vector{Union{Missing, Int64}}:\n",
       " 111\n",
       " 222\n",
       " 333\n",
       " 444\n",
       " 555"
      ]
     },
     "metadata": {},
     "output_type": "display_data"
    }
   ],
   "source": [
    "IMD._columns(dsl)[1] "
   ]
  },
  {
   "cell_type": "markdown",
   "metadata": {},
   "source": [
    "## right newds"
   ]
  },
  {
   "cell_type": "code",
   "execution_count": 405,
   "metadata": {},
   "outputs": [
    {
     "data": {
      "text/plain": [
       "4-element Vector{Int64}:\n",
       " 2\n",
       " 3\n",
       " 4\n",
       " 5"
      ]
     },
     "metadata": {},
     "output_type": "display_data"
    }
   ],
   "source": [
    "right_cols = [2,3,4,5]"
   ]
  },
  {
   "cell_type": "code",
   "execution_count": 411,
   "metadata": {},
   "outputs": [
    {
     "name": "stdout",
     "output_type": "stream",
     "text": [
      "Union{Missing, Int64}[3, 3, 3, 3]\n",
      "Union{Missing, Int64}[0, 0, -3, 1]\n",
      "Union{Missing, Date}[Date(\"2019-10-01\"), Date(\"2019-10-01\"), Date(\"2019-09-30\"), Date(\"2019-10-05\")]\n",
      "Union{Missing, String}[\"abc\", \"abcd\", \"efg\", \"mnop\"]\n"
     ]
    }
   ],
   "source": [
    "dsl_count = []\n",
    "for i in 1:l_len\n",
    "    lo = 1+(i-1)*r_len\n",
    "    hi = lo + r_len - 1\n",
    "    push!(dsl_count,count(==(true),flag[lo:hi]))\n",
    "end\n",
    "\n",
    "new_ends = IMD.our_cumsum!(dsl_count)\n",
    "total_length = new_ends[end]\n",
    "\n",
    "for j in 1:length(right_cols)\n",
    "  _res = IMD.allocatecol(IMD._columns(dsr)[right_cols[j]], total_length, addmissing=false)  # 空的dsr\n",
    "  \n",
    "  IMD._fill_right_cols_table_inner!(_res, view(IMD._columns(dsr)[right_cols[j]], idx), \n",
    "                  ranges, new_ends, total_length; inbits=nothing, en2=nothing, threads=true)\n",
    "\n",
    "  # push!(IMD._columns(newds), _res)\n",
    "  #new_var_name = IMD.make_unique([IMD._names(dsl); IMD._names(dsr)[right_cols[j]]], makeunique=makeunique)[end]\n",
    "  #  push!(IMD.index(newds), new_var_name)\n",
    "  #  setformat!(newds, IMD.index(newds)[new_var_name], getformat(dsr, IMD._names(dsr)[right_cols[j]]))\n",
    "  println(_res)\n",
    "end"
   ]
  },
  {
   "cell_type": "code",
   "execution_count": 445,
   "metadata": {},
   "outputs": [
    {
     "data": {
      "text/plain": [
       "4-element Vector{Union{Missing, Int64}}:\n",
       " missing\n",
       " missing\n",
       " missing\n",
       " missing"
      ]
     },
     "metadata": {},
     "output_type": "display_data"
    }
   ],
   "source": [
    "_res = IMD.allocatecol(IMD._columns(dsr)[right_cols[1]], total_length, addmissing=false)  # 空的dsr\n"
   ]
  },
  {
   "cell_type": "code",
   "execution_count": 444,
   "metadata": {},
   "outputs": [
    {
     "data": {
      "text/plain": [
       "4-element Vector{Union{Missing, Int64}}:\n",
       " missing\n",
       " missing\n",
       " missing\n",
       " missing"
      ]
     },
     "metadata": {},
     "output_type": "display_data"
    }
   ],
   "source": [
    "_res"
   ]
  },
  {
   "cell_type": "code",
   "execution_count": null,
   "metadata": {},
   "outputs": [],
   "source": [
    "view(IMD._columns(dsr)[right_cols[2]],[1,2,3,4,5])\n",
    "idx = [1,2,3,4,5]\n",
    "ranges = [1:2,3:3,1:0,4:4,1:0]"
   ]
  },
  {
   "cell_type": "code",
   "execution_count": 350,
   "metadata": {},
   "outputs": [
    {
     "data": {
      "text/plain": [
       "2-element Vector{Int64}:\n",
       " 1\n",
       " 2"
      ]
     },
     "metadata": {},
     "output_type": "display_data"
    }
   ],
   "source": [
    "findall(isone,flag[1:5])"
   ]
  },
  {
   "cell_type": "code",
   "execution_count": 359,
   "metadata": {},
   "outputs": [
    {
     "data": {
      "text/plain": [
       "2-element Vector{Union{Missing, Int64}}:\n",
       " 0\n",
       " 0"
      ]
     },
     "metadata": {},
     "output_type": "display_data"
    }
   ],
   "source": [
    "IMD._columns(dsr)[right_cols[2]]"
   ]
  },
  {
   "cell_type": "code",
   "execution_count": 387,
   "metadata": {},
   "outputs": [
    {
     "name": "stdout",
     "output_type": "stream",
     "text": [
      "  0.000008 seconds (1 allocation: 80 bytes)\n",
      "  0.000012 seconds (1 allocation: 80 bytes)\n"
     ]
    }
   ],
   "source": [
    "_res = IMD.allocatecol(IMD._columns(dsr)[right_cols[1]], total_length, addmissing=false)  # 空的dsr\n",
    "\n",
    "@time begin\n",
    "  for i in [1,2,3]\n",
    "    copyto!(_res, 1, IMD._columns(dsr)[right_cols[2]], i, i)\n",
    "  end\n",
    "end\n",
    "\n",
    "@time begin\n",
    "  for i in [1,2,3]\n",
    "    _res[i] = IMD._columns(dsr)[right_cols[2]][i]\n",
    "  end\n",
    "end"
   ]
  },
  {
   "cell_type": "code",
   "execution_count": 393,
   "metadata": {},
   "outputs": [
    {
     "data": {
      "text/plain": [
       "4-element Vector{AbstractVector}:\n",
       " Union{Missing, Int64}[3, 3, 3, 3, 3]\n",
       " Union{Missing, Int64}[0, 0, -3, 1, 2]\n",
       " Union{Missing, Date}[Date(\"2019-10-01\"), Date(\"2019-10-01\"), Date(\"2019-09-30\"), Date(\"2019-10-05\"), Date(\"2019-10-05\")]\n",
       " Union{Missing, String}[\"abc\", \"abcd\", \"efg\", \"mnop\", \"qrst\"]"
      ]
     },
     "metadata": {},
     "output_type": "display_data"
    }
   ],
   "source": [
    "IMD._columns(dsr)[right_cols]"
   ]
  },
  {
   "cell_type": "code",
   "execution_count": 417,
   "metadata": {},
   "outputs": [],
   "source": [
    "dsr_idx = []\n",
    "for i in 1:l_len\n",
    "    lo = 1+(i-1)*r_len\n",
    "    hi = lo + r_len - 1\n",
    "    append!(dsr_idx,findall(isone,flag[lo:hi]))\n",
    "end "
   ]
  },
  {
   "cell_type": "code",
   "execution_count": 418,
   "metadata": {},
   "outputs": [
    {
     "data": {
      "text/plain": [
       "4-element Vector{Any}:\n",
       " 1\n",
       " 2\n",
       " 3\n",
       " 4"
      ]
     },
     "metadata": {},
     "output_type": "display_data"
    }
   ],
   "source": [
    "dsr_idx"
   ]
  },
  {
   "cell_type": "code",
   "execution_count": 424,
   "metadata": {},
   "outputs": [],
   "source": [
    "_res = IMD.allocatecol(IMD._columns(dsr)[right_cols[1]], total_length, addmissing=false)  # 空的dsr\n",
    "IMD.@_threadsfor true for i in 1:length(l_len)\n",
    "  length(dsr_idx[i]) == 0 && continue\n",
    "  for i in 1:length(dsr_idx)\n",
    "    _res[i] = IMD._columns(dsr)[right_cols[1]][dsr_idx[i]]\n",
    "  end\n",
    "end"
   ]
  },
  {
   "cell_type": "code",
   "execution_count": 457,
   "metadata": {},
   "outputs": [
    {
     "name": "stdout",
     "output_type": "stream",
     "text": [
      "Union{Missing, Int64}[3, 3, 3, 3]\n",
      "Union{Missing, Int64}[0, 0, -3, 1]\n",
      "Union{Missing, Date}[Date(\"2019-10-01\"), Date(\"2019-10-01\"), Date(\"2019-09-30\"), Date(\"2019-10-05\")]\n",
      "Union{Missing, String}[\"abc\", \"abcd\", \"efg\", \"mnop\"]\n"
     ]
    }
   ],
   "source": [
    "dsl_count = []\n",
    "for i in 1:l_len\n",
    "    lo = 1+(i-1)*r_len\n",
    "    hi = lo + r_len - 1\n",
    "    push!(dsl_count,count(==(true),flag[lo:hi]))\n",
    "end\n",
    "\n",
    "new_ends = IMD.our_cumsum!(dsl_count)\n",
    "total_length = new_ends[end]\n",
    "\n",
    "dsr_idx = []\n",
    "for i in 1:l_len\n",
    "    lo = 1+(i-1)*r_len\n",
    "    hi = lo + r_len - 1\n",
    "    append!(dsr_idx,findall(isone,flag[lo:hi]))\n",
    "end \n",
    "\n",
    "for j in 1:length(right_cols)\n",
    "  _res = IMD.allocatecol(IMD._columns(dsr)[right_cols[j]], total_length, addmissing=false)  # 空的dsr\n",
    "\n",
    "  IMD.@_threadsfor true for i in 1:length(l_len)\n",
    "    length(dsr_idx[i]) == 0 && continue\n",
    "    for i in 1:length(dsr_idx)\n",
    "      _res[i] = IMD._columns(dsr)[right_cols[j]][dsr_idx[i]]\n",
    "    end\n",
    "  end\n",
    "\n",
    "  println(_res)\n",
    "\n",
    "  push!(IMD._columns(nds), _res)\n",
    "\n",
    "  new_var_name = IMD.make_unique([IMD._names(dsl); IMD._names(dsr)[right_cols[j]]], makeunique=false)[end]\n",
    "  push!(IMD.index(nds), new_var_name)\n",
    "  setformat!(nds, IMD.index(nds)[new_var_name], getformat(dsr, IMD._names(dsr)[right_cols[j]]))\n",
    "\n",
    "end"
   ]
  },
  {
   "cell_type": "code",
   "execution_count": 453,
   "metadata": {},
   "outputs": [
    {
     "data": {
      "text/plain": [
       "InMemoryDatasets.Index(Dict(:x1 => 2, :y1 => 6, :x2 => 3, :x3 => 4, :x4 => 5, :xid => 1), [:xid, :x1, :x2, :x3, :x4, :y1], Dict{Int64, Function}(), Int64[], Bool[], Base.RefValue{Bool}(false), Int64[], Int64[], Base.RefValue{Int64}(1), Base.RefValue{Bool}(false))"
      ]
     },
     "metadata": {},
     "output_type": "display_data"
    }
   ],
   "source": [
    "push!(IMD.index(nds), new_var_name)"
   ]
  },
  {
   "cell_type": "code",
   "execution_count": 458,
   "metadata": {},
   "outputs": [
    {
     "data": {
      "text/html": [
       "<table class=\"data-set\"><thead><tr><th></th><th>xid</th><th>x1</th><th>x2</th><th>x3</th><th>x4</th><th>y1</th><th>y2</th><th>y3</th><th>y4</th></tr><th></th><th>identity</th><th>identity</th><th>identity</th><th>identity</th><th>identity</th><th>identity</th><th>identity</th><th>identity</th><th>identity</th></tr><tr><th></th><th title=\"Union{Missing, Int64}\">Int64?</th><th title=\"Union{Missing, Int64}\">Int64?</th><th title=\"Union{Missing, Float64}\">Float64?</th><th title=\"Union{Missing, Date}\">Date?</th><th title=\"Union{Missing, String}\">String?</th><th title=\"Union{Missing, Int64}\">Int64?</th><th title=\"Union{Missing, Int64}\">Int64?</th><th title=\"Union{Missing, Date}\">Date?</th><th title=\"Union{Missing, String}\">String?</th></tr></thead><tbody><p>4 rows × 9 columns</p><tr><th>1</th><td>111</td><td>1</td><td>-1.2</td><td>2019-10-03</td><td>abcd</td><td>3</td><td>0</td><td>2019-10-01</td><td>abc</td></tr><tr><th>2</th><td>111</td><td>1</td><td>-1.2</td><td>2019-10-03</td><td>abcd</td><td>3</td><td>0</td><td>2019-10-01</td><td>abcd</td></tr><tr><th>3</th><td>222</td><td>2</td><td>-3.0</td><td>2019-09-30</td><td>efgh</td><td>3</td><td>-3</td><td>2019-09-30</td><td>efg</td></tr><tr><th>4</th><td>444</td><td>4</td><td>-3.5</td><td>2019-10-03</td><td>mnop</td><td>3</td><td>1</td><td>2019-10-05</td><td>mnop</td></tr></tbody></table>"
      ],
      "text/latex": [
       "\\begin{tabular}{r|ccccccccc}\n",
       "\t& xid & x1 & x2 & x3 & x4 & y1 & y2 & y3 & y4\\\\\n",
       "\t\\hline\n",
       "\t& identity & identity & identity & identity & identity & identity & identity & identity & identity\\\\\n",
       "\t\\hline\n",
       "\t& Int64? & Int64? & Float64? & Date? & String? & Int64? & Int64? & Date? & String?\\\\\n",
       "\t\\hline\n",
       "\t1 & 111 & 1 & -1.2 & 2019-10-03 & abcd & 3 & 0 & 2019-10-01 & abc \\\\\n",
       "\t2 & 111 & 1 & -1.2 & 2019-10-03 & abcd & 3 & 0 & 2019-10-01 & abcd \\\\\n",
       "\t3 & 222 & 2 & -3.0 & 2019-09-30 & efgh & 3 & -3 & 2019-09-30 & efg \\\\\n",
       "\t4 & 444 & 4 & -3.5 & 2019-10-03 & mnop & 3 & 1 & 2019-10-05 & mnop \\\\\n",
       "\\end{tabular}\n"
      ],
      "text/plain": [
       "\u001b[1m4×9 Dataset\u001b[0m\n",
       "\u001b[1m Row \u001b[0m│\u001b[1m xid      \u001b[0m\u001b[1m x1       \u001b[0m\u001b[1m x2       \u001b[0m\u001b[1m x3         \u001b[0m\u001b[1m x4       \u001b[0m\u001b[1m y1       \u001b[0m\u001b[1m y2       \u001b[0m\u001b[1m\u001b[0m ⋯\n",
       "\u001b[1m     \u001b[0m│\u001b[90m identity \u001b[0m\u001b[90m identity \u001b[0m\u001b[90m identity \u001b[0m\u001b[90m identity   \u001b[0m\u001b[90m identity \u001b[0m\u001b[90m identity \u001b[0m\u001b[90m identity \u001b[0m\u001b[90m\u001b[0m ⋯\n",
       "\u001b[1m     \u001b[0m│\u001b[90m Int64?   \u001b[0m\u001b[90m Int64?   \u001b[0m\u001b[90m Float64? \u001b[0m\u001b[90m Date?      \u001b[0m\u001b[90m String?  \u001b[0m\u001b[90m Int64?   \u001b[0m\u001b[90m Int64?   \u001b[0m\u001b[90m\u001b[0m ⋯\n",
       "─────┼──────────────────────────────────────────────────────────────────────────\n",
       "   1 │      111         1      -1.2  2019-10-03  abcd             3         0  ⋯\n",
       "   2 │      111         1      -1.2  2019-10-03  abcd             3         0\n",
       "   3 │      222         2      -3.0  2019-09-30  efgh             3        -3\n",
       "   4 │      444         4      -3.5  2019-10-03  mnop             3         1\n",
       "\u001b[36m                                                               2 columns omitted\u001b[0m"
      ]
     },
     "metadata": {},
     "output_type": "display_data"
    }
   ],
   "source": [
    "nds"
   ]
  }
 ],
 "metadata": {
  "kernelspec": {
   "display_name": "Julia 1.7.3",
   "language": "julia",
   "name": "julia-1.7"
  },
  "language_info": {
   "file_extension": ".jl",
   "mimetype": "application/julia",
   "name": "julia",
   "version": "1.7.3"
  },
  "orig_nbformat": 4
 },
 "nbformat": 4,
 "nbformat_minor": 2
}
