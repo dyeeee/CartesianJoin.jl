{
 "cells": [
  {
   "cell_type": "code",
   "execution_count": null,
   "metadata": {},
   "outputs": [],
   "source": [
    "using InMemoryDatasets\n",
    "import InMemoryDatasets as IMD\n",
    "using BenchmarkTools\n",
    "using TimerOutputs\n"
   ]
  },
  {
   "cell_type": "code",
   "execution_count": 122,
   "metadata": {},
   "outputs": [
    {
     "data": {
      "text/plain": [
       "cartesianjoin (generic function with 1 method)"
      ]
     },
     "metadata": {},
     "output_type": "display_data"
    }
   ],
   "source": [
    "include(\"../src/main.jl\")"
   ]
  },
  {
   "cell_type": "markdown",
   "metadata": {},
   "source": [
    "# Data"
   ]
  },
  {
   "cell_type": "code",
   "execution_count": null,
   "metadata": {},
   "outputs": [],
   "source": [
    "@show dsl = Dataset(xid = [111,222,333,444,555], \n",
    "                    x1 = [1,2,1,4,5], \n",
    "                    x2 = [-1.2,-3,2.1,-3.5,2.8],\n",
    "                    x3 = [Date(\"2019-10-03\"), Date(\"2019-09-30\"), Date(\"2019-10-04\"), Date(\"2019-10-03\"), Date(\"2019-10-03\")],\n",
    "                    x4 = [\"abcd\",\"efgh\",\"ijkl\",\"mnop\",\"qrst\"]);\n",
    "\n",
    "@show dsr = Dataset(yid = [111,111,222,444,333],\n",
    "                    y1 = [3,3,3,3,3],\n",
    "                    y2 = [0,0, -3,1,2],\n",
    "                    y3 = [Date(\"2019-10-01\"),Date(\"2019-10-01\"), Date(\"2019-09-30\"), Date(\"2019-10-05\"), Date(\"2019-10-05\")],\n",
    "                    y4 = [\"abc\",\"abcd\",\"efg\",\"mnop\",\"qrst\"]);\n",
    "\n",
    "dsl_big = Dataset(rand(10^3, 5), :auto);\n",
    "modify!(dsl_big,[:x1,:x2,:x3] .=> byrow(x -> (x*100)));\n",
    "modify!(dsl_big,[:x1,:x2,:x3] .=> byrow(round), [:x1,:x2,:x3] .=> byrow(Int));\n",
    "\n",
    "dsr_big = Dataset(rand(10^3, 5), :auto);\n",
    "modify!(dsr_big,[:x1,:x2,:x3] .=> byrow(x -> (x*100)));\n",
    "modify!(dsr_big,[:x1,:x2,:x3] .=> byrow(round), [:x1,:x2,:x3] .=> byrow(Int));\n",
    "function x2y(str)\n",
    "  replace(str,'x' => 'y')\n",
    "end\n",
    "rename!(x2y,dsr_big);\n",
    "\n",
    "dsl_big2 = Dataset(rand(10^4, 5), :auto);\n",
    "modify!(dsl_big2,[:x1,:x2,:x3] .=> byrow(x -> (x*100)));\n",
    "modify!(dsl_big2,[:x1,:x2,:x3] .=> byrow(round), [:x1,:x2,:x3] .=> byrow(Int));\n",
    "\n",
    "dsr_big2 = Dataset(rand(10^4, 5), :auto);\n",
    "modify!(dsr_big2,[:x1,:x2,:x3] .=> byrow(x -> (x*100)));\n",
    "modify!(dsr_big2,[:x1,:x2,:x3] .=> byrow(round), [:x1,:x2,:x3] .=> byrow(Int));\n",
    "function x2y(str)\n",
    "  replace(str,'x' => 'y')\n",
    "end\n",
    "rename!(x2y,dsr_big2);"
   ]
  },
  {
   "cell_type": "markdown",
   "metadata": {},
   "source": [
    "# Working"
   ]
  },
  {
   "cell_type": "code",
   "execution_count": null,
   "metadata": {},
   "outputs": [],
   "source": [
    "innerjoin(dsl,dsr,on = 1)  "
   ]
  },
  {
   "cell_type": "markdown",
   "metadata": {},
   "source": [
    "## on syntax"
   ]
  },
  {
   "cell_type": "code",
   "execution_count": null,
   "metadata": {},
   "outputs": [],
   "source": [
    "on = [1 => 1, 3 => 3]\n",
    "on1 = [\"xid\" => \"yid\",\"x1\"=>\"y1\"]\n",
    "on2 = [(:xid => :yid) => isequal, (:x1 => :y1) => isless]\n",
    "on3  = [:xid => :yid, :x1 => :y1 => isless]\n",
    "#on4  = [:xid => :yid, :x1 => :y1]"
   ]
  },
  {
   "cell_type": "code",
   "execution_count": null,
   "metadata": {},
   "outputs": [],
   "source": [
    "# 两边都有同名列，on = :id 用的\n",
    "(typeof(on1) <: AbstractVector{<:Union{AbstractString, Symbol}})"
   ]
  },
  {
   "cell_type": "code",
   "execution_count": null,
   "metadata": {},
   "outputs": [],
   "source": [
    "(typeof(on2) <: AbstractVector{<:Pair{<:Pair{<:IMD.ColumnIndex,<:IMD.ColumnIndex}, <:Function}})"
   ]
  },
  {
   "cell_type": "code",
   "execution_count": null,
   "metadata": {},
   "outputs": [],
   "source": [
    "typeof(on3)"
   ]
  },
  {
   "cell_type": "code",
   "execution_count": null,
   "metadata": {},
   "outputs": [],
   "source": [
    "on3  = [:xid => :yid, :x1 => :y1 => isless]\n",
    "if (typeof(on3) <: AbstractVector{<:Pair{<:IMD.ColumnIndex, <:Any}})\n",
    "\n",
    "  dsr_cols = Symbol[]\n",
    "  equalon_dsr_cols = Symbol[]\n",
    "  conditions = Function[]\n",
    "\n",
    "  for element in map(x -> x.second, on3)\n",
    "    if typeof(element) <: Pair\n",
    "      !(element.second isa Function) && throw(ArgumentError(\"Need Function\"))\n",
    "      push!(dsr_cols, element.first)\n",
    "      push!(conditions, element.second)\n",
    "    elseif typeof(element) <: IMD.ColumnIndex\n",
    "      push!(dsr_cols, element)\n",
    "      push!(equalon_dsr_cols, element)\n",
    "      push!(conditions, isequal)\n",
    "    else\n",
    "      \n",
    "      throw(ArgumentError(\"error `on`\"))\n",
    "    end\n",
    "  end\n",
    "\n",
    "  onleft = IMD.multiple_getindex(IMD.index(dsl), map(x -> x.first, on))\n",
    "  onright = IMD.multiple_getindex(IMD.index(dsr), dsr_cols)\n",
    "  onright_equal = IMD.multiple_getindex(IMD.index(dsr), equalon_dsr_cols)\n",
    "\n",
    "end"
   ]
  },
  {
   "cell_type": "markdown",
   "metadata": {},
   "source": [
    "# Test"
   ]
  },
  {
   "cell_type": "code",
   "execution_count": null,
   "metadata": {},
   "outputs": [],
   "source": [
    "function fun1(x,y) \n",
    "  x <= y\n",
    "end"
   ]
  },
  {
   "cell_type": "code",
   "execution_count": 123,
   "metadata": {},
   "outputs": [
    {
     "name": "stdout",
     "output_type": "stream",
     "text": [
      "\u001b[0m\u001b[1m ────────────────────────────────────────────────────────────────────────────────\u001b[22m\n",
      "\u001b[0m\u001b[1m                               \u001b[22m         Time                    Allocations      \n",
      "                               ───────────────────────   ────────────────────────\n",
      "       Tot / % measured:            627ms / 100.0%           41.1MiB / 100.0%    \n",
      "\n",
      " Section               ncalls     time    %tot     avg     alloc    %tot      avg\n",
      " ────────────────────────────────────────────────────────────────────────────────\n",
      " generate new ds            1    505ms   80.6%   505ms   28.6MiB   69.6%  28.6MiB\n",
      "   2-2 left row _res        1    329ms   52.4%   329ms   18.0MiB   43.7%  18.0MiB\n",
      "     2.2 fill _res          5    328ms   52.4%  65.6ms   17.9MiB   43.7%  3.59MiB\n",
      "     2.1 init _res          5    288μs    0.0%  57.5μs      784B    0.0%     157B\n",
      "     2.3 push _res          5   10.8μs    0.0%  2.15μs     80.0B    0.0%    16.0B\n",
      "   2-5 newds dsr            1    176ms   28.1%   176ms   10.6MiB   25.9%  10.6MiB\n",
      "     5.2 fill _res          4    176ms   28.0%  43.9ms   10.6MiB   25.9%  2.66MiB\n",
      "     5.1 init _res          4    174μs    0.0%  43.6μs      624B    0.0%     156B\n",
      "   2-3 newds dsl            1   77.7μs    0.0%  77.7μs   2.25KiB    0.0%  2.25KiB\n",
      "   2-1 left row count       1   48.9μs    0.0%  48.9μs      176B    0.0%     176B\n",
      "   2-4 findall dsr idx      1   17.8μs    0.0%  17.8μs   1.16KiB    0.0%  1.16KiB\n",
      "     4.1 findall func       1   10.8μs    0.0%  10.8μs      224B    0.0%     224B\n",
      "   2-6 Parameters           1   6.86μs    0.0%  6.86μs      384B    0.0%     384B\n",
      " compute flag vector        1    122ms   19.4%   122ms   12.5MiB   30.4%  12.5MiB\n",
      "\u001b[0m\u001b[1m ────────────────────────────────────────────────────────────────────────────────\u001b[22m\n"
     ]
    },
    {
     "data": {
      "text/html": [
       "<table class=\"data-set\"><thead><tr><th></th><th>xid</th><th>x1</th><th>x2</th><th>x3</th><th>x4</th><th>y1</th><th>y2</th><th>y3</th><th>y4</th></tr><th></th><th>identity</th><th>identity</th><th>identity</th><th>identity</th><th>identity</th><th>identity</th><th>identity</th><th>identity</th><th>identity</th></tr><tr><th></th><th title=\"Union{Missing, Int64}\">Int64?</th><th title=\"Union{Missing, Int64}\">Int64?</th><th title=\"Union{Missing, Float64}\">Float64?</th><th title=\"Union{Missing, Date}\">Date?</th><th title=\"Union{Missing, String}\">String?</th><th title=\"Union{Missing, Int64}\">Int64?</th><th title=\"Union{Missing, Int64}\">Int64?</th><th title=\"Union{Missing, Date}\">Date?</th><th title=\"Union{Missing, String}\">String?</th></tr></thead><tbody><p>4 rows × 9 columns</p><tr><th>1</th><td>111</td><td>1</td><td>-1.2</td><td>2019-10-03</td><td>abcd</td><td>3</td><td>0</td><td>2019-10-01</td><td>abc</td></tr><tr><th>2</th><td>111</td><td>1</td><td>-1.2</td><td>2019-10-03</td><td>abcd</td><td>3</td><td>0</td><td>2019-10-01</td><td>abcd</td></tr><tr><th>3</th><td>222</td><td>2</td><td>-3.0</td><td>2019-09-30</td><td>efgh</td><td>3</td><td>-3</td><td>2019-09-30</td><td>efg</td></tr><tr><th>4</th><td>444</td><td>4</td><td>-3.5</td><td>2019-10-03</td><td>mnop</td><td>3</td><td>1</td><td>2019-10-05</td><td>mnop</td></tr></tbody></table>"
      ],
      "text/latex": [
       "\\begin{tabular}{r|ccccccccc}\n",
       "\t& xid & x1 & x2 & x3 & x4 & y1 & y2 & y3 & y4\\\\\n",
       "\t\\hline\n",
       "\t& identity & identity & identity & identity & identity & identity & identity & identity & identity\\\\\n",
       "\t\\hline\n",
       "\t& Int64? & Int64? & Float64? & Date? & String? & Int64? & Int64? & Date? & String?\\\\\n",
       "\t\\hline\n",
       "\t1 & 111 & 1 & -1.2 & 2019-10-03 & abcd & 3 & 0 & 2019-10-01 & abc \\\\\n",
       "\t2 & 111 & 1 & -1.2 & 2019-10-03 & abcd & 3 & 0 & 2019-10-01 & abcd \\\\\n",
       "\t3 & 222 & 2 & -3.0 & 2019-09-30 & efgh & 3 & -3 & 2019-09-30 & efg \\\\\n",
       "\t4 & 444 & 4 & -3.5 & 2019-10-03 & mnop & 3 & 1 & 2019-10-05 & mnop \\\\\n",
       "\\end{tabular}\n"
      ],
      "text/plain": [
       "\u001b[1m4×9 Dataset\u001b[0m\n",
       "\u001b[1m Row \u001b[0m│\u001b[1m xid      \u001b[0m\u001b[1m x1       \u001b[0m\u001b[1m x2       \u001b[0m\u001b[1m x3         \u001b[0m\u001b[1m x4       \u001b[0m\u001b[1m y1       \u001b[0m\u001b[1m y2       \u001b[0m\u001b[1m\u001b[0m ⋯\n",
       "\u001b[1m     \u001b[0m│\u001b[90m identity \u001b[0m\u001b[90m identity \u001b[0m\u001b[90m identity \u001b[0m\u001b[90m identity   \u001b[0m\u001b[90m identity \u001b[0m\u001b[90m identity \u001b[0m\u001b[90m identity \u001b[0m\u001b[90m\u001b[0m ⋯\n",
       "\u001b[1m     \u001b[0m│\u001b[90m Int64?   \u001b[0m\u001b[90m Int64?   \u001b[0m\u001b[90m Float64? \u001b[0m\u001b[90m Date?      \u001b[0m\u001b[90m String?  \u001b[0m\u001b[90m Int64?   \u001b[0m\u001b[90m Int64?   \u001b[0m\u001b[90m\u001b[0m ⋯\n",
       "─────┼──────────────────────────────────────────────────────────────────────────\n",
       "   1 │      111         1      -1.2  2019-10-03  abcd             3         0  ⋯\n",
       "   2 │      111         1      -1.2  2019-10-03  abcd             3         0\n",
       "   3 │      222         2      -3.0  2019-09-30  efgh             3        -3\n",
       "   4 │      444         4      -3.5  2019-10-03  mnop             3         1\n",
       "\u001b[36m                                                               2 columns omitted\u001b[0m"
      ]
     },
     "metadata": {},
     "output_type": "display_data"
    }
   ],
   "source": [
    "newds = cartesianjoin(dsl,dsr,on = [:xid=>:yid, :x2=>:y2=>fun1],multiple_match=true);\n",
    "nds"
   ]
  },
  {
   "cell_type": "code",
   "execution_count": 124,
   "metadata": {},
   "outputs": [
    {
     "name": "stdout",
     "output_type": "stream",
     "text": [
      "\u001b[0m\u001b[1m ────────────────────────────────────────────────────────────────────────────────\u001b[22m\n",
      "\u001b[0m\u001b[1m                               \u001b[22m         Time                    Allocations      \n",
      "                               ───────────────────────   ────────────────────────\n",
      "       Tot / % measured:            396ms / 100.0%           46.4MiB / 100.0%    \n",
      "\n",
      " Section               ncalls     time    %tot     avg     alloc    %tot      avg\n",
      " ────────────────────────────────────────────────────────────────────────────────\n",
      " generate new ds            1    217ms   54.8%   217ms   39.5MiB   85.0%  39.5MiB\n",
      "   2-1 left row count       1    125ms   31.6%   125ms    117KiB    0.2%   117KiB\n",
      "   2-5 newds dsr            1   55.9ms   14.1%  55.9ms   12.2MiB   26.3%  12.2MiB\n",
      "     5.2 fill _res          4   54.8ms   13.8%  13.7ms   3.55MiB    7.6%   908KiB\n",
      "     5.1 init _res          4    773μs    0.2%   193μs   8.64MiB   18.6%  2.16MiB\n",
      "   2-4 findall dsr idx      1   31.9ms    8.0%  31.9ms   16.4MiB   35.2%  16.4MiB\n",
      "     4.1 findall func       1   30.7ms    7.7%  30.7ms   13.8MiB   29.8%  13.8MiB\n",
      "   2-2 left row _res        1   4.43ms    1.1%  4.43ms   10.8MiB   23.3%  10.8MiB\n",
      "     2.2 fill _res          5   3.33ms    0.8%   665μs   18.5KiB    0.0%  3.69KiB\n",
      "     2.1 init _res          5   1.08ms    0.3%   216μs   10.8MiB   23.3%  2.16MiB\n",
      "     2.3 push _res          5   3.40μs    0.0%   680ns     80.0B    0.0%    16.0B\n",
      "   2-3 newds dsl            1   45.7μs    0.0%  45.7μs   2.33KiB    0.0%  2.33KiB\n",
      "   2-6 Parameters           1    454ns    0.0%   454ns     0.00B    0.0%    0.00B\n",
      " compute flag vector        1    179ms   45.2%   179ms   6.94MiB   15.0%  6.94MiB\n",
      "\u001b[0m\u001b[1m ────────────────────────────────────────────────────────────────────────────────\u001b[22m\n"
     ]
    }
   ],
   "source": [
    "cartesianjoin(dsl_big2,dsr_big2,on = [:x1=>:y1, :x2=>:y2=>fun1, :x3=>:y3=>isless],\n",
    "check=false);"
   ]
  },
  {
   "cell_type": "code",
   "execution_count": 127,
   "metadata": {},
   "outputs": [
    {
     "name": "stdout",
     "output_type": "stream",
     "text": [
      "\u001b[0m\u001b[1m ────────────────────────────────────────────────────────────────────────────────\u001b[22m\n",
      "\u001b[0m\u001b[1m                               \u001b[22m         Time                    Allocations      \n",
      "                               ───────────────────────   ────────────────────────\n",
      "       Tot / % measured:            261ms / 100.0%           13.5MiB / 100.0%    \n",
      "\n",
      " Section               ncalls     time    %tot     avg     alloc    %tot      avg\n",
      " ────────────────────────────────────────────────────────────────────────────────\n",
      " generate new ds            1    166ms   63.4%   166ms   12.1MiB   89.9%  12.1MiB\n",
      "   2-1 left row count       1    140ms   53.5%   140ms    117KiB    0.9%   117KiB\n",
      "   2-4 findall dsr idx      1   24.8ms    9.5%  24.8ms   11.9MiB   88.7%  11.9MiB\n",
      "     4.1 findall func       1   24.7ms    9.5%  24.7ms   11.9MiB   88.6%  11.9MiB\n",
      "   2-2 left row _res        1    745μs    0.3%   745μs   25.0KiB    0.2%  25.0KiB\n",
      "     2.2 fill _res          5    570μs    0.2%   114μs   18.2KiB    0.1%  3.65KiB\n",
      "     2.1 init _res          5    150μs    0.1%  30.0μs   4.38KiB    0.0%     896B\n",
      "     2.3 push _res          5   3.97μs    0.0%   794ns     80.0B    0.0%    16.0B\n",
      "   2-5 newds dsr            1    371μs    0.1%   371μs   15.4KiB    0.1%  15.4KiB\n",
      "     5.2 fill _res          2    167μs    0.1%  83.6μs   7.25KiB    0.1%  3.62KiB\n",
      "     5.1 init _res          2   79.7μs    0.0%  39.9μs   1.75KiB    0.0%     896B\n",
      "   2-3 newds dsl            1   22.9μs    0.0%  22.9μs   2.25KiB    0.0%  2.25KiB\n",
      "   2-6 Parameters           1    807ns    0.0%   807ns     0.00B    0.0%    0.00B\n",
      " compute flag vector        1   95.6ms   36.6%  95.6ms   1.36MiB   10.1%  1.36MiB\n",
      "\u001b[0m\u001b[1m ────────────────────────────────────────────────────────────────────────────────\u001b[22m\n"
     ]
    },
    {
     "data": {
      "text/plain": [
       "86"
      ]
     },
     "metadata": {},
     "output_type": "display_data"
    }
   ],
   "source": [
    "nds = cartesianjoin(dsl_big2,dsr_big2,on = [:x1=>:y1, :x2=>:y2, :x3=>:y3],check=false);\n",
    "nrow(nds)"
   ]
  },
  {
   "cell_type": "code",
   "execution_count": 129,
   "metadata": {},
   "outputs": [
    {
     "name": "stdout",
     "output_type": "stream",
     "text": [
      "  1.980 ms (1686 allocations: 682.02 KiB)\n"
     ]
    },
    {
     "data": {
      "text/plain": [
       "86"
      ]
     },
     "metadata": {},
     "output_type": "display_data"
    }
   ],
   "source": [
    "@btime nds = innerjoin(dsl_big2,dsr_big2,on = [:x1=>:y1, :x2=>:y2, :x3=>:y3],check=false);\n",
    "nrow(nds)"
   ]
  },
  {
   "cell_type": "markdown",
   "metadata": {},
   "source": [
    "## multiple_match"
   ]
  },
  {
   "cell_type": "code",
   "execution_count": 120,
   "metadata": {},
   "outputs": [
    {
     "data": {
      "text/plain": [
       "(\u001b[1m6×11 Dataset\u001b[0m\n",
       "\u001b[1m Row \u001b[0m│\u001b[1m xid      \u001b[0m\u001b[1m x1       \u001b[0m\u001b[1m x2       \u001b[0m\u001b[1m x3         \u001b[0m\u001b[1m x4       \u001b[0m\u001b[1m yid      \u001b[0m\u001b[1m y1       \u001b[0m\u001b[1m\u001b[0m ⋯\n",
       "\u001b[1m     \u001b[0m│\u001b[90m identity \u001b[0m\u001b[90m identity \u001b[0m\u001b[90m identity \u001b[0m\u001b[90m identity   \u001b[0m\u001b[90m identity \u001b[0m\u001b[90m identity \u001b[0m\u001b[90m identity \u001b[0m\u001b[90m\u001b[0m ⋯\n",
       "\u001b[1m     \u001b[0m│\u001b[90m Int64?   \u001b[0m\u001b[90m Int64?   \u001b[0m\u001b[90m Float64? \u001b[0m\u001b[90m Date?      \u001b[0m\u001b[90m String?  \u001b[0m\u001b[90m Int64?   \u001b[0m\u001b[90m Int64?   \u001b[0m\u001b[90m\u001b[0m ⋯\n",
       "─────┼──────────────────────────────────────────────────────────────────────────\n",
       "   1 │      111         1      -1.2  2019-10-03  abcd           222         3  ⋯\n",
       "   2 │      111         1      -1.2  2019-10-03  abcd           444         3\n",
       "   3 │      111         1      -1.2  2019-10-03  abcd           333         3\n",
       "   4 │      222         2      -3.0  2019-09-30  efgh           444         3\n",
       "   5 │      222         2      -3.0  2019-09-30  efgh           333         3  ⋯\n",
       "   6 │      333         1       2.1  2019-10-04  ijkl           444         3\n",
       "\u001b[36m                                                               4 columns omitted\u001b[0m, Int32[3, 2, 1, 0, 0], 6)"
      ]
     },
     "metadata": {},
     "output_type": "display_data"
    }
   ],
   "source": [
    "newds, dsl_count, total_length = \n",
    "  cartesianjoin(dsl,dsr,on = [:xid=>:yid=>isless],multiple_match=true)"
   ]
  },
  {
   "cell_type": "code",
   "execution_count": 118,
   "metadata": {},
   "outputs": [
    {
     "data": {
      "text/html": [
       "<table class=\"data-set\"><thead><tr><th></th><th>xid</th><th>x1</th><th>x2</th><th>x4</th><th>yid</th><th>y1</th><th>y3</th><th>y4</th><th>multiple</th></tr><th></th><th>identity</th><th>identity</th><th>identity</th><th>identity</th><th>identity</th><th>identity</th><th>identity</th><th>identity</th><th>identity</th></tr><tr><th></th><th title=\"Union{Missing, Int64}\">Int64?</th><th title=\"Union{Missing, Int64}\">Int64?</th><th title=\"Union{Missing, Float64}\">Float64?</th><th title=\"Union{Missing, String}\">String?</th><th title=\"Union{Missing, Int64}\">Int64?</th><th title=\"Union{Missing, Int64}\">Int64?</th><th title=\"Union{Missing, Date}\">Date?</th><th title=\"Union{Missing, String}\">String?</th><th title=\"Union{Missing, Bool}\">Bool?</th></tr></thead><tbody><p>6 rows × 9 columns</p><p><b> SubDataset (view of Dataset)</p><tr><th>1</th><td>111</td><td>1</td><td>-1.2</td><td>abcd</td><td>222</td><td>3</td><td>2019-09-30</td><td>efg</td><td>1</td></tr><tr><th>2</th><td>111</td><td>1</td><td>-1.2</td><td>abcd</td><td>444</td><td>3</td><td>2019-10-05</td><td>mnop</td><td>1</td></tr><tr><th>3</th><td>111</td><td>1</td><td>-1.2</td><td>abcd</td><td>333</td><td>3</td><td>2019-10-05</td><td>qrst</td><td>1</td></tr><tr><th>4</th><td>222</td><td>2</td><td>-3.0</td><td>efgh</td><td>444</td><td>3</td><td>2019-10-05</td><td>mnop</td><td>1</td></tr><tr><th>5</th><td>222</td><td>2</td><td>-3.0</td><td>efgh</td><td>333</td><td>3</td><td>2019-10-05</td><td>qrst</td><td>1</td></tr><tr><th>6</th><td>333</td><td>1</td><td>2.1</td><td>ijkl</td><td>444</td><td>3</td><td>2019-10-05</td><td>mnop</td><td>0</td></tr></tbody></table>"
      ],
      "text/latex": [
       "\\begin{tabular}{r|ccccccccc}\n",
       "\t& xid & x1 & x2 & x4 & yid & y1 & y3 & y4 & multiple\\\\\n",
       "\t\\hline\n",
       "\t& identity & identity & identity & identity & identity & identity & identity & identity & identity\\\\\n",
       "\t\\hline\n",
       "\t& Int64? & Int64? & Float64? & String? & Int64? & Int64? & Date? & String? & Bool?\\\\\n",
       "\t\\hline\n",
       "\t1 & 111 & 1 & -1.2 & abcd & 222 & 3 & 2019-09-30 & efg & 1 \\\\\n",
       "\t2 & 111 & 1 & -1.2 & abcd & 444 & 3 & 2019-10-05 & mnop & 1 \\\\\n",
       "\t3 & 111 & 1 & -1.2 & abcd & 333 & 3 & 2019-10-05 & qrst & 1 \\\\\n",
       "\t4 & 222 & 2 & -3.0 & efgh & 444 & 3 & 2019-10-05 & mnop & 1 \\\\\n",
       "\t5 & 222 & 2 & -3.0 & efgh & 333 & 3 & 2019-10-05 & qrst & 1 \\\\\n",
       "\t6 & 333 & 1 & 2.1 & ijkl & 444 & 3 & 2019-10-05 & mnop & 0 \\\\\n",
       "\\end{tabular}\n"
      ],
      "text/plain": [
       "\u001b[1m6×9 SubDataset\u001b[0m\n",
       "\u001b[1m Row \u001b[0m│\u001b[1m xid      \u001b[0m\u001b[1m x1       \u001b[0m\u001b[1m x2       \u001b[0m\u001b[1m x4       \u001b[0m\u001b[1m yid      \u001b[0m\u001b[1m y1       \u001b[0m\u001b[1m y3         \u001b[0m\u001b[1m\u001b[0m ⋯\n",
       "\u001b[1m     \u001b[0m│\u001b[90m identity \u001b[0m\u001b[90m identity \u001b[0m\u001b[90m identity \u001b[0m\u001b[90m identity \u001b[0m\u001b[90m identity \u001b[0m\u001b[90m identity \u001b[0m\u001b[90m identity   \u001b[0m\u001b[90m\u001b[0m ⋯\n",
       "\u001b[1m     \u001b[0m│\u001b[90m Int64?   \u001b[0m\u001b[90m Int64?   \u001b[0m\u001b[90m Float64? \u001b[0m\u001b[90m String?  \u001b[0m\u001b[90m Int64?   \u001b[0m\u001b[90m Int64?   \u001b[0m\u001b[90m Date?      \u001b[0m\u001b[90m\u001b[0m ⋯\n",
       "─────┼──────────────────────────────────────────────────────────────────────────\n",
       "   1 │      111         1      -1.2  abcd           222         3  2019-09-30  ⋯\n",
       "   2 │      111         1      -1.2  abcd           444         3  2019-10-05\n",
       "   3 │      111         1      -1.2  abcd           333         3  2019-10-05\n",
       "   4 │      222         2      -3.0  efgh           444         3  2019-10-05\n",
       "   5 │      222         2      -3.0  efgh           333         3  2019-10-05  ⋯\n",
       "   6 │      333         1       2.1  ijkl           444         3  2019-10-05\n",
       "\u001b[36m                                                               2 columns omitted\u001b[0m"
      ]
     },
     "metadata": {},
     "output_type": "display_data"
    }
   ],
   "source": [
    "newds[!,[1,2,3,5,6,7,9,10,11]]\n"
   ]
  },
  {
   "cell_type": "code",
   "execution_count": 96,
   "metadata": {},
   "outputs": [
    {
     "data": {
      "text/plain": [
       "4"
      ]
     },
     "metadata": {},
     "output_type": "display_data"
    }
   ],
   "source": [
    "total_length"
   ]
  },
  {
   "cell_type": "code",
   "execution_count": 103,
   "metadata": {},
   "outputs": [
    {
     "data": {
      "text/plain": [
       "4-element Vector{Union{Missing, Bool}}:\n",
       "  true\n",
       "  true\n",
       " false\n",
       " false"
      ]
     },
     "metadata": {},
     "output_type": "display_data"
    }
   ],
   "source": [
    "_create_multiple_match_col_cartesian(dsl_count, nothing, total_length)"
   ]
  },
  {
   "cell_type": "code",
   "execution_count": 101,
   "metadata": {},
   "outputs": [
    {
     "data": {
      "text/plain": [
       "_create_multiple_match_col_cartesian (generic function with 1 method)"
      ]
     },
     "metadata": {},
     "output_type": "display_data"
    }
   ],
   "source": []
  },
  {
   "cell_type": "markdown",
   "metadata": {},
   "source": [
    "## obsid"
   ]
  },
  {
   "cell_type": "code",
   "execution_count": null,
   "metadata": {},
   "outputs": [],
   "source": [
    "if obs_id[1]\n",
    "  obs_id_name1 = Symbol(obs_id_name, \"_left\")\n",
    "  obs_id_left = allocatecol(nrow(dsl) < typemax(Int32) ? Int32 : Int64, total_length)\n",
    "  ## 和填充dsl用的同一个函数，研究一下\n",
    "  _fill_oncols_left_table_inner!(obs_id_left, 1:nrow(dsl), ranges, new_ends, total_length; inbits = inbits, en2 = revised_ends, threads = threads)\n",
    "  insertcols!(newds, ncol(newds)+1, obs_id_name1 => obs_id_left, unsupported_copy_cols = false, makeunique = makeunique)\n",
    "end\n",
    "\n",
    "if obs_id[2]\n",
    "  obs_id_name2 = Symbol(obs_id_name, \"_right\")\n",
    "  obs_id_right = allocatecol(T, total_length)\n",
    "  _fill_right_cols_table_inner!(obs_id_right, idx, ranges, new_ends, total_length; inbits = inbits, en2 = revised_ends, threads = threads)\n",
    "  insertcols!(newds, ncol(newds)+1, obs_id_name2 => obs_id_right, unsupported_copy_cols = false, makeunique = makeunique)\n",
    "end"
   ]
  },
  {
   "cell_type": "markdown",
   "metadata": {},
   "source": [
    "## mapformats\n",
    "获取格式然后做值对比的时候套用format"
   ]
  },
  {
   "cell_type": "code",
   "execution_count": null,
   "metadata": {},
   "outputs": [],
   "source": [
    "if mapformats[1]\n",
    "  _fl = _date_value∘getformat(dsl, onleft[1])\n",
    "end\n",
    "if mapformats[2]\n",
    "  _fr = _date_value∘getformat(dsr, onright[1])\n",
    "end\n",
    "\n",
    "if lmf\n",
    "  _fl = getformat(dsl, l_idx)\n",
    "else\n",
    "  _fl = identity\n",
    "end\n",
    "if rmf\n",
    "  _fr = getformat(dsr, r_idx)\n",
    "else\n",
    "  _fr = identity\n",
    "end\n",
    "\n",
    "if _fr == identity\n",
    "  var_r_cpy = var_r\n",
    "else\n",
    "  var_r_cpy = map(_fr, var_r)\n",
    "end\n",
    "\n",
    "unwrap(x) = x\n",
    "_flx = _fl(DataAPI.unwrap(x[i]))::T1"
   ]
  }
 ],
 "metadata": {
  "kernelspec": {
   "display_name": "Julia 1.7.3",
   "language": "julia",
   "name": "julia-1.7"
  },
  "language_info": {
   "file_extension": ".jl",
   "mimetype": "application/julia",
   "name": "julia",
   "version": "1.7.3"
  },
  "orig_nbformat": 4
 },
 "nbformat": 4,
 "nbformat_minor": 2
}
