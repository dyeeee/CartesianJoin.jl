{
 "cells": [
  {
   "cell_type": "code",
   "execution_count": 118,
   "metadata": {},
   "outputs": [],
   "source": [
    "using InMemoryDatasets\n",
    "import InMemoryDatasets as IMD\n",
    "using BenchmarkTools\n",
    "using TimerOutputs\n",
    "using DLMReader"
   ]
  },
  {
   "cell_type": "code",
   "execution_count": 207,
   "metadata": {},
   "outputs": [
    {
     "data": {
      "text/plain": [
       "cartesianjoin (generic function with 1 method)"
      ]
     },
     "metadata": {},
     "output_type": "display_data"
    }
   ],
   "source": [
    "include(\"../src/main.jl\")"
   ]
  },
  {
   "cell_type": "markdown",
   "metadata": {},
   "source": [
    "# Data"
   ]
  },
  {
   "cell_type": "code",
   "execution_count": 121,
   "metadata": {},
   "outputs": [
    {
     "name": "stdout",
     "output_type": "stream",
     "text": [
      "dsl = Dataset(xid = [111, 222, 333, 444, 222], x1 = [1, 2, 1, 4, 3], x2 = [-1.2, -3, 2.1, -3.5, 2.8], x4 = [\"abcd\", \"efgh\", \"ijkl\", \"mnop\", \"qrst\"]) = 5×4 Dataset\n",
      " Row │ xid       x1        x2        x4\n",
      "     │ identity  identity  identity  identity\n",
      "     │ Int64?    Int64?    Float64?  String?\n",
      "─────┼────────────────────────────────────────\n",
      "   1 │      111         1      -1.2  abcd\n",
      "   2 │      222         2      -3.0  efgh\n",
      "   3 │      333         1       2.1  ijkl\n",
      "   4 │      444         4      -3.5  mnop\n",
      "   5 │      222         3       2.8  qrst\n",
      "dsr = Dataset(yid = [111, 111, 222, 444, 333], y1 = [3, 3, 3, 3, 3], y2 = [0, 0, -3, 1, 2], y4 = [\"abc\", \"abcd\", \"efg\", \"mnop\", \"qrst\"]) = 5×4 Dataset\n",
      " Row │ yid       y1        y2        y4\n",
      "     │ identity  identity  identity  identity\n",
      "     │ Int64?    Int64?    Int64?    String?\n",
      "─────┼────────────────────────────────────────\n",
      "   1 │      111         3         0  abc\n",
      "   2 │      111         3         0  abcd\n",
      "   3 │      222         3        -3  efg\n",
      "   4 │      444         3         1  mnop\n",
      "   5 │      333         3         2  qrst\n"
     ]
    }
   ],
   "source": [
    "@show dsl = Dataset(xid = [111,222,333,444,222], \n",
    "                    x1 = [1,2,1,4,3], \n",
    "                    x2 = [-1.2,-3,2.1,-3.5,2.8],\n",
    "                    #x3 = [Date(\"2019-10-03\"), Date(\"2019-09-30\"), Date(\"2019-10-04\"), Date(\"2019-10-03\"), Date(\"2019-10-03\")],\n",
    "                    x4 = [\"abcd\",\"efgh\",\"ijkl\",\"mnop\",\"qrst\"]);\n",
    "\n",
    "@show dsr = Dataset(yid = [111,111,222,444,333],\n",
    "                    y1 = [3,3,3,3,3],\n",
    "                    y2 = [0,0, -3,1,2],\n",
    "                    #y3 = [Date(\"2019-10-01\"),Date(\"2019-10-01\"), Date(\"2019-09-30\"), Date(\"2019-10-05\"), Date(\"2019-10-05\")],\n",
    "                    y4 = [\"abc\",\"abcd\",\"efg\",\"mnop\",\"qrst\"]);\n",
    "\n",
    "dsl_big = Dataset(rand(10^3, 5), :auto);\n",
    "modify!(dsl_big,[:x1,:x2,:x3] .=> byrow(x -> (x*100)));\n",
    "modify!(dsl_big,[:x1,:x2,:x3] .=> byrow(round), [:x1,:x2,:x3] .=> byrow(Int));\n",
    "\n",
    "dsr_big = Dataset(rand(10^3, 5), :auto);\n",
    "modify!(dsr_big,[:x1,:x2,:x3] .=> byrow(x -> (x*100)));\n",
    "modify!(dsr_big,[:x1,:x2,:x3] .=> byrow(round), [:x1,:x2,:x3] .=> byrow(Int));\n",
    "function x2y(str)\n",
    "  replace(str,'x' => 'y')\n",
    "end\n",
    "rename!(x2y,dsr_big);\n",
    "\n",
    "dsl_big2 = Dataset(rand(10^4, 5), :auto);\n",
    "modify!(dsl_big2,[:x1,:x2,:x3] .=> byrow(x -> (x*100)));\n",
    "modify!(dsl_big2,[:x1,:x2,:x3] .=> byrow(round), [:x1,:x2,:x3] .=> byrow(Int));\n",
    "\n",
    "dsr_big2 = Dataset(rand(10^4, 5), :auto);\n",
    "modify!(dsr_big2,[:x1,:x2,:x3] .=> byrow(x -> (x*100)));\n",
    "modify!(dsr_big2,[:x1,:x2,:x3] .=> byrow(round), [:x1,:x2,:x3] .=> byrow(Int));\n",
    "function x2y(str)\n",
    "  replace(str,'x' => 'y')\n",
    "end\n",
    "rename!(x2y,dsr_big2);"
   ]
  },
  {
   "cell_type": "markdown",
   "metadata": {},
   "source": [
    "# Working"
   ]
  },
  {
   "cell_type": "code",
   "execution_count": null,
   "metadata": {},
   "outputs": [],
   "source": [
    "innerjoin(dsl,dsr,on = 1)  "
   ]
  },
  {
   "cell_type": "markdown",
   "metadata": {},
   "source": [
    "## on syntax"
   ]
  },
  {
   "cell_type": "code",
   "execution_count": null,
   "metadata": {},
   "outputs": [],
   "source": [
    "on = [1 => 1, 3 => 3]\n",
    "on1 = [\"xid\" => \"yid\",\"x1\"=>\"y1\"]\n",
    "on2 = [(:xid => :yid) => isequal, (:x1 => :y1) => isless]\n",
    "on3  = [:xid => :yid, :x1 => :y1 => isless]\n",
    "#on4  = [:xid => :yid, :x1 => :y1]"
   ]
  },
  {
   "cell_type": "code",
   "execution_count": null,
   "metadata": {},
   "outputs": [],
   "source": [
    "# 两边都有同名列，on = :id 用的\n",
    "(typeof(on1) <: AbstractVector{<:Union{AbstractString, Symbol}})"
   ]
  },
  {
   "cell_type": "code",
   "execution_count": null,
   "metadata": {},
   "outputs": [],
   "source": [
    "(typeof(on2) <: AbstractVector{<:Pair{<:Pair{<:IMD.ColumnIndex,<:IMD.ColumnIndex}, <:Function}})"
   ]
  },
  {
   "cell_type": "code",
   "execution_count": null,
   "metadata": {},
   "outputs": [],
   "source": [
    "typeof(on3)"
   ]
  },
  {
   "cell_type": "code",
   "execution_count": null,
   "metadata": {},
   "outputs": [],
   "source": [
    "on3  = [:xid => :yid, :x1 => :y1 => isless]\n",
    "if (typeof(on3) <: AbstractVector{<:Pair{<:IMD.ColumnIndex, <:Any}})\n",
    "\n",
    "  dsr_cols = Symbol[]\n",
    "  equalon_dsr_cols = Symbol[]\n",
    "  conditions = Function[]\n",
    "\n",
    "  for element in map(x -> x.second, on3)\n",
    "    if typeof(element) <: Pair\n",
    "      !(element.second isa Function) && throw(ArgumentError(\"Need Function\"))\n",
    "      push!(dsr_cols, element.first)\n",
    "      push!(conditions, element.second)\n",
    "    elseif typeof(element) <: IMD.ColumnIndex\n",
    "      push!(dsr_cols, element)\n",
    "      push!(equalon_dsr_cols, element)\n",
    "      push!(conditions, isequal)\n",
    "    else\n",
    "      \n",
    "      throw(ArgumentError(\"error `on`\"))\n",
    "    end\n",
    "  end\n",
    "\n",
    "  onleft = IMD.multiple_getindex(IMD.index(dsl), map(x -> x.first, on))\n",
    "  onright = IMD.multiple_getindex(IMD.index(dsr), dsr_cols)\n",
    "  onright_equal = IMD.multiple_getindex(IMD.index(dsr), equalon_dsr_cols)\n",
    "\n",
    "end"
   ]
  },
  {
   "cell_type": "markdown",
   "metadata": {},
   "source": [
    "# Test"
   ]
  },
  {
   "cell_type": "code",
   "execution_count": 117,
   "metadata": {},
   "outputs": [
    {
     "data": {
      "text/plain": [
       "fun1 (generic function with 1 method)"
      ]
     },
     "metadata": {},
     "output_type": "display_data"
    }
   ],
   "source": [
    "function fun1(x,y) \n",
    "  x <= y\n",
    "end"
   ]
  },
  {
   "cell_type": "code",
   "execution_count": null,
   "metadata": {},
   "outputs": [],
   "source": [
    "innerjoin(dsl,dsr,on = [:xid=>:yid],multiple_match=true,obs_id=[true,true])"
   ]
  },
  {
   "cell_type": "code",
   "execution_count": 211,
   "metadata": {},
   "outputs": [
    {
     "name": "stdout",
     "output_type": "stream",
     "text": [
      "\u001b[0m\u001b[1m ────────────────────────────────────────────────────────────────────────────────\u001b[22m\n",
      "\u001b[0m\u001b[1m                               \u001b[22m         Time                    Allocations      \n",
      "                               ───────────────────────   ────────────────────────\n",
      "       Tot / % measured:            886μs /  98.0%           45.2KiB /  95.1%    \n",
      "\n",
      " Section               ncalls     time    %tot     avg     alloc    %tot      avg\n",
      " ────────────────────────────────────────────────────────────────────────────────\n",
      " generate new ds            1    670μs   77.2%   670μs   35.6KiB   82.8%  35.6KiB\n",
      "   2-2 left row _res        1    434μs   50.0%   434μs   17.5KiB   40.8%  17.5KiB\n",
      "     2.2 fill _res          4    314μs   36.2%  78.5μs   14.6KiB   34.0%  3.65KiB\n",
      "     2.1 init _res          4    100μs   11.5%  25.0μs      624B    1.4%     156B\n",
      "     2.3 push _res          4   2.77μs    0.3%   692ns     80.0B    0.2%    20.0B\n",
      "   2-5 newds dsr            1    146μs   16.8%   146μs   9.94KiB   23.1%  9.94KiB\n",
      "     5.1 init _res          3   45.8μs    5.3%  15.3μs      464B    1.1%     155B\n",
      "     5.2 fill _res          3   4.66μs    0.5%  1.55μs     0.00B    0.0%    0.00B\n",
      "     5.3 fill _res          3   3.46μs    0.4%  1.15μs     0.00B    0.0%    0.00B\n",
      "   2-3 newds dsl            1   36.9μs    4.2%  36.9μs   2.09KiB    4.9%  2.09KiB\n",
      "   2-1 left row count       1   2.57μs    0.3%  2.57μs      176B    0.4%     176B\n",
      " compute flag vector        1    198μs   22.8%   198μs   7.38KiB   17.2%  7.38KiB\n",
      "\u001b[0m\u001b[1m ────────────────────────────────────────────────────────────────────────────────\u001b[22m\n"
     ]
    },
    {
     "data": {
      "text/html": [
       "<table class=\"data-set\"><thead><tr><th></th><th>xid</th><th>x1</th><th>x2</th><th>x4</th><th>y1</th><th>y2</th><th>y4</th><th>multiple_left</th><th>multiple_right</th></tr><th></th><th>identity</th><th>identity</th><th>identity</th><th>identity</th><th>identity</th><th>identity</th><th>identity</th><th>identity</th><th>identity</th></tr><tr><th></th><th title=\"Union{Missing, Int64}\">Int64?</th><th title=\"Union{Missing, Int64}\">Int64?</th><th title=\"Union{Missing, Float64}\">Float64?</th><th title=\"Union{Missing, String}\">String?</th><th title=\"Union{Missing, Int64}\">Int64?</th><th title=\"Union{Missing, Int64}\">Int64?</th><th title=\"Union{Missing, String}\">String?</th><th title=\"Union{Missing, Bool}\">Bool?</th><th title=\"Union{Missing, Int64}\">Int64?</th></tr></thead><tbody><p>5 rows × 9 columns</p><tr><th>1</th><td>111</td><td>1</td><td>-1.2</td><td>abcd</td><td>3</td><td>0</td><td>abc</td><td>1</td><td>0</td></tr><tr><th>2</th><td>111</td><td>1</td><td>-1.2</td><td>abcd</td><td>3</td><td>0</td><td>abc</td><td>1</td><td>0</td></tr><tr><th>3</th><td>222</td><td>2</td><td>-3.0</td><td>efgh</td><td>3</td><td>0</td><td>abc</td><td>0</td><td>1</td></tr><tr><th>4</th><td>333</td><td>1</td><td>2.1</td><td>ijkl</td><td>3</td><td>0</td><td>abc</td><td>0</td><td>0</td></tr><tr><th>5</th><td>222</td><td>3</td><td>2.8</td><td>qrst</td><td>3</td><td>0</td><td>abc</td><td>0</td><td>1</td></tr></tbody></table>"
      ],
      "text/latex": [
       "\\begin{tabular}{r|ccccccccc}\n",
       "\t& xid & x1 & x2 & x4 & y1 & y2 & y4 & multiple\\_left & multiple\\_right\\\\\n",
       "\t\\hline\n",
       "\t& identity & identity & identity & identity & identity & identity & identity & identity & identity\\\\\n",
       "\t\\hline\n",
       "\t& Int64? & Int64? & Float64? & String? & Int64? & Int64? & String? & Bool? & Int64?\\\\\n",
       "\t\\hline\n",
       "\t1 & 111 & 1 & -1.2 & abcd & 3 & 0 & abc & 1 & 0 \\\\\n",
       "\t2 & 111 & 1 & -1.2 & abcd & 3 & 0 & abc & 1 & 0 \\\\\n",
       "\t3 & 222 & 2 & -3.0 & efgh & 3 & 0 & abc & 0 & 1 \\\\\n",
       "\t4 & 333 & 1 & 2.1 & ijkl & 3 & 0 & abc & 0 & 0 \\\\\n",
       "\t5 & 222 & 3 & 2.8 & qrst & 3 & 0 & abc & 0 & 1 \\\\\n",
       "\\end{tabular}\n"
      ],
      "text/plain": [
       "\u001b[1m5×9 Dataset\u001b[0m\n",
       "\u001b[1m Row \u001b[0m│\u001b[1m xid      \u001b[0m\u001b[1m x1       \u001b[0m\u001b[1m x2       \u001b[0m\u001b[1m x4       \u001b[0m\u001b[1m y1       \u001b[0m\u001b[1m y2       \u001b[0m\u001b[1m y4       \u001b[0m\u001b[1m m\u001b[0m ⋯\n",
       "\u001b[1m     \u001b[0m│\u001b[90m identity \u001b[0m\u001b[90m identity \u001b[0m\u001b[90m identity \u001b[0m\u001b[90m identity \u001b[0m\u001b[90m identity \u001b[0m\u001b[90m identity \u001b[0m\u001b[90m identity \u001b[0m\u001b[90m i\u001b[0m ⋯\n",
       "\u001b[1m     \u001b[0m│\u001b[90m Int64?   \u001b[0m\u001b[90m Int64?   \u001b[0m\u001b[90m Float64? \u001b[0m\u001b[90m String?  \u001b[0m\u001b[90m Int64?   \u001b[0m\u001b[90m Int64?   \u001b[0m\u001b[90m String?  \u001b[0m\u001b[90m B\u001b[0m ⋯\n",
       "─────┼──────────────────────────────────────────────────────────────────────────\n",
       "   1 │      111         1      -1.2  abcd             3         0  abc         ⋯\n",
       "   2 │      111         1      -1.2  abcd             3         0  abc\n",
       "   3 │      222         2      -3.0  efgh             3         0  abc\n",
       "   4 │      333         1       2.1  ijkl             3         0  abc\n",
       "   5 │      222         3       2.8  qrst             3         0  abc         ⋯\n",
       "\u001b[36m                                                               2 columns omitted\u001b[0m"
      ]
     },
     "metadata": {},
     "output_type": "display_data"
    }
   ],
   "source": [
    "newds = cartesianjoin(dsl,dsr,on = [:xid=>:yid, :x1=>:y1=>fun1],\n",
    "            multiple_match=[true,true],obs_id=[false,false]);\n",
    "newds"
   ]
  },
  {
   "cell_type": "code",
   "execution_count": 218,
   "metadata": {},
   "outputs": [
    {
     "name": "stdout",
     "output_type": "stream",
     "text": [
      "\u001b[0m\u001b[1m ────────────────────────────────────────────────────────────────────────────────\u001b[22m\n",
      "\u001b[0m\u001b[1m                               \u001b[22m         Time                    Allocations      \n",
      "                               ───────────────────────   ────────────────────────\n",
      "       Tot / % measured:            848ms / 100.0%           19.4MiB / 100.0%    \n",
      "\n",
      " Section               ncalls     time    %tot     avg     alloc    %tot      avg\n",
      " ────────────────────────────────────────────────────────────────────────────────\n",
      " generate new ds            1    720ms   84.9%   720ms   19.4MiB   99.9%  19.4MiB\n",
      "   2-5 newds dsr            1    635ms   74.9%   635ms   8.56MiB   44.1%  8.56MiB\n",
      "     5.3 fill _res          4    371ms   43.8%  92.8ms     64.0B    0.0%    16.0B\n",
      "     5.2 fill _res          4    263ms   31.0%  65.7ms     64.0B    0.0%    16.0B\n",
      "     5.1 init _res          4    258μs    0.0%  64.5μs   8.55MiB   44.1%  2.14MiB\n",
      "   2-1 left row count       1   83.1ms    9.8%  83.1ms    117KiB    0.6%   117KiB\n",
      "   2-2 left row _res        1   1.97ms    0.2%  1.97ms   10.7MiB   55.2%  10.7MiB\n",
      "     2.2 fill _res          5   1.54ms    0.2%   308μs   18.6KiB    0.1%  3.71KiB\n",
      "     2.1 init _res          5    380μs    0.0%  76.1μs   10.7MiB   55.1%  2.14MiB\n",
      "     2.3 push _res          5   3.81μs    0.0%   762ns     80.0B    0.0%    16.0B\n",
      "   2-3 newds dsl            1   29.0μs    0.0%  29.0μs   2.33KiB    0.0%  2.33KiB\n",
      " compute flag vector        1    128ms   15.1%   128ms   11.5KiB    0.1%  11.5KiB\n",
      "\u001b[0m\u001b[1m ────────────────────────────────────────────────────────────────────────────────\u001b[22m\n",
      "  0.886351 seconds (3.50 k allocations: 114.885 MiB, 1.64% gc time)\n"
     ]
    },
    {
     "data": {
      "text/plain": [
       "249098"
      ]
     },
     "metadata": {},
     "output_type": "display_data"
    }
   ],
   "source": [
    "@time nds = cartesianjoin(dsl_big2,dsr_big2,on = [:x1=>:y1, :x2=>:y2=>fun1, :x3=>:y3=>isless],\n",
    "check=false);\n",
    "nrow(nds)"
   ]
  },
  {
   "cell_type": "code",
   "execution_count": 219,
   "metadata": {},
   "outputs": [
    {
     "name": "stdout",
     "output_type": "stream",
     "text": [
      "\u001b[0m\u001b[1m ────────────────────────────────────────────────────────────────────────────────\u001b[22m\n",
      "\u001b[0m\u001b[1m                               \u001b[22m         Time                    Allocations      \n",
      "                               ───────────────────────   ────────────────────────\n",
      "       Tot / % measured:            521ms / 100.0%            171KiB /  98.7%    \n",
      "\n",
      " Section               ncalls     time    %tot     avg     alloc    %tot      avg\n",
      " ────────────────────────────────────────────────────────────────────────────────\n",
      " generate new ds            1    388ms   74.4%   388ms    157KiB   93.2%   157KiB\n",
      "   2-5 newds dsr            1    301ms   57.8%   301ms   9.08KiB    5.4%  9.08KiB\n",
      "     5.3 fill _res          2    178ms   34.3%  89.2ms     32.0B    0.0%    16.0B\n",
      "     5.2 fill _res          2    122ms   23.5%  61.1ms     32.0B    0.0%    16.0B\n",
      "     5.1 init _res          2   47.8μs    0.0%  23.9μs   1.91KiB    1.1%     976B\n",
      "   2-1 left row count       1   85.9ms   16.5%  85.9ms    117KiB   69.6%   117KiB\n",
      "   2-2 left row _res        1    812μs    0.2%   812μs   25.5KiB   15.1%  25.5KiB\n",
      "     2.2 fill _res          5    660μs    0.1%   132μs   18.4KiB   10.9%  3.67KiB\n",
      "     2.1 init _res          5    129μs    0.0%  25.7μs   4.77KiB    2.8%     976B\n",
      "     2.3 push _res          5   3.06μs    0.0%   612ns     80.0B    0.0%    16.0B\n",
      "   2-3 newds dsl            1   26.7μs    0.0%  26.7μs   2.25KiB    1.3%  2.25KiB\n",
      " compute flag vector        1    133ms   25.6%   133ms   11.5KiB    6.8%  11.5KiB\n",
      "\u001b[0m\u001b[1m ────────────────────────────────────────────────────────────────────────────────\u001b[22m\n"
     ]
    },
    {
     "data": {
      "text/plain": [
       "97"
      ]
     },
     "metadata": {},
     "output_type": "display_data"
    }
   ],
   "source": [
    "nds = cartesianjoin(dsl_big2,dsr_big2,on = [:x1=>:y1, :x2=>:y2, :x3=>:y3],check=false);\n",
    "nrow(nds)"
   ]
  },
  {
   "cell_type": "code",
   "execution_count": 214,
   "metadata": {},
   "outputs": [
    {
     "name": "stdout",
     "output_type": "stream",
     "text": [
      "  0.005906 seconds (1.73 k allocations: 683.766 KiB)\n"
     ]
    },
    {
     "data": {
      "text/plain": [
       "97"
      ]
     },
     "metadata": {},
     "output_type": "display_data"
    }
   ],
   "source": [
    "@time nds = innerjoin(dsl_big2,dsr_big2,on = [:x1=>:y1, :x2=>:y2, :x3=>:y3],check=false);\n",
    "nrow(nds)"
   ]
  },
  {
   "cell_type": "markdown",
   "metadata": {},
   "source": [
    "## multiple_match"
   ]
  },
  {
   "cell_type": "code",
   "execution_count": null,
   "metadata": {},
   "outputs": [],
   "source": [
    "newds, dsl_count, total_length = \n",
    "  cartesianjoin(dsl,dsr,on = [:xid=>:yid=>isless],multiple_match=true)"
   ]
  },
  {
   "cell_type": "code",
   "execution_count": null,
   "metadata": {},
   "outputs": [],
   "source": [
    "newds[!,[1,2,3,5,6,7,9,10,11]]\n"
   ]
  },
  {
   "cell_type": "code",
   "execution_count": null,
   "metadata": {},
   "outputs": [],
   "source": [
    "total_length"
   ]
  },
  {
   "cell_type": "code",
   "execution_count": null,
   "metadata": {},
   "outputs": [],
   "source": [
    "_create_multiple_match_col_cartesian(dsl_count, nothing, total_length)"
   ]
  },
  {
   "cell_type": "code",
   "execution_count": null,
   "metadata": {},
   "outputs": [],
   "source": [
    "a = [1,2,3,5,3]"
   ]
  },
  {
   "cell_type": "code",
   "execution_count": null,
   "metadata": {},
   "outputs": [],
   "source": [
    "count(==(1),a) >1 ? 1 : 0"
   ]
  },
  {
   "cell_type": "code",
   "execution_count": null,
   "metadata": {},
   "outputs": [],
   "source": [
    "map(x->count(==(x),a) > 1 ? 1 : 0 ,a)"
   ]
  },
  {
   "cell_type": "markdown",
   "metadata": {},
   "source": [
    "## obsid"
   ]
  },
  {
   "cell_type": "code",
   "execution_count": null,
   "metadata": {},
   "outputs": [],
   "source": [
    "if obs_id[1]\n",
    "  obs_id_name1 = Symbol(obs_id_name, \"_left\")\n",
    "  # 初始化total length的missing\n",
    "  obs_id_left = allocatecol(nrow(dsl) < typemax(Int32) ? Int32 : Int64, total_length)\n",
    "  ## 和填充dsl用的同一个函数，研究一下\n",
    "  _fill_oncols_left_table_inner!(obs_id_left, 1:nrow(dsl), ranges, new_ends, total_length; inbits = inbits, en2 = revised_ends, threads = threads)\n",
    "  insertcols!(newds, ncol(newds)+1, obs_id_name1 => obs_id_left, unsupported_copy_cols = false, makeunique = makeunique)\n",
    "end\n",
    "\n",
    "if obs_id[2]\n",
    "  obs_id_name2 = Symbol(obs_id_name, \"_right\")\n",
    "  obs_id_right = allocatecol(T, total_length)\n",
    "  _fill_right_cols_table_inner!(obs_id_right, idx, ranges, new_ends, total_length; inbits = inbits, en2 = revised_ends, threads = threads)\n",
    "  insertcols!(newds, ncol(newds)+1, obs_id_name2 => obs_id_right, unsupported_copy_cols = false, makeunique = makeunique)\n",
    "end"
   ]
  },
  {
   "cell_type": "code",
   "execution_count": null,
   "metadata": {},
   "outputs": [],
   "source": [
    "obs_id_left = IMD.allocatecol(nrow(dsl) < typemax(Int32) ? Int32 : Int64, 4)"
   ]
  },
  {
   "cell_type": "code",
   "execution_count": null,
   "metadata": {},
   "outputs": [],
   "source": [
    "fill_left_res(obs_id_left,1:nrow(dsl),[2, 1, 0, 1, 0],[2, 3, 3, 4, 4],true)\n",
    "insertcols!(newds, ncol(newds)+1, obs_id_name1 => obs_id_left, unsupported_copy_cols = false, makeunique = true)"
   ]
  },
  {
   "cell_type": "code",
   "execution_count": null,
   "metadata": {},
   "outputs": [],
   "source": [
    "insertcols!(newds, ncol(newds) + 1, :test => [1,2,3,5], unsupported_copy_cols=false, makeunique=true)"
   ]
  },
  {
   "cell_type": "code",
   "execution_count": null,
   "metadata": {},
   "outputs": [],
   "source": [
    "newds.test"
   ]
  },
  {
   "cell_type": "code",
   "execution_count": null,
   "metadata": {},
   "outputs": [],
   "source": []
  },
  {
   "cell_type": "markdown",
   "metadata": {},
   "source": [
    "## mapformats\n",
    "获取格式然后做值对比的时候套用format"
   ]
  },
  {
   "cell_type": "code",
   "execution_count": null,
   "metadata": {},
   "outputs": [],
   "source": [
    "if mapformats[1]\n",
    "  _fl = _date_value∘getformat(dsl, onleft[1])\n",
    "end\n",
    "if mapformats[2]\n",
    "  _fr = _date_value∘getformat(dsr, onright[1])\n",
    "end\n",
    "\n",
    "l_idx = oncols_left[j]\n",
    "if lmf\n",
    "  _fl = getformat(dsl, l_idx)\n",
    "else\n",
    "  _fl = identity\n",
    "end\n",
    "if rmf\n",
    "  _fr = getformat(dsr, r_idx)\n",
    "else\n",
    "  _fr = identity\n",
    "end\n",
    "\n",
    "if _fr == identity\n",
    "  var_r_cpy = var_r\n",
    "else\n",
    "  var_r_cpy = map(_fr, var_r)\n",
    "end\n",
    "\n",
    "unwrap(x) = x\n",
    "_flx = _fl(DataAPI.unwrap(x[i]))::T1"
   ]
  },
  {
   "cell_type": "code",
   "execution_count": null,
   "metadata": {},
   "outputs": [],
   "source": [
    "function format1(x)\n",
    "  x = 1\n",
    "end\n",
    "setformat!(dsl,2 => format1)\n",
    "getformat(dsl, 2)"
   ]
  },
  {
   "cell_type": "code",
   "execution_count": null,
   "metadata": {},
   "outputs": [],
   "source": [
    "map(format1, IMD._columns(dsl)[2])"
   ]
  },
  {
   "cell_type": "markdown",
   "metadata": {},
   "source": [
    "## findall optimize"
   ]
  },
  {
   "cell_type": "code",
   "execution_count": null,
   "metadata": {},
   "outputs": [],
   "source": [
    "function findall(t::Union{AbstractString,AbstractPattern}, s::AbstractString; overlap::Bool=false)\n",
    "  found = UnitRange{Int}[]\n",
    "  i, e = firstindex(s), lastindex(s)\n",
    "  while true\n",
    "      r = findnext(t, s, i)\n",
    "      isnothing(r) && break\n",
    "      push!(found, r)\n",
    "      j = overlap || isempty(r) ? first(r) : last(r)\n",
    "      j > e && break\n",
    "      @inbounds i = nextind(s, j)\n",
    "  end\n",
    "  return found\n",
    "end"
   ]
  },
  {
   "cell_type": "code",
   "execution_count": 74,
   "metadata": {},
   "outputs": [
    {
     "name": "stdout",
     "output_type": "stream",
     "text": [
      "  0.001077 seconds (1 allocation: 64 bytes)\n",
      "  0.000022 seconds (1 allocation: 64 bytes)\n"
     ]
    }
   ],
   "source": [
    "flag = zeros(Bool,1000 * 1000);\n",
    "sizeof(flag);\n",
    "bf = BitVector(flag);\n",
    "sizeof(bf);\n",
    "@time findall(flag);\n",
    "@time findall(bf);"
   ]
  },
  {
   "cell_type": "code",
   "execution_count": 77,
   "metadata": {},
   "outputs": [],
   "source": [
    "flag[3:10] .= 1\n",
    "flag[20] = 1\n",
    "flag[30:35] .= 1\n",
    "flag[50:500] .= 1;"
   ]
  },
  {
   "cell_type": "code",
   "execution_count": 80,
   "metadata": {},
   "outputs": [
    {
     "name": "stdout",
     "output_type": "stream",
     "text": [
      "  0.001176 seconds (1 allocation: 3.812 KiB)\n",
      "  0.000008 seconds (2 allocations: 48 bytes)\n"
     ]
    }
   ],
   "source": [
    "@time findall(flag);\n",
    "@time i, e = firstindex(flag), lastindex(flag);"
   ]
  },
  {
   "cell_type": "code",
   "execution_count": 56,
   "metadata": {},
   "outputs": [
    {
     "name": "stdout",
     "output_type": "stream",
     "text": [
      "  17.813 ns (0 allocations: 0 bytes)\n"
     ]
    },
    {
     "data": {
      "text/plain": [
       "10"
      ]
     },
     "metadata": {},
     "output_type": "display_data"
    }
   ],
   "source": [
    "@btime r = findnext(flag,10) \n",
    "findnext(flag,r+1)\n",
    "r"
   ]
  },
  {
   "cell_type": "code",
   "execution_count": 54,
   "metadata": {},
   "outputs": [
    {
     "name": "stdout",
     "output_type": "stream",
     "text": [
      "  0.047 ns (0 allocations: 0 bytes)\n"
     ]
    },
    {
     "data": {
      "text/plain": [
       "11"
      ]
     },
     "metadata": {},
     "output_type": "display_data"
    }
   ],
   "source": [
    "@btime r = 10 + 1"
   ]
  },
  {
   "cell_type": "code",
   "execution_count": 94,
   "metadata": {},
   "outputs": [
    {
     "data": {
      "text/plain": [
       "3"
      ]
     },
     "metadata": {},
     "output_type": "display_data"
    }
   ],
   "source": [
    "i = 1\n",
    "i = findnext(flag,i+=1)"
   ]
  },
  {
   "cell_type": "code",
   "execution_count": 114,
   "metadata": {},
   "outputs": [
    {
     "name": "stdout",
     "output_type": "stream",
     "text": [
      "  589.588 μs (6 allocations: 7.55 KiB)\n"
     ]
    }
   ],
   "source": [
    "\n",
    "@btime begin\n",
    "  i, e = 1, lastindex(flag);\n",
    "  found = []\n",
    "  while true\n",
    "    res = findnext(flag,i)  #  找到i索引之后的下一个符合条件的索引，没填条件默认true\n",
    "    isnothing(res) && break # 找不到则break\n",
    "    # j = true || isempty(r) ? first(r) : last(r) 有ranges的才要判断\n",
    "    #j = r\n",
    "      # 超出索引，break\n",
    "    #@inbounds i = nextind(flag, j)  ## 纯纯的找下一个索引的位置\n",
    "    indx = res%5 == 0 ? 5 : res%5 # r_len\n",
    "    push!(found, indx)  # 处理逻辑,填充对应r的值\n",
    "    #println(i,r)\n",
    "\n",
    "    i = res + 1\n",
    "    i > e && break\n",
    "  end\n",
    "end"
   ]
  },
  {
   "cell_type": "code",
   "execution_count": null,
   "metadata": {},
   "outputs": [],
   "source": [
    "\n",
    "@btime begin\n",
    "  i, e = firstindex(flag), lastindex(flag);\n",
    "  found = []\n",
    "  while true\n",
    "    r = findnext(flag,i)  # 找到i索引之后的下一个符合条件的索引，没填条件默认true\n",
    "    isnothing(r) && break # 找不到则break\n",
    "    # j = true || isempty(r) ? first(r) : last(r) 有ranges的才要判断\n",
    "    j = r\n",
    "      # 超出索引，break\n",
    "    @inbounds i = nextind(flag, j)  ## 纯纯的找下一个索引的位置\n",
    "\n",
    "    push!(found, r)  # 处理逻辑,填充对应r的值\n",
    "    #println(i,r)\n",
    "\n",
    "    #i = r+1\n",
    "    i > e && break\n",
    "  end\n",
    "end\n",
    "found;\n",
    "\n",
    "@btime dsr_idx = findall(flag)"
   ]
  }
 ],
 "metadata": {
  "kernelspec": {
   "display_name": "Julia 1.7.3",
   "language": "julia",
   "name": "julia-1.7"
  },
  "language_info": {
   "file_extension": ".jl",
   "mimetype": "application/julia",
   "name": "julia",
   "version": "1.7.3"
  },
  "orig_nbformat": 4
 },
 "nbformat": 4,
 "nbformat_minor": 2
}
