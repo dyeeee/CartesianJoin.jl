{
 "cells": [
  {
   "cell_type": "code",
   "execution_count": 1,
   "metadata": {},
   "outputs": [],
   "source": [
    "using InMemoryDatasets\n",
    "import InMemoryDatasets as IMD\n",
    "using BenchmarkTools\n",
    "using TimerOutputs"
   ]
  },
  {
   "cell_type": "markdown",
   "metadata": {},
   "source": [
    "# Data"
   ]
  },
  {
   "cell_type": "code",
   "execution_count": 5,
   "metadata": {},
   "outputs": [
    {
     "name": "stdout",
     "output_type": "stream",
     "text": [
      "dsl = Dataset(xid = [111, 222, 333, 444, 555], x1 = [1, 2, 1, 4, 5], x2 = [-1.2, -3, 2.1, -3.5, 2.8], x3 = [Date(\"2019-10-03\"), Date(\"2019-09-30\"), Date(\"2019-10-04\"), Date(\"2019-10-03\"), Date(\"2019-10-03\")], x4 = [\"abcd\", \"efgh\", \"ijkl\", \"mnop\", \"qrst\"]) = 5×5 Dataset\n",
      " Row │ xid       x1        x2        x3          x4\n",
      "     │ identity  identity  identity  identity    identity\n",
      "     │ Int64?    Int64?    Float64?  Date?       String?\n",
      "─────┼────────────────────────────────────────────────────\n",
      "   1 │      111         1      -1.2  2019-10-03  abcd\n",
      "   2 │      222         2      -3.0  2019-09-30  efgh\n",
      "   3 │      333         1       2.1  2019-10-04  ijkl\n",
      "   4 │      444         4      -3.5  2019-10-03  mnop\n",
      "   5 │      555         5       2.8  2019-10-03  qrst\n",
      "dsr = Dataset(yid = [111, 111, 222, 444, 333], y1 = [3, 3, 3, 3, 3], y2 = [0, 0, -3, 1, 2], y3 = [Date(\"2019-10-01\"), Date(\"2019-10-01\"), Date(\"2019-09-30\"), Date(\"2019-10-05\"), Date(\"2019-10-05\")], y4 = [\"abc\", \"abcd\", \"efg\", \"mnop\", \"qrst\"]) = 5×5 Dataset\n",
      " Row │ yid       y1        y2        y3          y4\n",
      "     │ identity  identity  identity  identity    identity\n",
      "     │ Int64?    Int64?    Int64?    Date?       String?\n",
      "─────┼────────────────────────────────────────────────────\n",
      "   1 │      111         3         0  2019-10-01  abc\n",
      "   2 │      111         3         0  2019-10-01  abcd\n",
      "   3 │      222         3        -3  2019-09-30  efg\n",
      "   4 │      444         3         1  2019-10-05  mnop\n",
      "   5 │      333         3         2  2019-10-05  qrst\n"
     ]
    }
   ],
   "source": [
    "@show dsl = Dataset(xid = [111,222,333,444,555], \n",
    "                    x1 = [1,2,1,4,5], \n",
    "                    x2 = [-1.2,-3,2.1,-3.5,2.8],\n",
    "                    x3 = [Date(\"2019-10-03\"), Date(\"2019-09-30\"), Date(\"2019-10-04\"), Date(\"2019-10-03\"), Date(\"2019-10-03\")],\n",
    "                    x4 = [\"abcd\",\"efgh\",\"ijkl\",\"mnop\",\"qrst\"]);\n",
    "\n",
    "@show dsr = Dataset(yid = [111,111,222,444,333],\n",
    "                    y1 = [3,3,3,3,3],\n",
    "                    y2 = [0,0, -3,1,2],\n",
    "                    y3 = [Date(\"2019-10-01\"),Date(\"2019-10-01\"), Date(\"2019-09-30\"), Date(\"2019-10-05\"), Date(\"2019-10-05\")],\n",
    "                    y4 = [\"abc\",\"abcd\",\"efg\",\"mnop\",\"qrst\"]);\n",
    "\n",
    "dsl_big = Dataset(rand(10^3, 5), :auto);\n",
    "modify!(dsl_big,[:x1,:x2,:x3] .=> byrow(x -> (x*100)));\n",
    "modify!(dsl_big,[:x1,:x2,:x3] .=> byrow(round), [:x1,:x2,:x3] .=> byrow(Int));\n",
    "\n",
    "dsr_big = Dataset(rand(10^3, 5), :auto);\n",
    "modify!(dsr_big,[:x1,:x2,:x3] .=> byrow(x -> (x*100)));\n",
    "modify!(dsr_big,[:x1,:x2,:x3] .=> byrow(round), [:x1,:x2,:x3] .=> byrow(Int));\n",
    "function x2y(str)\n",
    "  replace(str,'x' => 'y')\n",
    "end\n",
    "rename!(x2y,dsr_big);\n",
    "\n",
    "dsl_big2 = Dataset(rand(10^4, 5), :auto);\n",
    "modify!(dsl_big2,[:x1,:x2,:x3] .=> byrow(x -> (x*100)));\n",
    "modify!(dsl_big2,[:x1,:x2,:x3] .=> byrow(round), [:x1,:x2,:x3] .=> byrow(Int));\n",
    "\n",
    "dsr_big2 = Dataset(rand(10^4, 5), :auto);\n",
    "modify!(dsr_big2,[:x1,:x2,:x3] .=> byrow(x -> (x*100)));\n",
    "modify!(dsr_big2,[:x1,:x2,:x3] .=> byrow(round), [:x1,:x2,:x3] .=> byrow(Int));\n",
    "function x2y(str)\n",
    "  replace(str,'x' => 'y')\n",
    "end\n",
    "rename!(x2y,dsr_big2);"
   ]
  },
  {
   "cell_type": "markdown",
   "metadata": {},
   "source": [
    "# Function src"
   ]
  },
  {
   "cell_type": "code",
   "execution_count": 50,
   "metadata": {},
   "outputs": [
    {
     "data": {
      "text/plain": [
       "fill_right_res (generic function with 1 method)"
      ]
     },
     "metadata": {},
     "output_type": "display_data"
    }
   ],
   "source": [
    "function my_cartesianjoin_v5(dsl::AbstractDataset, dsr::AbstractDataset;\n",
    "  on=nothing, threads::Bool=true, flag=ones(Bool, nrow(dsl) * nrow(dsr)))\n",
    "\n",
    "  reset_timer!()\n",
    "\n",
    "  @timeit \"Step-0 Syntax\" begin\n",
    "    dsr_cols = Symbol[]\n",
    "    equalon_dsr_cols = Symbol[]\n",
    "    conditions = Function[]\n",
    "  \n",
    "    for element in map(x -> x.second, on)\n",
    "      if typeof(element) <: Pair\n",
    "        push!(dsr_cols, element.first)\n",
    "        push!(conditions, element.second)\n",
    "      else\n",
    "        push!(dsr_cols, element)\n",
    "        push!(equalon_dsr_cols, element)\n",
    "        push!(conditions, isequal)\n",
    "      end\n",
    "    end\n",
    "  \n",
    "    onleft = IMD.multiple_getindex(IMD.index(dsl), map(x -> x.first, on))\n",
    "    onright = IMD.multiple_getindex(IMD.index(dsr), dsr_cols)\n",
    "  \n",
    "    equalon_dsr_cols = IMD.multiple_getindex(IMD.index(dsr), equalon_dsr_cols)\n",
    "    right_cols = setdiff(1:length(IMD.index(dsr)), equalon_dsr_cols)\n",
    "  \n",
    "    l_len = nrow(dsl)\n",
    "    r_len = nrow(dsr)\n",
    "  end\n",
    "\n",
    "\n",
    "\n",
    "  # get flag\n",
    "  @timeit \"Step-1 Flag vector\" cross_compare_vec(dsl, dsr, flag, conditions, onleft, onright, l_len, r_len, threads)\n",
    "  #cross_compare(dsl,dsr,flag,conditions,onleft,onright,threads)\n",
    "  #println(flag)\n",
    "\n",
    "  @timeit \"Step-2 New ds\" newds = generate_newds_v5(flag, dsl, dsr, l_len, r_len, right_cols)\n",
    "\n",
    "  print_timer()\n",
    "  newds #flag, nds\n",
    "end\n",
    "\n",
    "function cross_compare_vec(dsl, dsr,\n",
    "  flag, conditions, onleft, onright, l_len, r_len, threads)\n",
    "\n",
    "  oncols_left = onleft\n",
    "  oncols_right = onright\n",
    "\n",
    "  for i in eachindex(conditions)  #1:length(conditions)  # Each conditions 每个条件\n",
    "    fun = conditions[i]\n",
    "\n",
    "    IMD.@_threadsfor threads for j in 1:l_len  # each row in dsl\n",
    "      cur_index = (j - 1) * l_len\n",
    "      _op_for_dsrcol(flag, fun, cur_index,\n",
    "       IMD._columns(dsl)[onleft[i]][j], IMD._columns(dsr)[onright[i]],\n",
    "        r_len)\n",
    "    end\n",
    "\n",
    "  end\n",
    "\n",
    "end\n",
    "\n",
    "function _op_for_dsrcol(flag, fun, cur_index, x, r_col, r_len)\n",
    "  for k in 1:r_len\n",
    "    flag[cur_index+k] == 0 && continue\n",
    "    #println(IMD._columns(dsl)[oncols_left[i]][j],\",\",cur_index,\",\",IMD._columns(dsr)[oncols_right[i]][k])\n",
    "    flag[cur_index+k] &= fun(x, r_col[k])\n",
    "  end\n",
    "end\n",
    "\n",
    "function generate_newds_v5(flag, dsl, dsr, l_len, r_len, right_cols, threads=true)\n",
    "  T = Int32\n",
    "\n",
    "  ## new left\n",
    "  ### step-1\n",
    "  @timeit \"2-1 left row count\" begin\n",
    "    dsl_count = Vector{T}(undef, nrow(dsl))  # left每一行对应几个右边\n",
    "\n",
    "    find_count_for_left(flag, dsl_count, l_len, r_len)\n",
    "\n",
    "    new_ends = cumsum(dsl_count)  # 累计和\n",
    "    total_length = new_ends[end]\n",
    "  end\n",
    "\n",
    "  ### step-2\n",
    "  @timeit \"2-2 left row _res\" begin\n",
    "    res = []  # 固定尺寸不用push？\n",
    "    for j in 1:length(IMD.index(dsl))  # left 的每一列\n",
    "      @timeit \"2.1 init _res\" _res = IMD.allocatecol(IMD._columns(dsl)[j], total_length, addmissing=false)  # \n",
    "\n",
    "      @timeit \"2.2 fill _res\" fill_left_res(_res, IMD._columns(dsl)[j], dsl_count, new_ends, threads)\n",
    "\n",
    "      @timeit \"2.3 push _res\" push!(res, _res)\n",
    "    end\n",
    "  end\n",
    "\n",
    "  ### step-3\n",
    "  @timeit \"2-3 newds dsl\" begin\n",
    "    if dsl isa SubDataset\n",
    "      newds = Dataset(res, copy(IMD.index(dsl)), copycols=false)\n",
    "    else\n",
    "      newds = Dataset(res, IMD.Index(copy(IMD.index(dsl).lookup), copy(IMD.index(dsl).names), copy(IMD.index(dsl).format)), copycols=false)\n",
    "    end\n",
    "  end\n",
    "\n",
    "  ## new right\n",
    "  #println(\"Cerating right\")\n",
    "  @timeit \"2-4 findall dsr idx\" begin\n",
    "    ### step-4\n",
    "    @timeit \"4.1 findall func\" dsr_idx = findall(isone, flag)  # 全局索引，要去做出局部索引\n",
    "    for i in 1:l_len\n",
    "      dsl_count[i] == 0 && continue\n",
    "\n",
    "      i == 1 ? lo = 1 : lo = new_ends[i-1] + 1\n",
    "      hi = new_ends[i]\n",
    "\n",
    "      dsr_idx[lo:hi] .-= (i - 1) * r_len\n",
    "      #for k in lo:hi\n",
    "      #    all[k] -= (i-1)*r_len\n",
    "      #end\n",
    "    end\n",
    "  end\n",
    "\n",
    "  @timeit \"2-5 newds dsr\" begin\n",
    "    ### step-5\n",
    "    #println(\"Nesting\")\n",
    "    for j in eachindex(right_cols) #1:length(right_cols)   # right 的每一列\n",
    "      @timeit \"5.1 init _res\" _res = IMD.allocatecol(IMD._columns(dsr)[right_cols[j]], total_length, addmissing=false)  # 空的dsr\n",
    "\n",
    "      @timeit \"5.2 fill _res\" fill_right_res(_res, IMD._columns(dsr)[right_cols[j]], dsr_idx, threads)\n",
    "\n",
    "      #println(_res)\n",
    "      push!(IMD._columns(newds), _res)\n",
    "      new_var_name = IMD.make_unique([IMD._names(dsl); IMD._names(dsr)[right_cols[j]]], makeunique=true)[end]\n",
    "      push!(IMD.index(newds), new_var_name)\n",
    "      setformat!(newds, IMD.index(newds)[new_var_name], getformat(dsr, IMD._names(dsr)[right_cols[j]]))\n",
    "    end\n",
    "  end\n",
    "\n",
    "  newds\n",
    "end\n",
    "\n",
    "function find_count_for_left(flag, dsl_count, l_len, r_len)\n",
    "  for i in 1:l_len\n",
    "    lo = 1 + (i - 1) * r_len\n",
    "    hi = lo + r_len - 1\n",
    "    #push!(dsl_count,count(==(true),flag[lo:hi]))\n",
    "    @inbounds dsl_count[i] = count(view(flag, lo:hi))\n",
    "  end\n",
    "end\n",
    "\n",
    "function fill_left_res(_res, l_col, dsl_count, new_ends, threads)\n",
    "  # x = IMD._columns(dsl)[j] # 这一步可以隔离\n",
    "  # 左侧填充\n",
    "  IMD.@_threadsfor threads for i in eachindex(l_col)# 1:length(l_col)\n",
    "    dsl_count[i] == 0 && continue\n",
    "    i == 1 ? lo = 1 : lo = new_ends[i-1] + 1\n",
    "    hi = new_ends[i]\n",
    "    IMD._fill_val_join!(_res, lo:hi, l_col[i])\n",
    "  end\n",
    "end\n",
    "\n",
    "function fill_right_res(_res, r_col, dsr_idx, threads)\n",
    "  IMD.@_threadsfor threads for i in eachindex(dsr_idx)#1:length(dsr_idx) # 1:length(l_len)  # left 的每一列\n",
    "    _res[i] = r_col[dsr_idx[i]]\n",
    "  end\n",
    "end\n",
    "\n"
   ]
  },
  {
   "cell_type": "code",
   "execution_count": 45,
   "metadata": {},
   "outputs": [
    {
     "data": {
      "text/plain": [
       "fun1 (generic function with 1 method)"
      ]
     },
     "metadata": {},
     "output_type": "display_data"
    }
   ],
   "source": [
    "function fun1(x,y) \n",
    "  x <= y\n",
    "end"
   ]
  },
  {
   "cell_type": "code",
   "execution_count": 52,
   "metadata": {},
   "outputs": [
    {
     "name": "stdout",
     "output_type": "stream",
     "text": [
      "\u001b[0m\u001b[1m ────────────────────────────────────────────────────────────────────────────────\u001b[22m\n",
      "\u001b[0m\u001b[1m                               \u001b[22m         Time                    Allocations      \n",
      "                               ───────────────────────   ────────────────────────\n",
      "       Tot / % measured:           2.87ms /  99.5%           68.1KiB /  96.6%    \n",
      "\n",
      " Section               ncalls     time    %tot     avg     alloc    %tot      avg\n",
      " ────────────────────────────────────────────────────────────────────────────────\n",
      " Step-2 New ds              1   2.37ms   83.0%  2.37ms   55.8KiB   84.8%  55.8KiB\n",
      "   2-2 left row _res        1   1.26ms   44.3%  1.26ms   21.5KiB   32.7%  21.5KiB\n",
      "     2.2 fill _res          5   1.05ms   36.7%   210μs   18.4KiB   28.0%  3.69KiB\n",
      "     2.1 init _res          5    185μs    6.5%  37.0μs      784B    1.2%     157B\n",
      "     2.3 push _res          5   3.88μs    0.1%   777ns     80.0B    0.1%    16.0B\n",
      "   2-5 newds dsr            1   1.04ms   36.3%  1.04ms   27.0KiB   41.0%  27.0KiB\n",
      "     5.2 fill _res          4    715μs   25.1%   179μs   14.6KiB   22.2%  3.65KiB\n",
      "     5.1 init _res          4    102μs    3.6%  25.6μs      624B    0.9%     156B\n",
      "   2-3 newds dsl            1   41.5μs    1.5%  41.5μs   2.25KiB    3.4%  2.25KiB\n",
      "   2-4 findall dsr idx      1   12.9μs    0.5%  12.9μs   1.16KiB    1.8%  1.16KiB\n",
      "     4.1 findall func       1   9.59μs    0.3%  9.59μs      224B    0.3%     224B\n",
      "   2-1 left row count       1   2.98μs    0.1%  2.98μs      176B    0.3%     176B\n",
      " Step-1 Flag vector         1    412μs   14.4%   412μs   8.47KiB   12.9%  8.47KiB\n",
      " Step-0 Syntax              1   72.6μs    2.5%  72.6μs   1.56KiB    2.4%  1.56KiB\n",
      "\u001b[0m\u001b[1m ────────────────────────────────────────────────────────────────────────────────\u001b[22m\n"
     ]
    },
    {
     "data": {
      "text/html": [
       "<table class=\"data-set\"><thead><tr><th></th><th>xid</th><th>x1</th><th>x2</th><th>x3</th><th>x4</th><th>y1</th><th>y2</th><th>y3</th><th>y4</th></tr><th></th><th>identity</th><th>identity</th><th>identity</th><th>identity</th><th>identity</th><th>identity</th><th>identity</th><th>identity</th><th>identity</th></tr><tr><th></th><th title=\"Union{Missing, Int64}\">Int64?</th><th title=\"Union{Missing, Int64}\">Int64?</th><th title=\"Union{Missing, Float64}\">Float64?</th><th title=\"Union{Missing, Date}\">Date?</th><th title=\"Union{Missing, String}\">String?</th><th title=\"Union{Missing, Int64}\">Int64?</th><th title=\"Union{Missing, Int64}\">Int64?</th><th title=\"Union{Missing, Date}\">Date?</th><th title=\"Union{Missing, String}\">String?</th></tr></thead><tbody><p>4 rows × 9 columns</p><tr><th>1</th><td>111</td><td>1</td><td>-1.2</td><td>2019-10-03</td><td>abcd</td><td>3</td><td>0</td><td>2019-10-01</td><td>abc</td></tr><tr><th>2</th><td>111</td><td>1</td><td>-1.2</td><td>2019-10-03</td><td>abcd</td><td>3</td><td>0</td><td>2019-10-01</td><td>abcd</td></tr><tr><th>3</th><td>222</td><td>2</td><td>-3.0</td><td>2019-09-30</td><td>efgh</td><td>3</td><td>-3</td><td>2019-09-30</td><td>efg</td></tr><tr><th>4</th><td>444</td><td>4</td><td>-3.5</td><td>2019-10-03</td><td>mnop</td><td>3</td><td>1</td><td>2019-10-05</td><td>mnop</td></tr></tbody></table>"
      ],
      "text/latex": [
       "\\begin{tabular}{r|ccccccccc}\n",
       "\t& xid & x1 & x2 & x3 & x4 & y1 & y2 & y3 & y4\\\\\n",
       "\t\\hline\n",
       "\t& identity & identity & identity & identity & identity & identity & identity & identity & identity\\\\\n",
       "\t\\hline\n",
       "\t& Int64? & Int64? & Float64? & Date? & String? & Int64? & Int64? & Date? & String?\\\\\n",
       "\t\\hline\n",
       "\t1 & 111 & 1 & -1.2 & 2019-10-03 & abcd & 3 & 0 & 2019-10-01 & abc \\\\\n",
       "\t2 & 111 & 1 & -1.2 & 2019-10-03 & abcd & 3 & 0 & 2019-10-01 & abcd \\\\\n",
       "\t3 & 222 & 2 & -3.0 & 2019-09-30 & efgh & 3 & -3 & 2019-09-30 & efg \\\\\n",
       "\t4 & 444 & 4 & -3.5 & 2019-10-03 & mnop & 3 & 1 & 2019-10-05 & mnop \\\\\n",
       "\\end{tabular}\n"
      ],
      "text/plain": [
       "\u001b[1m4×9 Dataset\u001b[0m\n",
       "\u001b[1m Row \u001b[0m│\u001b[1m xid      \u001b[0m\u001b[1m x1       \u001b[0m\u001b[1m x2       \u001b[0m\u001b[1m x3         \u001b[0m\u001b[1m x4       \u001b[0m\u001b[1m y1       \u001b[0m\u001b[1m y2       \u001b[0m\u001b[1m\u001b[0m ⋯\n",
       "\u001b[1m     \u001b[0m│\u001b[90m identity \u001b[0m\u001b[90m identity \u001b[0m\u001b[90m identity \u001b[0m\u001b[90m identity   \u001b[0m\u001b[90m identity \u001b[0m\u001b[90m identity \u001b[0m\u001b[90m identity \u001b[0m\u001b[90m\u001b[0m ⋯\n",
       "\u001b[1m     \u001b[0m│\u001b[90m Int64?   \u001b[0m\u001b[90m Int64?   \u001b[0m\u001b[90m Float64? \u001b[0m\u001b[90m Date?      \u001b[0m\u001b[90m String?  \u001b[0m\u001b[90m Int64?   \u001b[0m\u001b[90m Int64?   \u001b[0m\u001b[90m\u001b[0m ⋯\n",
       "─────┼──────────────────────────────────────────────────────────────────────────\n",
       "   1 │      111         1      -1.2  2019-10-03  abcd             3         0  ⋯\n",
       "   2 │      111         1      -1.2  2019-10-03  abcd             3         0\n",
       "   3 │      222         2      -3.0  2019-09-30  efgh             3        -3\n",
       "   4 │      444         4      -3.5  2019-10-03  mnop             3         1\n",
       "\u001b[36m                                                               2 columns omitted\u001b[0m"
      ]
     },
     "metadata": {},
     "output_type": "display_data"
    }
   ],
   "source": [
    "nds = my_cartesianjoin_v5(dsl,dsr,\n",
    "  on = [:xid=>:yid, :x2=>:y2=>fun1]); # :x1=>:y1=>isless, \n",
    "nds"
   ]
  },
  {
   "cell_type": "code",
   "execution_count": 48,
   "metadata": {},
   "outputs": [
    {
     "name": "stdout",
     "output_type": "stream",
     "text": [
      "\u001b[0m\u001b[1m ────────────────────────────────────────────────────────────────────────────────\u001b[22m\n",
      "\u001b[0m\u001b[1m                               \u001b[22m         Time                    Allocations      \n",
      "                               ───────────────────────   ────────────────────────\n",
      "       Tot / % measured:           92.6ms / 100.0%           5.88MiB / 100.0%    \n",
      "\n",
      " Section               ncalls     time    %tot     avg     alloc    %tot      avg\n",
      " ────────────────────────────────────────────────────────────────────────────────\n",
      " Step-2 New ds              1   62.0ms   67.0%  62.0ms   4.26MiB   72.4%  4.26MiB\n",
      "   2-5 newds dsr            1   57.2ms   61.8%  57.2ms   3.74MiB   63.6%  3.74MiB\n",
      "   2-2 left row _res        1   2.89ms    3.1%  2.89ms    252KiB    4.2%   252KiB\n",
      "     2.2 fill _res          5   2.59ms    2.8%   517μs   18.5KiB    0.3%  3.71KiB\n",
      "     2.1 init _res          5    271μs    0.3%  54.2μs    231KiB    3.8%  46.2KiB\n",
      "     2.3 push _res          5   4.19μs    0.0%   837ns     80.0B    0.0%    16.0B\n",
      "   2-1 left row count       1   1.38ms    1.5%  1.38ms   12.0KiB    0.2%  12.0KiB\n",
      "   2-4 findall dsr idx      1    465μs    0.5%   465μs    262KiB    4.4%   262KiB\n",
      "   2-3 newds dsl            1   34.8μs    0.0%  34.8μs   2.33KiB    0.0%  2.33KiB\n",
      " Step-1 Flag vector         1   30.5ms   33.0%  30.5ms   1.62MiB   27.6%  1.62MiB\n",
      " Step-0 Syntax              1   32.4μs    0.0%  32.4μs   1.59KiB    0.0%  1.59KiB\n",
      "\u001b[0m\u001b[1m ────────────────────────────────────────────────────────────────────────────────\u001b[22m\n"
     ]
    }
   ],
   "source": [
    "nds = my_cartesianjoin_v5(dsl_big,dsr_big,\n",
    "  on = [:x1 => :y1, :x2 => :y2 => fun1],threads=true);"
   ]
  },
  {
   "cell_type": "code",
   "execution_count": 53,
   "metadata": {},
   "outputs": [
    {
     "name": "stdout",
     "output_type": "stream",
     "text": [
      "\u001b[0m\u001b[1m ────────────────────────────────────────────────────────────────────────────────\u001b[22m\n",
      "\u001b[0m\u001b[1m                               \u001b[22m         Time                    Allocations      \n",
      "                               ───────────────────────   ────────────────────────\n",
      "       Tot / % measured:            451ms / 100.0%           65.8MiB / 100.0%    \n",
      "\n",
      " Section               ncalls     time    %tot     avg     alloc    %tot      avg\n",
      " ────────────────────────────────────────────────────────────────────────────────\n",
      " Step-2 New ds              1    336ms   74.4%   336ms   63.4MiB   96.4%  63.4MiB\n",
      "   2-1 left row count       1    182ms   40.4%   182ms    117KiB    0.2%   117KiB\n",
      "   2-5 newds dsr            1   88.5ms   19.6%  88.5ms   21.0MiB   32.0%  21.0MiB\n",
      "     5.2 fill _res          4   87.3ms   19.4%  21.8ms   3.55MiB    5.4%   908KiB\n",
      "     5.1 init _res          4    852μs    0.2%   213μs   17.5MiB   26.6%  4.37MiB\n",
      "   2-4 findall dsr idx      1   61.5ms   13.6%  61.5ms   20.4MiB   31.0%  20.4MiB\n",
      "     4.1 findall func       1   50.5ms   11.2%  50.5ms   15.8MiB   24.0%  15.8MiB\n",
      "   2-2 left row _res        1   3.45ms    0.8%  3.45ms   21.9MiB   33.2%  21.9MiB\n",
      "     2.2 fill _res          5   2.64ms    0.6%   528μs   18.4KiB    0.0%  3.68KiB\n",
      "     2.1 init _res          5    774μs    0.2%   155μs   21.8MiB   33.2%  4.37MiB\n",
      "     2.3 push _res          5   5.44μs    0.0%  1.09μs     80.0B    0.0%    16.0B\n",
      "   2-3 newds dsl            1   35.8μs    0.0%  35.8μs   2.33KiB    0.0%  2.33KiB\n",
      " Step-1 Flag vector         1    115ms   25.6%   115ms   2.37MiB    3.6%  2.37MiB\n",
      " Step-0 Syntax              1   39.0μs    0.0%  39.0μs   1.59KiB    0.0%  1.59KiB\n",
      "\u001b[0m\u001b[1m ────────────────────────────────────────────────────────────────────────────────\u001b[22m\n"
     ]
    }
   ],
   "source": [
    "nds = my_cartesianjoin_v5(dsl_big2,dsr_big2,\n",
    "  on = [:x1 => :y1, :x2 => :y2 => fun1],threads=true);"
   ]
  },
  {
   "cell_type": "code",
   "execution_count": 74,
   "metadata": {},
   "outputs": [
    {
     "name": "stdout",
     "output_type": "stream",
     "text": [
      "\u001b[0m\u001b[1m ────────────────────────────────────────────────────────────────────────────────\u001b[22m\n",
      "\u001b[0m\u001b[1m                               \u001b[22m         Time                    Allocations      \n",
      "                               ───────────────────────   ────────────────────────\n",
      "       Tot / % measured:            274ms / 100.0%           37.4MiB / 100.0%    \n",
      "\n",
      " Section               ncalls     time    %tot     avg     alloc    %tot      avg\n",
      " ────────────────────────────────────────────────────────────────────────────────\n",
      " Step-2 New ds              1    158ms   57.6%   158ms   36.1MiB   96.4%  36.1MiB\n",
      "   2-1 left row count       1    124ms   45.2%   124ms    117KiB    0.3%   117KiB\n",
      "   2-4 findall dsr idx      1   25.5ms    9.3%  25.5ms   16.4MiB   43.7%  16.4MiB\n",
      "     4.1 findall func       1   24.2ms    8.8%  24.2ms   13.9MiB   37.0%  13.9MiB\n",
      "   2-2 left row _res        1   4.53ms    1.7%  4.53ms   10.9MiB   29.0%  10.9MiB\n",
      "     2.2 fill _res          5   3.57ms    1.3%   715μs   18.5KiB    0.0%  3.69KiB\n",
      "     2.1 init _res          5    919μs    0.3%   184μs   10.9MiB   29.0%  2.17MiB\n",
      "     2.3 push _res          5   3.67μs    0.0%   735ns     80.0B    0.0%    16.0B\n",
      "   2-5 newds dsr            1   3.90ms    1.4%  3.90ms   8.71MiB   23.3%  8.71MiB\n",
      "     5.2 fill _res          4   2.89ms    1.1%   722μs   14.7KiB    0.0%  3.66KiB\n",
      "     5.1 init _res          4    803μs    0.3%   201μs   8.68MiB   23.2%  2.17MiB\n",
      "   2-3 newds dsl            1   39.1μs    0.0%  39.1μs   2.33KiB    0.0%  2.33KiB\n",
      " Step-1 Flag vector         1    116ms   42.4%   116ms   1.36MiB    3.6%  1.36MiB\n",
      " Step-0 Syntax              1   49.1μs    0.0%  49.1μs   1.67KiB    0.0%  1.67KiB\n",
      "\u001b[0m\u001b[1m ────────────────────────────────────────────────────────────────────────────────\u001b[22m\n",
      "  0.314953 seconds (102.06 k allocations: 132.935 MiB, 5.91% gc time)\n"
     ]
    },
    {
     "data": {
      "text/plain": [
       "252920"
      ]
     },
     "metadata": {},
     "output_type": "display_data"
    }
   ],
   "source": [
    "@time nds = my_cartesianjoin_v5(dsl_big2,dsr_big2,\n",
    "  on = [:x1 => :y1, :x2 => :y2 => isless, :x3 => :y3 => fun1],threads=true);\n",
    "nrow(nds)"
   ]
  },
  {
   "cell_type": "code",
   "execution_count": 69,
   "metadata": {},
   "outputs": [
    {
     "name": "stdout",
     "output_type": "stream",
     "text": [
      "  0.006194 seconds (1.69 k allocations: 683.359 KiB)\n"
     ]
    },
    {
     "data": {
      "text/plain": [
       "103"
      ]
     },
     "metadata": {},
     "output_type": "display_data"
    }
   ],
   "source": [
    "@time  nds2 = innerjoin(dsl_big2,dsr_big2,\n",
    "        on = [:x1 => :y1, :x2 => :y2, :x3 => :y3]);\n",
    "nrow(nds2)"
   ]
  }
 ],
 "metadata": {
  "kernelspec": {
   "display_name": "Julia 1.7.3",
   "language": "julia",
   "name": "julia-1.7"
  },
  "language_info": {
   "file_extension": ".jl",
   "mimetype": "application/julia",
   "name": "julia",
   "version": "1.7.3"
  },
  "orig_nbformat": 4,
  "vscode": {
   "interpreter": {
    "hash": "aee8b7b246df8f9039afb4144a1f6fd8d2ca17a180786b69acc140d282b71a49"
   }
  }
 },
 "nbformat": 4,
 "nbformat_minor": 2
}
